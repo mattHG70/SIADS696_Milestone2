{
 "cells": [
  {
   "cell_type": "code",
   "execution_count": 1,
   "id": "db34002a-4498-42d1-bb70-cef0c5716ddf",
   "metadata": {},
   "outputs": [],
   "source": [
    "%load_ext autoreload\n",
    "%autoreload 2"
   ]
  },
  {
   "cell_type": "markdown",
   "id": "cb65f47d-104f-433e-9e38-23f1e35904c2",
   "metadata": {},
   "source": [
    "# Neural Network For MoA Prediction"
   ]
  },
  {
   "cell_type": "code",
   "execution_count": 2,
   "id": "c7038a72-b9d1-4e20-9c94-ea41c1f35ccd",
   "metadata": {},
   "outputs": [],
   "source": [
    "import os\n",
    "import glob\n",
    "import itertools\n",
    "import pandas as pd\n",
    "import numpy as np\n",
    "\n",
    "from torch.utils.data import DataLoader, SubsetRandomSampler\n",
    "\n",
    "import torch\n",
    "import torch.nn as nn\n",
    "import torch.nn.functional as F\n",
    "\n",
    "import ms2_model\n",
    "from ms2_model import Net3072\n",
    "from ms2_dataset import EmbedVecDataset\n",
    "\n",
    "from sklearn.metrics import accuracy_score, confusion_matrix\n",
    "\n",
    "import matplotlib.pyplot as plt\n",
    "import seaborn as sns"
   ]
  },
  {
   "cell_type": "markdown",
   "id": "91c645ee-1eac-4e51-8dc0-cd921fe5ff30",
   "metadata": {},
   "source": [
    "Define paths, file names and random_state used in the notebook."
   ]
  },
  {
   "cell_type": "code",
   "execution_count": 3,
   "id": "fa23fd9e-75a2-4238-97a2-589e94e4d11a",
   "metadata": {},
   "outputs": [],
   "source": [
    "data_dir = \"~/siads696/data\"\n",
    "image_dir = \"/home/mhuebsch/SIADS696_Milestone2/images\"\n",
    "train_test_split = \"compound_moas_trainVtest.csv\"\n",
    "\n",
    "# Same training and test files used in gridsearch crossvalidation\n",
    "train_data_file = \"full_train_moa.parquet\"\n",
    "test_data_file = \"full_test.parquet\"\n",
    "cross_val_file_pattern = \"nn_Net3072_cv_results_*.parquet\"\n",
    "random_state = 764"
   ]
  },
  {
   "cell_type": "markdown",
   "id": "b21cfc54-4717-4771-8762-4fa485350ede",
   "metadata": {},
   "source": [
    "Check device and use GPU if available."
   ]
  },
  {
   "cell_type": "code",
   "execution_count": 4,
   "id": "d1ca1065-3517-4ae5-8366-2cc9652a5b8f",
   "metadata": {},
   "outputs": [
    {
     "name": "stdout",
     "output_type": "stream",
     "text": [
      "Device: cpu\n"
     ]
    }
   ],
   "source": [
    "device = torch.device(\"cuda\" if torch.cuda.is_available() else \"cpu\")\n",
    "print(f\"Device: {device}\")"
   ]
  },
  {
   "cell_type": "markdown",
   "id": "3c2d5f44-4b8e-44a1-a098-e12e66395134",
   "metadata": {},
   "source": [
    "Load the training and test datasets.  \n",
    "Load the gridsearch chunks and concatenate to create the result dataframe."
   ]
  },
  {
   "cell_type": "code",
   "execution_count": 5,
   "id": "72cba32f-bc90-4a77-86d5-fee4df65891a",
   "metadata": {},
   "outputs": [],
   "source": [
    "df_train_data = pd.read_parquet(os.path.join(data_dir, train_data_file))\n",
    "df_test_data = pd.read_parquet(os.path.join(data_dir, test_data_file))\n",
    "\n",
    "# Load and concatenate the gridsearch result files\n",
    "cv_dfs = list()\n",
    "for file in glob.glob(os.path.join(os.path.expanduser(data_dir), cross_val_file_pattern)):\n",
    "    cv_dfs.append(pd.read_parquet(file))\n",
    "df_cross_val = pd.concat(cv_dfs, ignore_index=True)"
   ]
  },
  {
   "cell_type": "code",
   "execution_count": 6,
   "id": "d27ec3b2-b65a-4e32-a77d-01fc89584536",
   "metadata": {},
   "outputs": [],
   "source": [
    "# fix my stupid typos ;-)\n",
    "df_cross_val = df_cross_val.rename(columns={\"trianing_loss mean\": \"training_loss mean\", \"validaton_acc mean\": \"validation_acc mean\"})"
   ]
  },
  {
   "cell_type": "code",
   "execution_count": 7,
   "id": "9a3ef8dd-8631-4ba7-b86b-1514ad3aea74",
   "metadata": {},
   "outputs": [],
   "source": [
    "df_cross_val[\"abs_diff_acc\"] = np.absolute(df_cross_val[\"training_acc mean\"] - df_cross_val[\"validation_acc mean\"])\n",
    "df_cross_val[\"abs_diff_loss\"] = np.absolute(df_cross_val[\"training_loss mean\"] - df_cross_val[\"validation_loss mean\"])"
   ]
  },
  {
   "cell_type": "markdown",
   "id": "b6b9c3c8-e2a6-4095-93dd-9c38f68cfd59",
   "metadata": {},
   "source": [
    "Sort the result by ascending ´validation_loss mean´ to get the hyperparameters which minimize the loss.  \n",
    "It can be noticed that the differenct between training and validation loss is quite large. We suspect that this mainly due to the amount of training and validation data. The validation is done on one compound which only contains 96 field of view embedding vectors."
   ]
  },
  {
   "cell_type": "code",
   "execution_count": 8,
   "id": "9727dfa0-f329-4bdc-8418-eeb84db08443",
   "metadata": {},
   "outputs": [
    {
     "data": {
      "text/html": [
       "<div>\n",
       "<style scoped>\n",
       "    .dataframe tbody tr th:only-of-type {\n",
       "        vertical-align: middle;\n",
       "    }\n",
       "\n",
       "    .dataframe tbody tr th {\n",
       "        vertical-align: top;\n",
       "    }\n",
       "\n",
       "    .dataframe thead th {\n",
       "        text-align: right;\n",
       "    }\n",
       "</style>\n",
       "<table border=\"1\" class=\"dataframe\">\n",
       "  <thead>\n",
       "    <tr style=\"text-align: right;\">\n",
       "      <th></th>\n",
       "      <th>learning_rate</th>\n",
       "      <th>batch_size</th>\n",
       "      <th>epochs</th>\n",
       "      <th>training_loss mean</th>\n",
       "      <th>training_loss std</th>\n",
       "      <th>training_acc mean</th>\n",
       "      <th>training_acc std</th>\n",
       "      <th>validation_loss mean</th>\n",
       "      <th>validation_loss std</th>\n",
       "      <th>validation_acc mean</th>\n",
       "      <th>validation_acc std</th>\n",
       "      <th>abs_diff_acc</th>\n",
       "      <th>abs_diff_loss</th>\n",
       "    </tr>\n",
       "  </thead>\n",
       "  <tbody>\n",
       "    <tr>\n",
       "      <th>5</th>\n",
       "      <td>0.0001</td>\n",
       "      <td>32</td>\n",
       "      <td>20</td>\n",
       "      <td>0.400070</td>\n",
       "      <td>0.025809</td>\n",
       "      <td>0.871635</td>\n",
       "      <td>0.010226</td>\n",
       "      <td>2.349046</td>\n",
       "      <td>1.935855</td>\n",
       "      <td>0.452586</td>\n",
       "      <td>0.210243</td>\n",
       "      <td>0.419049</td>\n",
       "      <td>1.948977</td>\n",
       "    </tr>\n",
       "    <tr>\n",
       "      <th>4</th>\n",
       "      <td>0.0001</td>\n",
       "      <td>32</td>\n",
       "      <td>15</td>\n",
       "      <td>0.507703</td>\n",
       "      <td>0.026901</td>\n",
       "      <td>0.840206</td>\n",
       "      <td>0.010087</td>\n",
       "      <td>2.360785</td>\n",
       "      <td>1.751862</td>\n",
       "      <td>0.436063</td>\n",
       "      <td>0.206284</td>\n",
       "      <td>0.404143</td>\n",
       "      <td>1.853081</td>\n",
       "    </tr>\n",
       "    <tr>\n",
       "      <th>0</th>\n",
       "      <td>0.0010</td>\n",
       "      <td>32</td>\n",
       "      <td>15</td>\n",
       "      <td>0.660357</td>\n",
       "      <td>0.045892</td>\n",
       "      <td>0.771480</td>\n",
       "      <td>0.016558</td>\n",
       "      <td>2.650707</td>\n",
       "      <td>2.580449</td>\n",
       "      <td>0.459052</td>\n",
       "      <td>0.202707</td>\n",
       "      <td>0.312429</td>\n",
       "      <td>1.990350</td>\n",
       "    </tr>\n",
       "    <tr>\n",
       "      <th>2</th>\n",
       "      <td>0.0005</td>\n",
       "      <td>32</td>\n",
       "      <td>15</td>\n",
       "      <td>0.468980</td>\n",
       "      <td>0.035666</td>\n",
       "      <td>0.837157</td>\n",
       "      <td>0.013884</td>\n",
       "      <td>2.918109</td>\n",
       "      <td>2.657276</td>\n",
       "      <td>0.434267</td>\n",
       "      <td>0.212144</td>\n",
       "      <td>0.402890</td>\n",
       "      <td>2.449130</td>\n",
       "    </tr>\n",
       "    <tr>\n",
       "      <th>3</th>\n",
       "      <td>0.0005</td>\n",
       "      <td>32</td>\n",
       "      <td>20</td>\n",
       "      <td>0.400190</td>\n",
       "      <td>0.028545</td>\n",
       "      <td>0.858874</td>\n",
       "      <td>0.010361</td>\n",
       "      <td>2.945807</td>\n",
       "      <td>2.481233</td>\n",
       "      <td>0.452945</td>\n",
       "      <td>0.210084</td>\n",
       "      <td>0.405929</td>\n",
       "      <td>2.545617</td>\n",
       "    </tr>\n",
       "    <tr>\n",
       "      <th>1</th>\n",
       "      <td>0.0010</td>\n",
       "      <td>32</td>\n",
       "      <td>20</td>\n",
       "      <td>0.607356</td>\n",
       "      <td>0.041544</td>\n",
       "      <td>0.790278</td>\n",
       "      <td>0.015568</td>\n",
       "      <td>2.961155</td>\n",
       "      <td>2.572750</td>\n",
       "      <td>0.404274</td>\n",
       "      <td>0.184048</td>\n",
       "      <td>0.386003</td>\n",
       "      <td>2.353800</td>\n",
       "    </tr>\n",
       "  </tbody>\n",
       "</table>\n",
       "</div>"
      ],
      "text/plain": [
       "   learning_rate  batch_size  epochs  training_loss mean  training_loss std  \\\n",
       "5         0.0001          32      20            0.400070           0.025809   \n",
       "4         0.0001          32      15            0.507703           0.026901   \n",
       "0         0.0010          32      15            0.660357           0.045892   \n",
       "2         0.0005          32      15            0.468980           0.035666   \n",
       "3         0.0005          32      20            0.400190           0.028545   \n",
       "1         0.0010          32      20            0.607356           0.041544   \n",
       "\n",
       "   training_acc mean  training_acc std  validation_loss mean  \\\n",
       "5           0.871635          0.010226              2.349046   \n",
       "4           0.840206          0.010087              2.360785   \n",
       "0           0.771480          0.016558              2.650707   \n",
       "2           0.837157          0.013884              2.918109   \n",
       "3           0.858874          0.010361              2.945807   \n",
       "1           0.790278          0.015568              2.961155   \n",
       "\n",
       "   validation_loss std  validation_acc mean  validation_acc std  abs_diff_acc  \\\n",
       "5             1.935855             0.452586            0.210243      0.419049   \n",
       "4             1.751862             0.436063            0.206284      0.404143   \n",
       "0             2.580449             0.459052            0.202707      0.312429   \n",
       "2             2.657276             0.434267            0.212144      0.402890   \n",
       "3             2.481233             0.452945            0.210084      0.405929   \n",
       "1             2.572750             0.404274            0.184048      0.386003   \n",
       "\n",
       "   abs_diff_loss  \n",
       "5       1.948977  \n",
       "4       1.853081  \n",
       "0       1.990350  \n",
       "2       2.449130  \n",
       "3       2.545617  \n",
       "1       2.353800  "
      ]
     },
     "execution_count": 8,
     "metadata": {},
     "output_type": "execute_result"
    }
   ],
   "source": [
    "df_cross_val = df_cross_val.sort_values([\"validation_loss mean\"], ascending=True)\n",
    "df_cross_val"
   ]
  },
  {
   "cell_type": "markdown",
   "id": "a0f64794-81b2-4983-8861-b784bb929337",
   "metadata": {},
   "source": [
    "Get the hyperparameters leading to the lowest validation loss."
   ]
  },
  {
   "cell_type": "code",
   "execution_count": 9,
   "id": "7c544d58-842c-4453-b732-3b92ce3fb1c2",
   "metadata": {},
   "outputs": [
    {
     "name": "stdout",
     "output_type": "stream",
     "text": [
      "Best validation loss parameters:\n",
      "Learning rate: 0.0001, batch size: 32, epochs: 20\n"
     ]
    }
   ],
   "source": [
    "learning_rate = float(df_cross_val.iloc[0,0])\n",
    "batch_size = int(df_cross_val.iloc[0,1])\n",
    "epochs = int(df_cross_val.iloc[0,2])\n",
    "print(f\"Best validation loss parameters:\\nLearning rate: {learning_rate}, batch size: {batch_size}, epochs: {epochs}\")"
   ]
  },
  {
   "cell_type": "markdown",
   "id": "2e79c0fa-92a6-4c6e-b62c-fb5b455317f3",
   "metadata": {},
   "source": [
    "Get the MoAs in the training set."
   ]
  },
  {
   "cell_type": "code",
   "execution_count": 10,
   "id": "d635cedb-20ab-4b82-9ed4-baa9d2557444",
   "metadata": {},
   "outputs": [],
   "source": [
    "moa_list = df_train_data[~df_train_data[\"Metadata_MoA\"].isnull()].loc[:, \"Metadata_MoA\"].unique().tolist()\n",
    "moa_dict = {moa: idx for moa, idx in zip(moa_list, range(len(moa_list)))}\n",
    "n_classes = len(moa_dict.keys())"
   ]
  },
  {
   "cell_type": "code",
   "execution_count": 11,
   "id": "9e8dfea8-f242-4d74-b752-063c8dd09164",
   "metadata": {},
   "outputs": [
    {
     "name": "stdout",
     "output_type": "stream",
     "text": [
      "MoA labels:\n",
      "{'Protein degradation': 0, 'Kinase inhibitors': 1, 'Protein synthesis': 2, 'DNA replication': 3, 'DNA damage': 4, 'Microtubule destabilizers': 5, 'Actin disruptors': 6, 'Microtubule stabilizers': 7, 'Cholesterol-lowering': 8, 'Eg5 inhibitors': 9, 'Aurora kinase inhibitors': 10, 'Epithelial': 11, 'DMSO': 12}\n",
      "Number of classes: 13\n"
     ]
    }
   ],
   "source": [
    "print(\"MoA labels:\")\n",
    "print(moa_dict)\n",
    "print(f\"Number of classes: {n_classes}\")"
   ]
  },
  {
   "cell_type": "markdown",
   "id": "0306dfbb-bff9-4eb2-92fc-90602ccf1bbd",
   "metadata": {},
   "source": [
    "Create the training and test Dataset and Dataloader to be used in the training and test step."
   ]
  },
  {
   "cell_type": "code",
   "execution_count": 12,
   "id": "bfad5c7b-ef4e-4092-b86f-f059ac14c3c7",
   "metadata": {},
   "outputs": [],
   "source": [
    "train_dataset = EmbedVecDataset(df_train_data, \"Metadata_MoA\", \"Z\", moa_dict)\n",
    "test_dataset = EmbedVecDataset(df_test_data, \"Metadata_MoA\", \"Z\", moa_dict)"
   ]
  },
  {
   "cell_type": "code",
   "execution_count": 13,
   "id": "dafffded-bdb3-44e8-8856-455b3bb84ea0",
   "metadata": {},
   "outputs": [],
   "source": [
    "train_dataloader = DataLoader(train_dataset, batch_size=batch_size, shuffle=True)\n",
    "test_dataloader = DataLoader(test_dataset, batch_size=batch_size, shuffle=False)"
   ]
  },
  {
   "cell_type": "markdown",
   "id": "55a47581-4a78-4c8a-a7f3-09d39daf72e3",
   "metadata": {},
   "source": [
    "Create the neural network model. Define the loss function and the optimizer."
   ]
  },
  {
   "cell_type": "code",
   "execution_count": 14,
   "id": "1122aa50-19d5-4e47-99ef-bf93c8a5761a",
   "metadata": {},
   "outputs": [
    {
     "name": "stderr",
     "output_type": "stream",
     "text": [
      "/home/mhuebsch/.conda/envs/ms2/lib/python3.12/site-packages/torch/cuda/__init__.py:619: UserWarning: Can't initialize NVML\n",
      "  warnings.warn(\"Can't initialize NVML\")\n"
     ]
    }
   ],
   "source": [
    "torch.manual_seed(random_state)\n",
    "model = Net3072(n_classes)\n",
    "loss_func = nn.CrossEntropyLoss()\n",
    "optimizer = torch.optim.Adam(model.parameters(), lr=learning_rate)"
   ]
  },
  {
   "cell_type": "markdown",
   "id": "50aa5f7c-9436-4e42-8f17-5617fbd9910a",
   "metadata": {},
   "source": [
    "Iterate through the epochs and record the training and test loss and accuracy."
   ]
  },
  {
   "cell_type": "code",
   "execution_count": 15,
   "id": "9b69f219-3343-4918-81af-b9b541d5cd8c",
   "metadata": {},
   "outputs": [
    {
     "name": "stdout",
     "output_type": "stream",
     "text": [
      "CPU times: user 5min 37s, sys: 717 ms, total: 5min 38s\n",
      "Wall time: 5min 45s\n"
     ]
    }
   ],
   "source": [
    "%%time\n",
    "training_records = list()\n",
    "test_reocrds = list()\n",
    "for epoch in range(epochs):\n",
    "    train_loss, train_corr = ms2_model.train_model(model, optimizer, loss_func, train_dataloader, device)\n",
    "    test_loss, test_corr = ms2_model.valid_model(model, loss_func, test_dataloader, device)\n",
    "    training_loss = train_loss / len(train_dataloader.dataset)\n",
    "    training_acc = train_corr / len(train_dataloader.dataset)\n",
    "    testing_loss = test_loss / len(test_dataloader.dataset)\n",
    "    testing_acc = test_corr / len(test_dataloader.dataset)\n",
    "    training_records.append((training_loss, training_acc, testing_loss, testing_acc))"
   ]
  },
  {
   "cell_type": "markdown",
   "id": "13504eca-eaf2-4e2a-b483-de14808848c9",
   "metadata": {},
   "source": [
    "Create the dataframe containing the training and test results.  \n",
    "Plot the loss and accuracy curves."
   ]
  },
  {
   "cell_type": "code",
   "execution_count": 16,
   "id": "b16e3322-86bb-45c9-bc55-415e37cd82aa",
   "metadata": {},
   "outputs": [],
   "source": [
    "df_training_data = pd.DataFrame.from_records(training_records, columns=[\"training_loss\", \"training_accuracy\", \"test_loss\", \"test_accuracy\"])\n",
    "df_training_data = df_training_data.reset_index()"
   ]
  },
  {
   "cell_type": "code",
   "execution_count": 17,
   "id": "92d3df3a-6b38-4f14-922a-67b4b327d058",
   "metadata": {},
   "outputs": [
    {
     "data": {
      "image/png": "[encoded data removed]",
      "text/plain": [
       "<Figure size 640x480 with 1 Axes>"
      ]
     },
     "metadata": {},
     "output_type": "display_data"
    }
   ],
   "source": [
    "fig, ax = plt.subplots()\n",
    "# lp = sns.lineplot(x=\"index\", y=\"training_loss\", data=df_training_data)\n",
    "sns.lineplot(data=df_training_data[\"training_accuracy\"], linestyle=\"solid\", label=\"Training\")\n",
    "sns.lineplot(data=df_training_data[\"test_accuracy\"], linestyle=\"solid\", label=\"Test\")\n",
    "ax.set_xticks(range(len(df_training_data)))\n",
    "ax.set_xticklabels(range(1, len(df_training_data)+1))\n",
    "ax.set_xlabel(\"Epochs\")\n",
    "ax.set_ylabel(\"Loss\")\n",
    "ax.legend(bbox_to_anchor= (1,1.02), title=\"Accuracy\")\n",
    "ax.set_title(\"MoA Classifiaction - NN\\nTraining-Test Accuracy\")\n",
    "plt.savefig(os.path.join(image_dir, \"nn_moa_accuracy.png\"), bbox_inches=\"tight\")\n",
    "plt.show()"
   ]
  },
  {
   "cell_type": "code",
   "execution_count": 18,
   "id": "42582f48-a9c8-4aa2-be35-5df61141ea49",
   "metadata": {},
   "outputs": [
    {
     "data": {
      "image/png": "[encoded data removed]",
      "text/plain": [
       "<Figure size 640x480 with 1 Axes>"
      ]
     },
     "metadata": {},
     "output_type": "display_data"
    }
   ],
   "source": [
    "fig, ax = plt.subplots()\n",
    "# lp = sns.lineplot(x=\"index\", y=\"training_loss\", data=df_training_data)\n",
    "sns.lineplot(data=df_training_data[\"training_loss\"], linestyle=\"solid\", label=\"Training\")\n",
    "sns.lineplot(data=df_training_data[\"test_loss\"], linestyle=\"solid\", label=\"Test\")\n",
    "ax.set_xticks(range(len(df_training_data)))\n",
    "ax.set_xticklabels(range(1, len(df_training_data)+1))\n",
    "ax.set_xlabel(\"Epochs\")\n",
    "ax.set_ylabel(\"Loss\")\n",
    "ax.legend(bbox_to_anchor= (1.24,1.02), title=\"Loss\")\n",
    "ax.set_title(\"MoA Classifiaction - NN\\nTraining-Test Loss\")\n",
    "plt.savefig(os.path.join(image_dir, \"nn_moa_loss.png\"), bbox_inches=\"tight\")\n",
    "plt.show()"
   ]
  },
  {
   "cell_type": "markdown",
   "id": "a6ebf259-6d06-43bb-b554-bb5f3566cedd",
   "metadata": {},
   "source": [
    "In contrast to the hyperparameters found in the gridsearch it looks like ´epoch = 5´ should be a good value. After epoch 5 the model starts to overfit heavily.  \n",
    "Let's train the model on 5 epochs only and compare the results."
   ]
  },
  {
   "cell_type": "code",
   "execution_count": 19,
   "id": "a171f0bd-386b-4501-9ca1-ffa02a9a5714",
   "metadata": {},
   "outputs": [],
   "source": [
    "torch.manual_seed(random_state)\n",
    "model_e5 = Net3072(n_classes)\n",
    "loss_func = nn.CrossEntropyLoss()\n",
    "optimizer = torch.optim.Adam(model_e5.parameters(), lr=learning_rate)"
   ]
  },
  {
   "cell_type": "markdown",
   "id": "737b657a-a2bf-42ae-b04e-803bb9ec7900",
   "metadata": {},
   "source": [
    "Train a new model on 5 epochs only."
   ]
  },
  {
   "cell_type": "code",
   "execution_count": 20,
   "id": "d9f6cf7f-83e9-4cc0-8a4e-3bd2b897cbf5",
   "metadata": {},
   "outputs": [
    {
     "name": "stdout",
     "output_type": "stream",
     "text": [
      "5 epochs training loss: 1.1261574207080152\n",
      "5 epochs training accuracy: 0.6559971860710517\n"
     ]
    }
   ],
   "source": [
    "for epoch in range(5):\n",
    "    train_loss, train_corr = ms2_model.train_model(model_e5, optimizer, loss_func, train_dataloader, device)\n",
    "    training_loss = train_loss / len(train_dataloader.dataset)\n",
    "    training_acc = train_corr / len(train_dataloader.dataset)\n",
    "print(f\"5 epochs training loss: {training_loss}\")\n",
    "print(f\"5 epochs training accuracy: {training_acc}\")"
   ]
  },
  {
   "cell_type": "markdown",
   "id": "c272c539-e124-415c-ad06-7db641710cce",
   "metadata": {},
   "source": [
    "Test the new model using the test dataset."
   ]
  },
  {
   "cell_type": "code",
   "execution_count": 21,
   "id": "3296c130-4412-4796-a9c5-d65d1618a196",
   "metadata": {},
   "outputs": [
    {
     "name": "stdout",
     "output_type": "stream",
     "text": [
      "5 epoch test loss: 0.9824676568542576\n",
      "5 epoch test accuracy 0.746841155234657\n"
     ]
    }
   ],
   "source": [
    "test_loss, yhat = ms2_model.test_model(model_e5, loss_func, test_dataloader, device)\n",
    "\n",
    "y_label = df_test_data[\"Metadata_MoA\"].map(moa_dict).tolist()\n",
    "accuracy = accuracy_score(y_label,yhat)\n",
    "test_loss = test_loss / len(test_dataloader.dataset)\n",
    "print(f\"5 epoch test loss: {test_loss}\")\n",
    "print(f\"5 epoch test accuracy {accuracy}\")"
   ]
  },
  {
   "cell_type": "markdown",
   "id": "e6b7979b-4851-42c4-af5e-259d52fe4189",
   "metadata": {},
   "source": [
    "Save the model."
   ]
  },
  {
   "cell_type": "code",
   "execution_count": 22,
   "id": "2b1bc1da-c801-40ec-a436-e812ad71cd7d",
   "metadata": {},
   "outputs": [],
   "source": [
    "torch.save(model_e5, \"/home/mhuebsch/SIADS696_Milestone2/models/nn_Net3072_e5.pt\")"
   ]
  },
  {
   "cell_type": "markdown",
   "id": "ecb9760b-b710-477d-aeaf-4c150a40f154",
   "metadata": {},
   "source": [
    "Create the confusion matrix based on test dataset."
   ]
  },
  {
   "cell_type": "code",
   "execution_count": 36,
   "id": "a22863e3-658d-486d-8086-1c3293b5b41d",
   "metadata": {},
   "outputs": [
    {
     "data": {
      "image/png": "[encoded data removed]",
      "text/plain": [
       "<Figure size 640x480 with 2 Axes>"
      ]
     },
     "metadata": {},
     "output_type": "display_data"
    }
   ],
   "source": [
    "cm = confusion_matrix(y_label, yhat, normalize=\"pred\")\n",
    "\n",
    "tick_labels = list(moa_dict.keys())\n",
    "# change label order to match other models confusion matrix\n",
    "label_list = [\"Actin disruptors\", \"Aurora kinase inhibitors\", \"Cholesterol-lowering\", \"DMSO\", \n",
    " \"DNA damage\", \"DNA replication\", \"Eg5 inhibitors\", \"Epithelial\", \"Kinase inhibitors\", \n",
    " \"Microtubule destabilizers\", \"Microtubule stabilizers\", \"Protein degradation\", \"Protein synthesis\"]\n",
    "\n",
    "df_cm = pd.DataFrame(cm, columns=tick_labels, index=tick_labels)\n",
    "\n",
    "# Change order of the rows and columsn in the confusion matrix\n",
    "df_cm = df_cm[label_list].reindex(label_list)\n",
    "\n",
    "# Set new column names and index to match other modesl confusion matrix\n",
    "new_lbl = list(range(n_classes))\n",
    "df_cm.columns = new_lbl\n",
    "df_cm = df_cm.set_index(pd.Index(new_lbl))\n",
    "\n",
    "fig, ax = plt.subplots()\n",
    "sns.heatmap(df_cm, cmap=\"coolwarm\", linewidths=.7, linecolor=\"white\")\n",
    "ax.set_title(\"Confusion Matrix - NN MoA classification\")\n",
    "plt.yticks(rotation=0, ha=\"right\")\n",
    "plt.savefig(os.path.join(image_dir, \"nn_moa_confmatrix.png\"), bbox_inches=\"tight\")\n",
    "plt.show()"
   ]
  },
  {
   "cell_type": "code",
   "execution_count": 25,
   "id": "98ff0327-ac7a-46cb-97e4-d46de22c7963",
   "metadata": {},
   "outputs": [
    {
     "name": "stdout",
     "output_type": "stream",
     "text": [
      "Net3072(\n",
      "  (linear_stack): Sequential(\n",
      "    (0): Linear(in_features=3072, out_features=1024, bias=True)\n",
      "    (1): ReLU()\n",
      "    (2): Dropout(p=0.5, inplace=False)\n",
      "    (3): Linear(in_features=1024, out_features=1024, bias=True)\n",
      "    (4): ReLU()\n",
      "    (5): Dropout(p=0.5, inplace=False)\n",
      "    (6): Linear(in_features=1024, out_features=13, bias=True)\n",
      "  )\n",
      ")\n"
     ]
    }
   ],
   "source": [
    "print(model_e5)"
   ]
  },
  {
   "cell_type": "code",
   "execution_count": null,
   "id": "1b199f42-40d3-4e45-a22d-99d54d070721",
   "metadata": {},
   "outputs": [],
   "source": []
  }
 ],
 "metadata": {
  "kernelspec": {
   "display_name": "ms2",
   "language": "python",
   "name": "ms2"
  },
  "language_info": {
   "codemirror_mode": {
    "name": "ipython",
    "version": 3
   },
   "file_extension": ".py",
   "mimetype": "text/x-python",
   "name": "python",
   "nbconvert_exporter": "python",
   "pygments_lexer": "ipython3",
   "version": "3.12.2"
  }
 },
 "nbformat": 4,
 "nbformat_minor": 5
}

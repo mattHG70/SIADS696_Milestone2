{
 "cells": [
  {
   "cell_type": "raw",
   "id": "28fa9186",
   "metadata": {},
   "source": [
    "#TODO\n",
    "#1. #do some kind of optimization?\n",
    "    #balance data?\n",
    "#2. make viz of which compounds are predicted correctly\n",
    "#3. add other teamnates models to viz\n",
    "!--versio"
   ]
  },
  {
   "cell_type": "code",
   "execution_count": 7,
   "id": "4fe2c402",
   "metadata": {},
   "outputs": [],
   "source": [
    "#!pip install optuna ipywidgets"
   ]
  },
  {
   "cell_type": "code",
   "execution_count": 40,
   "id": "80b8cccc",
   "metadata": {},
   "outputs": [],
   "source": [
    "#import dependencies\n",
    "import util_supervised\n",
    "import pandas as pd\n",
    "import numpy as np\n",
    "\n",
    "import matplotlib.pyplot as plt\n",
    "import seaborn as sns\n",
    "sns.set()\n",
    "\n",
    "from sklearn.ensemble import RandomForestClassifier\n",
    "from sklearn.dummy import DummyClassifier\n",
    "from sklearn.metrics import confusion_matrix\n",
    "from sklearn.model_selection import cross_val_score"
   ]
  },
  {
   "cell_type": "code",
   "execution_count": 12,
   "id": "7cde97e8",
   "metadata": {},
   "outputs": [],
   "source": [
    "import optuna"
   ]
  },
  {
   "cell_type": "code",
   "execution_count": 16,
   "id": "6d6fd8b5",
   "metadata": {},
   "outputs": [],
   "source": [
    "#load data\n",
    "df = util_supervised.load_feature_dataset_pca()\n",
    "compounds_ser = df.Metadata_Compound\n",
    "train_X, train_y, test_X, test_y = util_supervised.sup_train_test_split(df)\n",
    "\n",
    "#training and test compounds (data is split by compound)\n",
    "compounds_train = compounds_ser[train_X.index]\n",
    "compounds_test = compounds_ser[test_X.index]"
   ]
  },
  {
   "cell_type": "code",
   "execution_count": 14,
   "id": "778cd519",
   "metadata": {},
   "outputs": [
    {
     "name": "stdout",
     "output_type": "stream",
     "text": [
      "1478 correct. 2216 total. Accuracy = 0.667\n",
      "[0.42332066 0.60583016 0.58301648 0.7896071  0.89086294]\n"
     ]
    }
   ],
   "source": [
    "#make and fit model\n",
    "#However, this is not the legit model because it does not use the right cross-validation scheme. \n",
    "randomstate = 224\n",
    "\n",
    "m_randomforest = RandomForestClassifier(random_state=randomstate)\n",
    "m_randomforest.fit(train_X, train_y)\n",
    "test_pred = pd.Series(m_randomforest.predict(test_X))\n",
    "test_y = test_y.reset_index(drop=True)\n",
    "match = sum(test_pred == test_y) \n",
    "total = len(test_pred)\n",
    "\n",
    "print(match, \"correct.\", total, \"total. Accuracy =\", round(match/total, 3))\n",
    "\n",
    "cv_scores = cross_val_score(m_randomforest, train_X, train_y, cv=5)\n",
    "print(cv_scores)"
   ]
  },
  {
   "cell_type": "code",
   "execution_count": 5,
   "id": "78f1a5da",
   "metadata": {},
   "outputs": [
    {
     "data": {
      "text/plain": [
       "<AxesSubplot:>"
      ]
     },
     "execution_count": 5,
     "metadata": {},
     "output_type": "execute_result"
    },
    {
     "data": {
      "image/png": "[encoded data removed]",
      "text/plain": [
       "<Figure size 432x288 with 1 Axes>"
      ]
     },
     "metadata": {
      "needs_background": "light"
     },
     "output_type": "display_data"
    }
   ],
   "source": [
    "matches = test_pred==test_y\n",
    "matches = pd.Series([int(x) for x in matches])\n",
    "matches.plot()"
   ]
  },
  {
   "cell_type": "code",
   "execution_count": 21,
   "id": "098f37ab",
   "metadata": {},
   "outputs": [
    {
     "data": {
      "text/plain": [
       "((2624, 256), (1320, 256), (3944, 256))"
      ]
     },
     "execution_count": 21,
     "metadata": {},
     "output_type": "execute_result"
    }
   ],
   "source": [
    "train_X[compounds_train!='DMSO'].shape, train_X[compounds_train=='DMSO'].shape, train_X.shape"
   ]
  },
  {
   "cell_type": "code",
   "execution_count": 29,
   "id": "2735296b",
   "metadata": {},
   "outputs": [],
   "source": [
    "#Make and fit model with leave-one-out cross-validation\n",
    "m_forest_loo = RandomForestClassifier(random_state=randomstate)\n",
    "#m_forest_loo.fit(train_X, train_y)\n",
    "\n",
    "def rf_loo_crossval(clf, train_X=train_X, train_y=train_y, compounds=compounds_train):\n",
    "    cv_scores = []\n",
    "\n",
    "    for c in compounds.unique():\n",
    "        train_val_X = train_X[compounds_train!=c]\n",
    "        train_val_y = train_y[compounds_train!=c]\n",
    "        train_test_X = train_X[compounds_train==c]\n",
    "        train_test_y = train_y[compounds_train==c]\n",
    "        clf.fit(train_val_X, train_val_y)\n",
    "        score = round(clf.score(train_test_X, train_test_y), 2)\n",
    "        #print(c, score)\n",
    "        cv_scores.append(score)\n",
    "        weighted_accuracy = np.mean(cv_scores)\n",
    "    return weighted_accuracy"
   ]
  },
  {
   "cell_type": "code",
   "execution_count": 30,
   "id": "b4c90198",
   "metadata": {},
   "outputs": [
    {
     "data": {
      "text/plain": [
       "0.07551724137931036"
      ]
     },
     "execution_count": 30,
     "metadata": {},
     "output_type": "execute_result"
    }
   ],
   "source": [
    "dummy_clf = DummyClassifier(strategy='uniform', random_state=randomstate)\n",
    "dummy_cv_scores = rf_loo_crossval(dummy_clf)\n",
    "dummy_cv_scores"
   ]
  },
  {
   "cell_type": "code",
   "execution_count": 31,
   "id": "6fbf8f15",
   "metadata": {},
   "outputs": [],
   "source": [
    "loo_cv_scores = rf_loo_crossval(m_forest_loo)"
   ]
  },
  {
   "cell_type": "code",
   "execution_count": 25,
   "id": "25c0640b",
   "metadata": {},
   "outputs": [
    {
     "data": {
      "text/plain": [
       "(0.2420689655172414, 0.07551724137931036)"
      ]
     },
     "execution_count": 25,
     "metadata": {},
     "output_type": "execute_result"
    }
   ],
   "source": [
    "loo_cv_scores, dummy_cv_scores\n",
    "#okay, default is 3.5x better than dummy, look like its working!"
   ]
  },
  {
   "cell_type": "code",
   "execution_count": 25,
   "id": "2969a038",
   "metadata": {},
   "outputs": [
    {
     "name": "stderr",
     "output_type": "stream",
     "text": [
      "[I 2024-06-24 14:01:09,873] A new study created in memory with name: no-name-38069d76-08b3-4549-b069-9335266c116e\n",
      "[I 2024-06-24 14:01:13,028] Trial 0 finished with value: 0.677 and parameters: {'n_estimators': 90, 'max_depth': 32, 'min_samples_split': 10, 'min_samples_leaf': 3}. Best is trial 0 with value: 0.677.\n",
      "[I 2024-06-24 14:01:16,630] Trial 1 finished with value: 0.609 and parameters: {'n_estimators': 191, 'max_depth': 6, 'min_samples_split': 14, 'min_samples_leaf': 2}. Best is trial 0 with value: 0.677.\n",
      "[I 2024-06-24 14:01:19,897] Trial 2 finished with value: 0.658 and parameters: {'n_estimators': 117, 'max_depth': 19, 'min_samples_split': 11, 'min_samples_leaf': 18}. Best is trial 0 with value: 0.677.\n",
      "[I 2024-06-24 14:01:19,994] Trial 3 finished with value: 0.0 and parameters: {'n_estimators': 20, 'max_depth': 1, 'min_samples_split': 16, 'min_samples_leaf': 6}. Best is trial 0 with value: 0.677.\n",
      "[I 2024-06-24 14:01:22,040] Trial 4 finished with value: 0.637 and parameters: {'n_estimators': 98, 'max_depth': 7, 'min_samples_split': 13, 'min_samples_leaf': 10}. Best is trial 0 with value: 0.677.\n",
      "[I 2024-06-24 14:01:22,904] Trial 5 finished with value: 0.613 and parameters: {'n_estimators': 46, 'max_depth': 6, 'min_samples_split': 16, 'min_samples_leaf': 14}. Best is trial 0 with value: 0.677.\n",
      "[I 2024-06-24 14:01:25,044] Trial 6 finished with value: 0.646 and parameters: {'n_estimators': 77, 'max_depth': 32, 'min_samples_split': 8, 'min_samples_leaf': 17}. Best is trial 0 with value: 0.677.\n",
      "[I 2024-06-24 14:01:25,164] Trial 7 finished with value: 0.0 and parameters: {'n_estimators': 26, 'max_depth': 1, 'min_samples_split': 8, 'min_samples_leaf': 16}. Best is trial 0 with value: 0.677.\n",
      "[I 2024-06-24 14:01:25,267] Trial 8 finished with value: 0.0 and parameters: {'n_estimators': 22, 'max_depth': 1, 'min_samples_split': 7, 'min_samples_leaf': 5}. Best is trial 0 with value: 0.677.\n",
      "[I 2024-06-24 14:01:26,512] Trial 9 finished with value: 0.62 and parameters: {'n_estimators': 59, 'max_depth': 7, 'min_samples_split': 4, 'min_samples_leaf': 19}. Best is trial 0 with value: 0.677.\n",
      "[I 2024-06-24 14:01:32,099] Trial 10 finished with value: 0.684 and parameters: {'n_estimators': 150, 'max_depth': 32, 'min_samples_split': 20, 'min_samples_leaf': 1}. Best is trial 10 with value: 0.684.\n",
      "[I 2024-06-24 14:01:37,484] Trial 11 finished with value: 0.687 and parameters: {'n_estimators': 145, 'max_depth': 32, 'min_samples_split': 20, 'min_samples_leaf': 1}. Best is trial 11 with value: 0.687.\n",
      "[I 2024-06-24 14:01:43,166] Trial 12 finished with value: 0.687 and parameters: {'n_estimators': 154, 'max_depth': 25, 'min_samples_split': 20, 'min_samples_leaf': 1}. Best is trial 11 with value: 0.687.\n",
      "[I 2024-06-24 14:01:49,095] Trial 13 finished with value: 0.666 and parameters: {'n_estimators': 149, 'max_depth': 25, 'min_samples_split': 20, 'min_samples_leaf': 8}. Best is trial 11 with value: 0.687.\n",
      "[I 2024-06-24 14:01:56,718] Trial 14 finished with value: 0.681 and parameters: {'n_estimators': 190, 'max_depth': 25, 'min_samples_split': 18, 'min_samples_leaf': 5}. Best is trial 11 with value: 0.687.\n",
      "[I 2024-06-24 14:02:01,498] Trial 15 finished with value: 0.653 and parameters: {'n_estimators': 142, 'max_depth': 26, 'min_samples_split': 17, 'min_samples_leaf': 12}. Best is trial 11 with value: 0.687.\n",
      "[I 2024-06-24 14:02:08,183] Trial 16 finished with value: 0.689 and parameters: {'n_estimators': 169, 'max_depth': 19, 'min_samples_split': 2, 'min_samples_leaf': 3}. Best is trial 16 with value: 0.689.\n",
      "[I 2024-06-24 14:02:14,159] Trial 17 finished with value: 0.675 and parameters: {'n_estimators': 172, 'max_depth': 15, 'min_samples_split': 2, 'min_samples_leaf': 8}. Best is trial 16 with value: 0.689.\n",
      "[I 2024-06-24 14:02:19,106] Trial 18 finished with value: 0.673 and parameters: {'n_estimators': 129, 'max_depth': 16, 'min_samples_split': 5, 'min_samples_leaf': 3}. Best is trial 16 with value: 0.689.\n",
      "[I 2024-06-24 14:02:25,465] Trial 19 finished with value: 0.675 and parameters: {'n_estimators': 175, 'max_depth': 20, 'min_samples_split': 2, 'min_samples_leaf': 7}. Best is trial 16 with value: 0.689.\n",
      "[I 2024-06-24 14:02:29,544] Trial 20 finished with value: 0.682 and parameters: {'n_estimators': 120, 'max_depth': 12, 'min_samples_split': 13, 'min_samples_leaf': 4}. Best is trial 16 with value: 0.689.\n",
      "[I 2024-06-24 14:02:36,585] Trial 21 finished with value: 0.692 and parameters: {'n_estimators': 167, 'max_depth': 29, 'min_samples_split': 19, 'min_samples_leaf': 1}. Best is trial 21 with value: 0.692.\n",
      "[I 2024-06-24 14:02:43,437] Trial 22 finished with value: 0.683 and parameters: {'n_estimators': 165, 'max_depth': 27, 'min_samples_split': 19, 'min_samples_leaf': 1}. Best is trial 21 with value: 0.692.\n",
      "[I 2024-06-24 14:02:51,361] Trial 23 finished with value: 0.701 and parameters: {'n_estimators': 199, 'max_depth': 29, 'min_samples_split': 15, 'min_samples_leaf': 3}. Best is trial 23 with value: 0.701.\n",
      "[I 2024-06-24 14:02:58,280] Trial 24 finished with value: 0.662 and parameters: {'n_estimators': 199, 'max_depth': 29, 'min_samples_split': 15, 'min_samples_leaf': 10}. Best is trial 23 with value: 0.701.\n",
      "[I 2024-06-24 14:03:05,164] Trial 25 finished with value: 0.679 and parameters: {'n_estimators': 179, 'max_depth': 20, 'min_samples_split': 12, 'min_samples_leaf': 4}. Best is trial 23 with value: 0.701.\n",
      "[I 2024-06-24 14:03:12,896] Trial 26 finished with value: 0.698 and parameters: {'n_estimators': 200, 'max_depth': 22, 'min_samples_split': 18, 'min_samples_leaf': 3}. Best is trial 23 with value: 0.701.\n",
      "[I 2024-06-24 14:03:20,110] Trial 27 finished with value: 0.69 and parameters: {'n_estimators': 198, 'max_depth': 22, 'min_samples_split': 18, 'min_samples_leaf': 6}. Best is trial 23 with value: 0.701.\n",
      "[I 2024-06-24 14:03:27,369] Trial 28 finished with value: 0.703 and parameters: {'n_estimators': 186, 'max_depth': 29, 'min_samples_split': 17, 'min_samples_leaf': 3}. Best is trial 28 with value: 0.703.\n",
      "[I 2024-06-24 14:03:33,825] Trial 29 finished with value: 0.678 and parameters: {'n_estimators': 181, 'max_depth': 23, 'min_samples_split': 15, 'min_samples_leaf': 8}. Best is trial 28 with value: 0.703.\n",
      "[I 2024-06-24 14:03:37,001] Trial 30 finished with value: 0.685 and parameters: {'n_estimators': 81, 'max_depth': 29, 'min_samples_split': 17, 'min_samples_leaf': 3}. Best is trial 28 with value: 0.703.\n",
      "[I 2024-06-24 14:03:44,073] Trial 31 finished with value: 0.687 and parameters: {'n_estimators': 185, 'max_depth': 29, 'min_samples_split': 18, 'min_samples_leaf': 4}. Best is trial 28 with value: 0.703.\n",
      "[I 2024-06-24 14:03:50,629] Trial 32 finished with value: 0.702 and parameters: {'n_estimators': 161, 'max_depth': 28, 'min_samples_split': 16, 'min_samples_leaf': 2}. Best is trial 28 with value: 0.703.\n",
      "[I 2024-06-24 14:03:58,538] Trial 33 finished with value: 0.689 and parameters: {'n_estimators': 196, 'max_depth': 23, 'min_samples_split': 14, 'min_samples_leaf': 2}. Best is trial 28 with value: 0.703.\n",
      "[I 2024-06-24 14:04:05,364] Trial 34 finished with value: 0.687 and parameters: {'n_estimators': 186, 'max_depth': 27, 'min_samples_split': 16, 'min_samples_leaf': 6}. Best is trial 28 with value: 0.703.\n",
      "[I 2024-06-24 14:04:13,351] Trial 35 finished with value: 0.689 and parameters: {'n_estimators': 200, 'max_depth': 30, 'min_samples_split': 11, 'min_samples_leaf': 3}. Best is trial 28 with value: 0.703.\n",
      "[I 2024-06-24 14:04:19,364] Trial 36 finished with value: 0.687 and parameters: {'n_estimators': 160, 'max_depth': 22, 'min_samples_split': 14, 'min_samples_leaf': 5}. Best is trial 28 with value: 0.703.\n",
      "[I 2024-06-24 14:04:24,767] Trial 37 finished with value: 0.696 and parameters: {'n_estimators': 133, 'max_depth': 27, 'min_samples_split': 17, 'min_samples_leaf': 2}. Best is trial 28 with value: 0.703.\n",
      "[I 2024-06-24 14:04:28,409] Trial 38 finished with value: 0.671 and parameters: {'n_estimators': 107, 'max_depth': 31, 'min_samples_split': 15, 'min_samples_leaf': 11}. Best is trial 28 with value: 0.703.\n",
      "[I 2024-06-24 14:04:34,564] Trial 39 finished with value: 0.651 and parameters: {'n_estimators': 189, 'max_depth': 18, 'min_samples_split': 10, 'min_samples_leaf': 14}. Best is trial 28 with value: 0.703.\n"
     ]
    },
    {
     "name": "stderr",
     "output_type": "stream",
     "text": [
      "[I 2024-06-24 14:04:39,936] Trial 40 finished with value: 0.671 and parameters: {'n_estimators': 160, 'max_depth': 13, 'min_samples_split': 16, 'min_samples_leaf': 7}. Best is trial 28 with value: 0.703.\n",
      "[I 2024-06-24 14:04:45,064] Trial 41 finished with value: 0.694 and parameters: {'n_estimators': 126, 'max_depth': 27, 'min_samples_split': 17, 'min_samples_leaf': 2}. Best is trial 28 with value: 0.703.\n",
      "[I 2024-06-24 14:04:50,683] Trial 42 finished with value: 0.699 and parameters: {'n_estimators': 138, 'max_depth': 28, 'min_samples_split': 17, 'min_samples_leaf': 2}. Best is trial 28 with value: 0.703.\n",
      "[I 2024-06-24 14:04:57,459] Trial 43 finished with value: 0.68 and parameters: {'n_estimators': 178, 'max_depth': 30, 'min_samples_split': 19, 'min_samples_leaf': 4}. Best is trial 28 with value: 0.703.\n",
      "[I 2024-06-24 14:05:05,062] Trial 44 finished with value: 0.695 and parameters: {'n_estimators': 188, 'max_depth': 24, 'min_samples_split': 13, 'min_samples_leaf': 2}. Best is trial 28 with value: 0.703.\n",
      "[I 2024-06-24 14:05:09,053] Trial 45 finished with value: 0.679 and parameters: {'n_estimators': 106, 'max_depth': 31, 'min_samples_split': 15, 'min_samples_leaf': 5}. Best is trial 28 with value: 0.703.\n",
      "[I 2024-06-24 14:05:15,092] Trial 46 finished with value: 0.681 and parameters: {'n_estimators': 154, 'max_depth': 28, 'min_samples_split': 18, 'min_samples_leaf': 3}. Best is trial 28 with value: 0.703.\n",
      "[I 2024-06-24 14:05:19,487] Trial 47 finished with value: 0.649 and parameters: {'n_estimators': 141, 'max_depth': 32, 'min_samples_split': 16, 'min_samples_leaf': 20}. Best is trial 28 with value: 0.703.\n",
      "[I 2024-06-24 14:05:25,715] Trial 48 finished with value: 0.688 and parameters: {'n_estimators': 161, 'max_depth': 25, 'min_samples_split': 14, 'min_samples_leaf': 4}. Best is trial 28 with value: 0.703.\n",
      "[I 2024-06-24 14:05:33,057] Trial 49 finished with value: 0.699 and parameters: {'n_estimators': 176, 'max_depth': 26, 'min_samples_split': 16, 'min_samples_leaf': 1}. Best is trial 28 with value: 0.703.\n",
      "[I 2024-06-24 14:05:33,536] Trial 50 finished with value: 0.429 and parameters: {'n_estimators': 38, 'max_depth': 3, 'min_samples_split': 13, 'min_samples_leaf': 1}. Best is trial 28 with value: 0.703.\n",
      "[I 2024-06-24 14:05:40,503] Trial 51 finished with value: 0.699 and parameters: {'n_estimators': 172, 'max_depth': 26, 'min_samples_split': 17, 'min_samples_leaf': 2}. Best is trial 28 with value: 0.703.\n",
      "[I 2024-06-24 14:05:47,649] Trial 52 finished with value: 0.691 and parameters: {'n_estimators': 173, 'max_depth': 26, 'min_samples_split': 16, 'min_samples_leaf': 2}. Best is trial 28 with value: 0.703.\n",
      "[I 2024-06-24 14:05:53,502] Trial 53 finished with value: 0.693 and parameters: {'n_estimators': 139, 'max_depth': 28, 'min_samples_split': 17, 'min_samples_leaf': 1}. Best is trial 28 with value: 0.703.\n",
      "[I 2024-06-24 14:05:59,728] Trial 54 finished with value: 0.684 and parameters: {'n_estimators': 153, 'max_depth': 30, 'min_samples_split': 19, 'min_samples_leaf': 2}. Best is trial 28 with value: 0.703.\n",
      "[I 2024-06-24 14:06:06,594] Trial 55 finished with value: 0.689 and parameters: {'n_estimators': 170, 'max_depth': 26, 'min_samples_split': 15, 'min_samples_leaf': 2}. Best is trial 28 with value: 0.703.\n",
      "[I 2024-06-24 14:06:13,974] Trial 56 finished with value: 0.694 and parameters: {'n_estimators': 179, 'max_depth': 24, 'min_samples_split': 16, 'min_samples_leaf': 1}. Best is trial 28 with value: 0.703.\n",
      "[I 2024-06-24 14:06:19,782] Trial 57 finished with value: 0.666 and parameters: {'n_estimators': 192, 'max_depth': 10, 'min_samples_split': 17, 'min_samples_leaf': 5}. Best is trial 28 with value: 0.703.\n",
      "[I 2024-06-24 14:06:25,223] Trial 58 finished with value: 0.681 and parameters: {'n_estimators': 147, 'max_depth': 28, 'min_samples_split': 12, 'min_samples_leaf': 6}. Best is trial 28 with value: 0.703.\n",
      "[I 2024-06-24 14:06:31,757] Trial 59 finished with value: 0.694 and parameters: {'n_estimators': 163, 'max_depth': 31, 'min_samples_split': 8, 'min_samples_leaf': 3}. Best is trial 28 with value: 0.703.\n",
      "[I 2024-06-24 14:06:38,696] Trial 60 finished with value: 0.687 and parameters: {'n_estimators': 181, 'max_depth': 26, 'min_samples_split': 14, 'min_samples_leaf': 4}. Best is trial 28 with value: 0.703.\n",
      "[I 2024-06-24 14:06:46,199] Trial 61 finished with value: 0.694 and parameters: {'n_estimators': 193, 'max_depth': 24, 'min_samples_split': 18, 'min_samples_leaf': 3}. Best is trial 28 with value: 0.703.\n",
      "[I 2024-06-24 14:06:53,117] Trial 62 finished with value: 0.681 and parameters: {'n_estimators': 171, 'max_depth': 22, 'min_samples_split': 19, 'min_samples_leaf': 1}. Best is trial 28 with value: 0.703.\n",
      "[I 2024-06-24 14:07:00,370] Trial 63 finished with value: 0.683 and parameters: {'n_estimators': 186, 'max_depth': 28, 'min_samples_split': 18, 'min_samples_leaf': 3}. Best is trial 28 with value: 0.703.\n",
      "[I 2024-06-24 14:07:07,994] Trial 64 finished with value: 0.689 and parameters: {'n_estimators': 194, 'max_depth': 21, 'min_samples_split': 20, 'min_samples_leaf': 2}. Best is trial 28 with value: 0.703.\n",
      "[I 2024-06-24 14:07:13,646] Trial 65 finished with value: 0.673 and parameters: {'n_estimators': 175, 'max_depth': 25, 'min_samples_split': 17, 'min_samples_leaf': 15}. Best is trial 28 with value: 0.703.\n",
      "[I 2024-06-24 14:07:17,296] Trial 66 finished with value: 0.677 and parameters: {'n_estimators': 95, 'max_depth': 30, 'min_samples_split': 18, 'min_samples_leaf': 4}. Best is trial 28 with value: 0.703.\n",
      "[I 2024-06-24 14:07:19,525] Trial 67 finished with value: 0.656 and parameters: {'n_estimators': 62, 'max_depth': 29, 'min_samples_split': 16, 'min_samples_leaf': 9}. Best is trial 28 with value: 0.703.\n",
      "[I 2024-06-24 14:07:27,164] Trial 68 finished with value: 0.684 and parameters: {'n_estimators': 184, 'max_depth': 27, 'min_samples_split': 19, 'min_samples_leaf': 1}. Best is trial 28 with value: 0.703.\n",
      "[I 2024-06-24 14:07:32,603] Trial 69 finished with value: 0.684 and parameters: {'n_estimators': 135, 'max_depth': 23, 'min_samples_split': 15, 'min_samples_leaf': 2}. Best is trial 28 with value: 0.703.\n",
      "[I 2024-06-24 14:07:38,847] Trial 70 finished with value: 0.683 and parameters: {'n_estimators': 167, 'max_depth': 32, 'min_samples_split': 17, 'min_samples_leaf': 5}. Best is trial 28 with value: 0.703.\n",
      "[I 2024-06-24 14:07:43,500] Trial 71 finished with value: 0.694 and parameters: {'n_estimators': 115, 'max_depth': 27, 'min_samples_split': 17, 'min_samples_leaf': 2}. Best is trial 28 with value: 0.703.\n",
      "[I 2024-06-24 14:07:48,600] Trial 72 finished with value: 0.698 and parameters: {'n_estimators': 129, 'max_depth': 28, 'min_samples_split': 16, 'min_samples_leaf': 3}. Best is trial 28 with value: 0.703.\n",
      "[I 2024-06-24 14:07:53,329] Trial 73 finished with value: 0.699 and parameters: {'n_estimators': 120, 'max_depth': 26, 'min_samples_split': 16, 'min_samples_leaf': 3}. Best is trial 28 with value: 0.703.\n",
      "[I 2024-06-24 14:07:57,944] Trial 74 finished with value: 0.683 and parameters: {'n_estimators': 118, 'max_depth': 26, 'min_samples_split': 18, 'min_samples_leaf': 3}. Best is trial 28 with value: 0.703.\n",
      "[I 2024-06-24 14:08:01,489] Trial 75 finished with value: 0.653 and parameters: {'n_estimators': 112, 'max_depth': 18, 'min_samples_split': 16, 'min_samples_leaf': 17}. Best is trial 28 with value: 0.703.\n",
      "[I 2024-06-24 14:08:09,096] Trial 76 finished with value: 0.7 and parameters: {'n_estimators': 200, 'max_depth': 24, 'min_samples_split': 15, 'min_samples_leaf': 4}. Best is trial 28 with value: 0.703.\n",
      "[I 2024-06-24 14:08:15,085] Trial 77 finished with value: 0.708 and parameters: {'n_estimators': 157, 'max_depth': 25, 'min_samples_split': 15, 'min_samples_leaf': 4}. Best is trial 77 with value: 0.708.\n",
      "[I 2024-06-24 14:08:21,138] Trial 78 finished with value: 0.682 and parameters: {'n_estimators': 157, 'max_depth': 24, 'min_samples_split': 14, 'min_samples_leaf': 4}. Best is trial 77 with value: 0.708.\n",
      "[I 2024-06-24 14:08:27,397] Trial 79 finished with value: 0.693 and parameters: {'n_estimators': 150, 'max_depth': 25, 'min_samples_split': 13, 'min_samples_leaf': 1}. Best is trial 77 with value: 0.708.\n",
      "[I 2024-06-24 14:08:33,718] Trial 80 finished with value: 0.704 and parameters: {'n_estimators': 166, 'max_depth': 31, 'min_samples_split': 15, 'min_samples_leaf': 4}. Best is trial 77 with value: 0.708.\n"
     ]
    },
    {
     "name": "stderr",
     "output_type": "stream",
     "text": [
      "[I 2024-06-24 14:08:39,643] Trial 81 finished with value: 0.682 and parameters: {'n_estimators': 164, 'max_depth': 31, 'min_samples_split': 15, 'min_samples_leaf': 7}. Best is trial 77 with value: 0.708.\n",
      "[I 2024-06-24 14:08:46,438] Trial 82 finished with value: 0.689 and parameters: {'n_estimators': 177, 'max_depth': 30, 'min_samples_split': 14, 'min_samples_leaf': 4}. Best is trial 77 with value: 0.708.\n",
      "[I 2024-06-24 14:08:54,187] Trial 83 finished with value: 0.696 and parameters: {'n_estimators': 191, 'max_depth': 29, 'min_samples_split': 15, 'min_samples_leaf': 2}. Best is trial 77 with value: 0.708.\n",
      "[I 2024-06-24 14:09:00,897] Trial 84 finished with value: 0.676 and parameters: {'n_estimators': 182, 'max_depth': 29, 'min_samples_split': 12, 'min_samples_leaf': 6}. Best is trial 77 with value: 0.708.\n",
      "[I 2024-06-24 14:09:01,376] Trial 85 finished with value: 0.609 and parameters: {'n_estimators': 12, 'max_depth': 28, 'min_samples_split': 15, 'min_samples_leaf': 5}. Best is trial 77 with value: 0.708.\n",
      "[I 2024-06-24 14:09:06,609] Trial 86 finished with value: 0.662 and parameters: {'n_estimators': 157, 'max_depth': 32, 'min_samples_split': 17, 'min_samples_leaf': 12}. Best is trial 77 with value: 0.708.\n",
      "[I 2024-06-24 14:09:14,303] Trial 87 finished with value: 0.699 and parameters: {'n_estimators': 196, 'max_depth': 27, 'min_samples_split': 5, 'min_samples_leaf': 4}. Best is trial 77 with value: 0.708.\n",
      "[I 2024-06-24 14:09:20,657] Trial 88 finished with value: 0.681 and parameters: {'n_estimators': 169, 'max_depth': 31, 'min_samples_split': 13, 'min_samples_leaf': 5}. Best is trial 77 with value: 0.708.\n",
      "[I 2024-06-24 14:09:26,793] Trial 89 finished with value: 0.704 and parameters: {'n_estimators': 144, 'max_depth': 30, 'min_samples_split': 14, 'min_samples_leaf': 1}. Best is trial 77 with value: 0.708.\n",
      "[I 2024-06-24 14:09:32,745] Trial 90 finished with value: 0.696 and parameters: {'n_estimators': 141, 'max_depth': 30, 'min_samples_split': 15, 'min_samples_leaf': 1}. Best is trial 77 with value: 0.708.\n",
      "[I 2024-06-24 14:09:38,820] Trial 91 finished with value: 0.704 and parameters: {'n_estimators': 145, 'max_depth': 29, 'min_samples_split': 16, 'min_samples_leaf': 1}. Best is trial 77 with value: 0.708.\n",
      "[I 2024-06-24 14:09:45,037] Trial 92 finished with value: 0.703 and parameters: {'n_estimators': 146, 'max_depth': 30, 'min_samples_split': 14, 'min_samples_leaf': 1}. Best is trial 77 with value: 0.708.\n",
      "[I 2024-06-24 14:09:51,301] Trial 93 finished with value: 0.701 and parameters: {'n_estimators': 147, 'max_depth': 31, 'min_samples_split': 14, 'min_samples_leaf': 1}. Best is trial 77 with value: 0.708.\n",
      "[I 2024-06-24 14:09:57,461] Trial 94 finished with value: 0.698 and parameters: {'n_estimators': 144, 'max_depth': 32, 'min_samples_split': 14, 'min_samples_leaf': 1}. Best is trial 77 with value: 0.708.\n",
      "[I 2024-06-24 14:10:03,822] Trial 95 finished with value: 0.697 and parameters: {'n_estimators': 150, 'max_depth': 31, 'min_samples_split': 13, 'min_samples_leaf': 1}. Best is trial 77 with value: 0.708.\n",
      "[I 2024-06-24 14:10:10,088] Trial 96 finished with value: 0.692 and parameters: {'n_estimators': 145, 'max_depth': 29, 'min_samples_split': 14, 'min_samples_leaf': 3}. Best is trial 77 with value: 0.708.\n",
      "[I 2024-06-24 14:10:16,480] Trial 97 finished with value: 0.695 and parameters: {'n_estimators': 157, 'max_depth': 30, 'min_samples_split': 15, 'min_samples_leaf': 2}. Best is trial 77 with value: 0.708.\n",
      "[I 2024-06-24 14:10:22,001] Trial 98 finished with value: 0.689 and parameters: {'n_estimators': 134, 'max_depth': 29, 'min_samples_split': 11, 'min_samples_leaf': 2}. Best is trial 77 with value: 0.708.\n",
      "[I 2024-06-24 14:10:28,498] Trial 99 finished with value: 0.702 and parameters: {'n_estimators': 152, 'max_depth': 31, 'min_samples_split': 14, 'min_samples_leaf': 1}. Best is trial 77 with value: 0.708.\n"
     ]
    }
   ],
   "source": [
    "##Optimize random forest model\n",
    "\n",
    "def objective(trial, randomstate=randomstate, X_train=train_X,\n",
    "             y_train=train_y, X_test=test_X, y_test=test_y):\n",
    "    #I already have xtrain ytrain etc\n",
    "    # Suggest values for the hyperparameters\n",
    "    n_estimators = trial.suggest_int('n_estimators', 10, 200)\n",
    "    max_depth = trial.suggest_int('max_depth', 1, 32)\n",
    "    min_samples_split = trial.suggest_int('min_samples_split', 2, 20)\n",
    "    min_samples_leaf = trial.suggest_int('min_samples_leaf', 1, 20)\n",
    "    \n",
    "    # Create the model with suggested hyperparameters\n",
    "    model = RandomForestClassifier(\n",
    "        n_estimators=n_estimators,\n",
    "        max_depth=max_depth,\n",
    "        min_samples_split=min_samples_split,\n",
    "        min_samples_leaf=min_samples_leaf,\n",
    "        random_state=randomstate\n",
    "    )\n",
    "    \n",
    "    # Train the model\n",
    "    model.fit(X_train, y_train)\n",
    "    \n",
    "    y_test = y_test.reset_index(drop=True)\n",
    "    # Predict on the test set\n",
    "    y_pred = model.predict(X_test)\n",
    "    \n",
    "    # Calculate the accuracy\n",
    "    match = sum(y_pred == y_test) \n",
    "    total = len(y_test)\n",
    "\n",
    "    accuracy = round(match/total, 3)\n",
    "    \n",
    "    accuracy = rf_loo_crossval(m_forest_loo)\n",
    "    return accuracy\n",
    "study = optuna.create_study(direction='maximize')\n",
    "study.optimize(objective, n_trials=100)"
   ]
  },
  {
   "cell_type": "code",
   "execution_count": 26,
   "id": "b6ecc552",
   "metadata": {},
   "outputs": [
    {
     "data": {
      "text/plain": [
       "({'n_estimators': 157,\n",
       "  'max_depth': 25,\n",
       "  'min_samples_split': 15,\n",
       "  'min_samples_leaf': 4},\n",
       " 0.708)"
      ]
     },
     "execution_count": 26,
     "metadata": {},
     "output_type": "execute_result"
    }
   ],
   "source": [
    "study.best_params, study.best_value"
   ]
  },
  {
   "cell_type": "raw",
   "id": "37887a8e",
   "metadata": {},
   "source": [
    "**Results**\n",
    "Best parameters:\n",
    "{'n_estimators': 157,\n",
    "  'max_depth': 25,\n",
    "  'min_samples_split': 15,\n",
    "  'min_samples_leaf': 4}\n",
    " \n",
    "Best accuracy: .708"
   ]
  },
  {
   "cell_type": "code",
   "execution_count": 41,
   "id": "c68df9da",
   "metadata": {},
   "outputs": [],
   "source": [
    "m_finalforest = RandomForestClassifier(random_state=randomstate,\n",
    "                                       n_estimators=157,\n",
    "                                       max_depth=25,\n",
    "                                       min_samples_split=15,\n",
    "                                       min_samples_leaf=4)\n",
    "\n",
    "\n",
    "m_randomforest.fit(train_X, train_y)\n",
    "test_pred = pd.Series(m_randomforest.predict(test_X))\n",
    "test_y = test_y.reset_index(drop=True)\n",
    "match = sum(test_pred == test_y) \n",
    "total = len(test_pred)"
   ]
  },
  {
   "cell_type": "code",
   "execution_count": 45,
   "id": "35048446",
   "metadata": {},
   "outputs": [
    {
     "data": {
      "text/plain": [
       "<AxesSubplot:>"
      ]
     },
     "execution_count": 45,
     "metadata": {},
     "output_type": "execute_result"
    },
    {
     "data": {
      "image/png": "[encoded data removed]",
      "text/plain": [
       "<Figure size 432x288 with 2 Axes>"
      ]
     },
     "metadata": {
      "needs_background": "light"
     },
     "output_type": "display_data"
    }
   ],
   "source": [
    "#draw random forest confusion matrix\n",
    "cm = confusion_matrix(test_y, test_pred, normalize = 'pred')\n",
    "sns.heatmap(cm, cmap = \"coolwarm\", linewidths=.7, linecolor='white')"
   ]
  },
  {
   "cell_type": "code",
   "execution_count": 49,
   "id": "ca17231d",
   "metadata": {},
   "outputs": [
    {
     "data": {
      "text/plain": [
       "<AxesSubplot:>"
      ]
     },
     "execution_count": 49,
     "metadata": {},
     "output_type": "execute_result"
    },
    {
     "data": {
      "image/png": "[encoded data removed]",
      "text/plain": [
       "<Figure size 432x288 with 2 Axes>"
      ]
     },
     "metadata": {
      "needs_background": "light"
     },
     "output_type": "display_data"
    }
   ],
   "source": [
    "#draw confusion matrix for dummy classifier\n",
    "test_pred_dumb = dummy_clf.predict(test_X)\n",
    "cm = confusion_matrix(test_y, test_pred_dumb, normalize = 'pred')\n",
    "sns.heatmap(cm, cmap = \"coolwarm\", linewidths=.7, linecolor='white')"
   ]
  }
 ],
 "metadata": {
  "kernelspec": {
   "display_name": "Python 3 (ipykernel)",
   "language": "python",
   "name": "python3"
  },
  "language_info": {
   "codemirror_mode": {
    "name": "ipython",
    "version": 3
   },
   "file_extension": ".py",
   "mimetype": "text/x-python",
   "name": "python",
   "nbconvert_exporter": "python",
   "pygments_lexer": "ipython3",
   "version": "3.8.10"
  }
 },
 "nbformat": 4,
 "nbformat_minor": 5
}

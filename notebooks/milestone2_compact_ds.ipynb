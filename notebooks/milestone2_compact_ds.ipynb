{
 "cells": [
  {
   "cell_type": "code",
   "execution_count": 2,
   "id": "734bf7d4-ff12-4742-ae21-56e287d18993",
   "metadata": {},
   "outputs": [],
   "source": [
    "import os\n",
    "import pandas as pd\n",
    "import numpy as np\n",
    "\n",
    "import polars as pl"
   ]
  },
  {
   "cell_type": "code",
   "execution_count": 3,
   "id": "dc37d91a-0e78-49cf-aec8-98f03755d945",
   "metadata": {},
   "outputs": [],
   "source": [
    "data_dir = \"~/siads696/data\""
   ]
  },
  {
   "cell_type": "code",
   "execution_count": 4,
   "id": "079fe6e3-2f1f-4da5-bd05-4c2d800ba15a",
   "metadata": {},
   "outputs": [],
   "source": [
    "# df_img_embed = pd.read_csv(os.path.join(data_dir, \"tl_features.csv\"))\n",
    "# df_img_embed.info()"
   ]
  },
  {
   "cell_type": "code",
   "execution_count": 20,
   "id": "7d561fd3-a7b3-4c1d-b890-f63c1f2a6a0c",
   "metadata": {},
   "outputs": [
    {
     "name": "stdout",
     "output_type": "stream",
     "text": [
      "shape: (13_200, 3_068)\n",
      "┌────────────┬───────────┬────────────┬──────┬───┬────────────┬────────────┬───────────┬───────────┐\n",
      "│ TableNumbe ┆ Replicate ┆ smiles     ┆ moa  ┆ … ┆ Z1020_Acti ┆ Z1021_Acti ┆ Z1022_Act ┆ Z1023_Act │\n",
      "│ r          ┆ ---       ┆ ---        ┆ ---  ┆   ┆ n          ┆ n          ┆ in        ┆ in        │\n",
      "│ ---        ┆ i64       ┆ str        ┆ str  ┆   ┆ ---        ┆ ---        ┆ ---       ┆ ---       │\n",
      "│ i64        ┆           ┆            ┆      ┆   ┆ f64        ┆ f64        ┆ f64       ┆ f64       │\n",
      "╞════════════╪═══════════╪════════════╪══════╪═══╪════════════╪════════════╪═══════════╪═══════════╡\n",
      "│ 4          ┆ 1         ┆ FC1=CNC(=O ┆ null ┆ … ┆ -0.321486  ┆ 1.2154524  ┆ -0.089709 ┆ -0.413298 │\n",
      "│            ┆           ┆ )NC1=O     ┆      ┆   ┆            ┆            ┆           ┆           │\n",
      "│ 4          ┆ 1         ┆ FC1=CNC(=O ┆ null ┆ … ┆ -0.629341  ┆ 2.0029707  ┆ 0.4161029 ┆ -0.491764 │\n",
      "│            ┆           ┆ )NC1=O     ┆      ┆   ┆            ┆            ┆           ┆           │\n",
      "│ 4          ┆ 1         ┆ FC1=CNC(=O ┆ null ┆ … ┆ -0.28802   ┆ 0.750829   ┆ -0.016331 ┆ -0.539989 │\n",
      "│            ┆           ┆ )NC1=O     ┆      ┆   ┆            ┆            ┆           ┆           │\n",
      "│ 4          ┆ 1         ┆ FC1=CNC(=O ┆ null ┆ … ┆ -0.315154  ┆ 1.5105941  ┆ 0.013336  ┆ -0.460936 │\n",
      "│            ┆           ┆ )NC1=O     ┆      ┆   ┆            ┆            ┆           ┆           │\n",
      "│ 4          ┆ 2         ┆ FC1=CNC(=O ┆ null ┆ … ┆ -0.425821  ┆ 0.9314116  ┆ 0.423981  ┆ -0.502664 │\n",
      "│            ┆           ┆ )NC1=O     ┆      ┆   ┆            ┆            ┆           ┆           │\n",
      "│ …          ┆ …         ┆ …          ┆ …    ┆ … ┆ …          ┆ …          ┆ …         ┆ …         │\n",
      "│ 9          ┆ 3         ┆ null       ┆ DMSO ┆ … ┆ -0.749387  ┆ 2.3965626  ┆ 0.603147  ┆ 0.377651  │\n",
      "│ 9          ┆ 3         ┆ null       ┆ DMSO ┆ … ┆ -0.249621  ┆ 0.132188   ┆ -0.179003 ┆ -0.476881 │\n",
      "│ 9          ┆ 3         ┆ null       ┆ DMSO ┆ … ┆ -0.451511  ┆ 2.6246767  ┆ 1.2822963 ┆ -0.214316 │\n",
      "│ 9          ┆ 3         ┆ null       ┆ DMSO ┆ … ┆ -0.206442  ┆ -0.031611  ┆ -0.164196 ┆ -0.431555 │\n",
      "│ 9          ┆ 3         ┆ null       ┆ DMSO ┆ … ┆ -0.434025  ┆ 1.0868089  ┆ -0.054789 ┆ -0.43497  │\n",
      "└────────────┴───────────┴────────────┴──────┴───┴────────────┴────────────┴───────────┴───────────┘\n"
     ]
    }
   ],
   "source": [
    "df_pl_img_embed = pl.read_csv(os.path.join(data_dir, \"tl_features.csv\"))\n",
    "print(df_pl_img_embed)"
   ]
  },
  {
   "cell_type": "code",
   "execution_count": 21,
   "id": "03bfedc0-ae14-4a0f-95d8-b47774b9454f",
   "metadata": {},
   "outputs": [
    {
     "name": "stdout",
     "output_type": "stream",
     "text": [
      "shape: (13_200, 3)\n",
      "┌─────────────┬───────┬──────────┐\n",
      "│ plate       ┆ week  ┆ plate_no │\n",
      "│ ---         ┆ ---   ┆ ---      │\n",
      "│ str         ┆ str   ┆ str      │\n",
      "╞═════════════╪═══════╪══════════╡\n",
      "│ Week4_27481 ┆ Week4 ┆ 27481    │\n",
      "│ Week4_27481 ┆ Week4 ┆ 27481    │\n",
      "│ Week4_27481 ┆ Week4 ┆ 27481    │\n",
      "│ Week4_27481 ┆ Week4 ┆ 27481    │\n",
      "│ Week4_27521 ┆ Week4 ┆ 27521    │\n",
      "│ …           ┆ …     ┆ …        │\n",
      "│ Week9_39301 ┆ Week9 ┆ 39301    │\n",
      "│ Week9_39301 ┆ Week9 ┆ 39301    │\n",
      "│ Week9_39301 ┆ Week9 ┆ 39301    │\n",
      "│ Week9_39301 ┆ Week9 ┆ 39301    │\n",
      "│ Week9_39301 ┆ Week9 ┆ 39301    │\n",
      "└─────────────┴───────┴──────────┘\n"
     ]
    }
   ],
   "source": [
    "plates = df_pl_img_embed.select(\n",
    "    pl.col(\"Image_PathName_DAPI\").str.extract(r\".*\\/(.+)$\", group_index=1).alias(\"plate\"),\n",
    "    pl.col(\"Image_PathName_DAPI\").str.extract(r\"(Week.+)_.+\", group_index=1).alias(\"week\"),\n",
    "    pl.col(\"Image_PathName_DAPI\").str.extract(r\".+_(\\d+)\", group_index=1).alias(\"plate_no\"),\n",
    ")\n",
    "print(plates)"
   ]
  },
  {
   "cell_type": "code",
   "execution_count": 22,
   "id": "27bfd2ae-2b70-4d79-ba68-b3aebb3392f4",
   "metadata": {},
   "outputs": [
    {
     "name": "stdout",
     "output_type": "stream",
     "text": [
      "shape: (13_200, 2)\n",
      "┌──────────┬─────────────────────────────────┐\n",
      "│ plate_no ┆ Image_PathName_DAPI             │\n",
      "│ ---      ┆ ---                             │\n",
      "│ str      ┆ str                             │\n",
      "╞══════════╪═════════════════════════════════╡\n",
      "│ 27481    ┆ /scratch/siads696s24_class_roo… │\n",
      "│ 27481    ┆ /scratch/siads696s24_class_roo… │\n",
      "│ 27481    ┆ /scratch/siads696s24_class_roo… │\n",
      "│ 27481    ┆ /scratch/siads696s24_class_roo… │\n",
      "│ 27521    ┆ /scratch/siads696s24_class_roo… │\n",
      "│ …        ┆ …                               │\n",
      "│ 39301    ┆ /scratch/siads696s24_class_roo… │\n",
      "│ 39301    ┆ /scratch/siads696s24_class_roo… │\n",
      "│ 39301    ┆ /scratch/siads696s24_class_roo… │\n",
      "│ 39301    ┆ /scratch/siads696s24_class_roo… │\n",
      "│ 39301    ┆ /scratch/siads696s24_class_roo… │\n",
      "└──────────┴─────────────────────────────────┘\n"
     ]
    }
   ],
   "source": [
    "df_pl_img_embed = pl.concat(\n",
    "    [\n",
    "        plates,\n",
    "        df_pl_img_embed,\n",
    "    ],\n",
    "    how=\"horizontal\",\n",
    ")\n",
    "print(df_pl_img_embed.select(pl.col(\"plate_no\", \"Image_PathName_DAPI\")))"
   ]
  },
  {
   "cell_type": "code",
   "execution_count": 23,
   "id": "da90bc04-8445-4143-8cf7-b8019d4cf17c",
   "metadata": {},
   "outputs": [
    {
     "name": "stdout",
     "output_type": "stream",
     "text": [
      "shape: (55, 3)\n",
      "┌──────────────┬────────┬──────────┐\n",
      "│ plate        ┆ week   ┆ plate_no │\n",
      "│ ---          ┆ ---    ┆ ---      │\n",
      "│ str          ┆ str    ┆ str      │\n",
      "╞══════════════╪════════╪══════════╡\n",
      "│ Week1_22123  ┆ Week1  ┆ 22123    │\n",
      "│ Week1_22141  ┆ Week1  ┆ 22141    │\n",
      "│ Week1_22161  ┆ Week1  ┆ 22161    │\n",
      "│ Week1_22361  ┆ Week1  ┆ 22361    │\n",
      "│ Week1_22381  ┆ Week1  ┆ 22381    │\n",
      "│ …            ┆ …      ┆ …        │\n",
      "│ Week9_39283  ┆ Week9  ┆ 39283    │\n",
      "│ Week9_39301  ┆ Week9  ┆ 39301    │\n",
      "│ Week10_40111 ┆ Week10 ┆ 40111    │\n",
      "│ Week10_40115 ┆ Week10 ┆ 40115    │\n",
      "│ Week10_40119 ┆ Week10 ┆ 40119    │\n",
      "└──────────────┴────────┴──────────┘\n"
     ]
    }
   ],
   "source": [
    "print(plates.sort(\"plate_no\").unique(maintain_order=True))"
   ]
  },
  {
   "cell_type": "code",
   "execution_count": 24,
   "id": "e116bb8c-8350-4b57-b5e6-beebc3026b3e",
   "metadata": {},
   "outputs": [
    {
     "name": "stdout",
     "output_type": "stream",
     "text": [
      "shape: (13_200, 3_065)\n",
      "┌──────────┬────────────┬──────┬───────────┬───┬────────────┬────────────┬────────────┬────────────┐\n",
      "│ plate_no ┆ smiles     ┆ moa  ┆ Z000_DAPI ┆ … ┆ Z1020_Acti ┆ Z1021_Acti ┆ Z1022_Acti ┆ Z1023_Acti │\n",
      "│ ---      ┆ ---        ┆ ---  ┆ ---       ┆   ┆ n          ┆ n          ┆ n          ┆ n          │\n",
      "│ str      ┆ str        ┆ str  ┆ f64       ┆   ┆ ---        ┆ ---        ┆ ---        ┆ ---        │\n",
      "│          ┆            ┆      ┆           ┆   ┆ f64        ┆ f64        ┆ f64        ┆ f64        │\n",
      "╞══════════╪════════════╪══════╪═══════════╪═══╪════════════╪════════════╪════════════╪════════════╡\n",
      "│ 27481    ┆ FC1=CNC(=O ┆ null ┆ 0.000045  ┆ … ┆ -0.321486  ┆ 1.2154524  ┆ -0.089709  ┆ -0.413298  │\n",
      "│          ┆ )NC1=O     ┆      ┆           ┆   ┆            ┆            ┆            ┆            │\n",
      "│ 27481    ┆ FC1=CNC(=O ┆ null ┆ 0.000222  ┆ … ┆ -0.629341  ┆ 2.0029707  ┆ 0.4161029  ┆ -0.491764  │\n",
      "│          ┆ )NC1=O     ┆      ┆           ┆   ┆            ┆            ┆            ┆            │\n",
      "│ 27481    ┆ FC1=CNC(=O ┆ null ┆ 0.000026  ┆ … ┆ -0.28802   ┆ 0.750829   ┆ -0.016331  ┆ -0.539989  │\n",
      "│          ┆ )NC1=O     ┆      ┆           ┆   ┆            ┆            ┆            ┆            │\n",
      "│ 27481    ┆ FC1=CNC(=O ┆ null ┆ 0.000042  ┆ … ┆ -0.315154  ┆ 1.5105941  ┆ 0.013336   ┆ -0.460936  │\n",
      "│          ┆ )NC1=O     ┆      ┆           ┆   ┆            ┆            ┆            ┆            │\n",
      "│ 27521    ┆ FC1=CNC(=O ┆ null ┆ 0.000176  ┆ … ┆ -0.425821  ┆ 0.9314116  ┆ 0.423981   ┆ -0.502664  │\n",
      "│          ┆ )NC1=O     ┆      ┆           ┆   ┆            ┆            ┆            ┆            │\n",
      "│ …        ┆ …          ┆ …    ┆ …         ┆ … ┆ …          ┆ …          ┆ …          ┆ …          │\n",
      "│ 39301    ┆ null       ┆ DMSO ┆ 0.000406  ┆ … ┆ -0.749387  ┆ 2.3965626  ┆ 0.603147   ┆ 0.377651   │\n",
      "│ 39301    ┆ null       ┆ DMSO ┆ 0.00021   ┆ … ┆ -0.249621  ┆ 0.132188   ┆ -0.179003  ┆ -0.476881  │\n",
      "│ 39301    ┆ null       ┆ DMSO ┆ 0.000526  ┆ … ┆ -0.451511  ┆ 2.6246767  ┆ 1.2822963  ┆ -0.214316  │\n",
      "│ 39301    ┆ null       ┆ DMSO ┆ -0.000049 ┆ … ┆ -0.206442  ┆ -0.031611  ┆ -0.164196  ┆ -0.431555  │\n",
      "│ 39301    ┆ null       ┆ DMSO ┆ 0.000189  ┆ … ┆ -0.434025  ┆ 1.0868089  ┆ -0.054789  ┆ -0.43497   │\n",
      "└──────────┴────────────┴──────┴───────────┴───┴────────────┴────────────┴────────────┴────────────┘\n"
     ]
    }
   ],
   "source": [
    "out = df_pl_img_embed.select(\n",
    "    pl.col(\"*\").exclude(\"plate\",\n",
    "                        \"week\",\n",
    "                        \"TableNumber\", \n",
    "                        \"Image_FileName_DAPI\",\n",
    "                        \"Image_PathName_DAPI\",\n",
    "                        \"Image_FileName_Tubulin\",\n",
    "                        \"Image_PathName_Tubulin\",\n",
    "                        \"Image_FileName_Actin\",\n",
    "                        \"Image_PathName_Actin\",\n",
    "                        \"Image_Metadata_Plate_DAPI\",\n",
    "                        \"Image_Metadata_Well_DAPI\",\n",
    "                        \"Replicate\",\n",
    "                        \"Image_Metadata_Concentration\")\n",
    "                        \n",
    ")\n",
    "print(out)"
   ]
  },
  {
   "cell_type": "code",
   "execution_count": 26,
   "id": "86628331-a75d-4172-8ea7-99d99c79705a",
   "metadata": {},
   "outputs": [],
   "source": [
    "out.write_csv(os.path.join(data_dir, \"bbbc021_image_embed_compact.csv\"))"
   ]
  },
  {
   "cell_type": "code",
   "execution_count": null,
   "id": "bebb4fbb-eecf-4785-ac2c-b8eaacd3dfd9",
   "metadata": {},
   "outputs": [],
   "source": []
  }
 ],
 "metadata": {
  "kernelspec": {
   "display_name": "ms2",
   "language": "python",
   "name": "ms2"
  },
  "language_info": {
   "codemirror_mode": {
    "name": "ipython",
    "version": 3
   },
   "file_extension": ".py",
   "mimetype": "text/x-python",
   "name": "python",
   "nbconvert_exporter": "python",
   "pygments_lexer": "ipython3",
   "version": "3.12.2"
  }
 },
 "nbformat": 4,
 "nbformat_minor": 5
}

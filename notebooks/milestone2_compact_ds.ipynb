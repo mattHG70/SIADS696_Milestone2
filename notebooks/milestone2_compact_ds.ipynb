{
 "cells": [
  {
   "cell_type": "code",
   "execution_count": 1,
   "id": "734bf7d4-ff12-4742-ae21-56e287d18993",
   "metadata": {},
   "outputs": [],
   "source": [
    "import os\n",
    "import pandas as pd\n",
    "import numpy as np\n",
    "\n",
    "import polars as pl"
   ]
  },
  {
   "cell_type": "code",
   "execution_count": 15,
   "id": "dc37d91a-0e78-49cf-aec8-98f03755d945",
   "metadata": {},
   "outputs": [],
   "source": [
    "data_dir = \"~/siads696/data\""
   ]
  },
  {
   "cell_type": "code",
   "execution_count": 16,
   "id": "7d561fd3-a7b3-4c1d-b890-f63c1f2a6a0c",
   "metadata": {},
   "outputs": [
    {
     "name": "stdout",
     "output_type": "stream",
     "text": [
      "shape: (13_200, 3_088)\n",
      "┌───────────┬───────────┬───────────┬───────────┬───┬───────────┬───────────┬───────────┬──────────┐\n",
      "│ Metadata_ ┆ Metadata_ ┆ Metadata_ ┆ Metadata_ ┆ … ┆ Z1020_Act ┆ Z1021_Act ┆ Z1022_Act ┆ Z1023_Ac │\n",
      "│ ID        ┆ TableNumb ┆ ImageNumb ┆ Plate_DAP ┆   ┆ in        ┆ in        ┆ in        ┆ tin      │\n",
      "│ ---       ┆ er        ┆ er        ┆ I         ┆   ┆ ---       ┆ ---       ┆ ---       ┆ ---      │\n",
      "│ str       ┆ ---       ┆ ---       ┆ ---       ┆   ┆ f64       ┆ f64       ┆ f64       ┆ f64      │\n",
      "│           ┆ i64       ┆ i64       ┆ str       ┆   ┆           ┆           ┆           ┆          │\n",
      "╞═══════════╪═══════════╪═══════════╪═══════════╪═══╪═══════════╪═══════════╪═══════════╪══════════╡\n",
      "│ 4_233     ┆ 4         ┆ 233       ┆ Week4_274 ┆ … ┆ -0.321486 ┆ 1.2154524 ┆ -0.089709 ┆ -0.41329 │\n",
      "│           ┆           ┆           ┆ 81        ┆   ┆           ┆           ┆           ┆ 8        │\n",
      "│ 4_234     ┆ 4         ┆ 234       ┆ Week4_274 ┆ … ┆ -0.629341 ┆ 2.0029707 ┆ 0.4161029 ┆ -0.49176 │\n",
      "│           ┆           ┆           ┆ 81        ┆   ┆           ┆           ┆           ┆ 4        │\n",
      "│ 4_235     ┆ 4         ┆ 235       ┆ Week4_274 ┆ … ┆ -0.28802  ┆ 0.750829  ┆ -0.016331 ┆ -0.53998 │\n",
      "│           ┆           ┆           ┆ 81        ┆   ┆           ┆           ┆           ┆ 9        │\n",
      "│ 4_236     ┆ 4         ┆ 236       ┆ Week4_274 ┆ … ┆ -0.315154 ┆ 1.5105941 ┆ 0.013336  ┆ -0.46093 │\n",
      "│           ┆           ┆           ┆ 81        ┆   ┆           ┆           ┆           ┆ 6        │\n",
      "│ 4_473     ┆ 4         ┆ 473       ┆ Week4_275 ┆ … ┆ -0.425821 ┆ 0.9314116 ┆ 0.423981  ┆ -0.50266 │\n",
      "│           ┆           ┆           ┆ 21        ┆   ┆           ┆           ┆           ┆ 4        │\n",
      "│ …         ┆ …         ┆ …         ┆ …         ┆ … ┆ …         ┆ …         ┆ …         ┆ …        │\n",
      "│ 9_3560    ┆ 9         ┆ 3560      ┆ Week9_393 ┆ … ┆ -0.749387 ┆ 2.3965626 ┆ 0.603147  ┆ 0.377651 │\n",
      "│           ┆           ┆           ┆ 01        ┆   ┆           ┆           ┆           ┆          │\n",
      "│ 9_3597    ┆ 9         ┆ 3597      ┆ Week9_393 ┆ … ┆ -0.249621 ┆ 0.132188  ┆ -0.179003 ┆ -0.47688 │\n",
      "│           ┆           ┆           ┆ 01        ┆   ┆           ┆           ┆           ┆ 1        │\n",
      "│ 9_3598    ┆ 9         ┆ 3598      ┆ Week9_393 ┆ … ┆ -0.451511 ┆ 2.6246767 ┆ 1.2822963 ┆ -0.21431 │\n",
      "│           ┆           ┆           ┆ 01        ┆   ┆           ┆           ┆           ┆ 6        │\n",
      "│ 9_3599    ┆ 9         ┆ 3599      ┆ Week9_393 ┆ … ┆ -0.206442 ┆ -0.031611 ┆ -0.164196 ┆ -0.43155 │\n",
      "│           ┆           ┆           ┆ 01        ┆   ┆           ┆           ┆           ┆ 5        │\n",
      "│ 9_3600    ┆ 9         ┆ 3600      ┆ Week9_393 ┆ … ┆ -0.434025 ┆ 1.0868089 ┆ -0.054789 ┆ -0.43497 │\n",
      "│           ┆           ┆           ┆ 01        ┆   ┆           ┆           ┆           ┆          │\n",
      "└───────────┴───────────┴───────────┴───────────┴───┴───────────┴───────────┴───────────┴──────────┘\n"
     ]
    }
   ],
   "source": [
    "df_pl_img_embed = pl.read_csv(os.path.join(data_dir, \"tl_features.csv\"))\n",
    "print(df_pl_img_embed)"
   ]
  },
  {
   "cell_type": "code",
   "execution_count": 17,
   "id": "94691a42-2e56-44fc-8fcd-d2abc283c32f",
   "metadata": {},
   "outputs": [
    {
     "data": {
      "text/plain": [
       "['Metadata_ID',\n",
       " 'Metadata_TableNumber',\n",
       " 'Metadata_ImageNumber',\n",
       " 'Metadata_Plate_DAPI',\n",
       " 'Metadata_Well_DAPI',\n",
       " 'Metadata_Replicate',\n",
       " 'Metadata_Compound',\n",
       " 'Metadata_Concentration',\n",
       " 'Metadata_SMILES',\n",
       " 'Metadata_MoA']"
      ]
     },
     "execution_count": 17,
     "metadata": {},
     "output_type": "execute_result"
    }
   ],
   "source": [
    "df_pl_img_embed.select(\n",
    "    pl.col(\"^Metadata.+$\")\n",
    ").columns"
   ]
  },
  {
   "cell_type": "code",
   "execution_count": 18,
   "id": "150cc3d3-9600-4189-89e2-deda58f19bbd",
   "metadata": {},
   "outputs": [],
   "source": [
    "plate_no = df_pl_img_embed.select(\n",
    "    pl.col(\"Metadata_Plate_DAPI\").str.extract(r\".+_(\\d+)\", group_index=1).cast(pl.Int64).alias(\"Metadata_PlateNumber\"),\n",
    ")"
   ]
  },
  {
   "cell_type": "code",
   "execution_count": 19,
   "id": "27bfd2ae-2b70-4d79-ba68-b3aebb3392f4",
   "metadata": {},
   "outputs": [
    {
     "name": "stdout",
     "output_type": "stream",
     "text": [
      "shape: (13_200, 2)\n",
      "┌──────────────────────┬─────────────────────┐\n",
      "│ Metadata_PlateNumber ┆ Metadata_Plate_DAPI │\n",
      "│ ---                  ┆ ---                 │\n",
      "│ i64                  ┆ str                 │\n",
      "╞══════════════════════╪═════════════════════╡\n",
      "│ 27481                ┆ Week4_27481         │\n",
      "│ 27481                ┆ Week4_27481         │\n",
      "│ 27481                ┆ Week4_27481         │\n",
      "│ 27481                ┆ Week4_27481         │\n",
      "│ 27521                ┆ Week4_27521         │\n",
      "│ …                    ┆ …                   │\n",
      "│ 39301                ┆ Week9_39301         │\n",
      "│ 39301                ┆ Week9_39301         │\n",
      "│ 39301                ┆ Week9_39301         │\n",
      "│ 39301                ┆ Week9_39301         │\n",
      "│ 39301                ┆ Week9_39301         │\n",
      "└──────────────────────┴─────────────────────┘\n"
     ]
    }
   ],
   "source": [
    "df_pl_img_embed = pl.concat(\n",
    "    [\n",
    "        plate_no,\n",
    "        df_pl_img_embed,\n",
    "    ],\n",
    "    how=\"horizontal\",\n",
    ")\n",
    "print(df_pl_img_embed.select(pl.col(\"Metadata_PlateNumber\", \"Metadata_Plate_DAPI\")))"
   ]
  },
  {
   "cell_type": "code",
   "execution_count": 20,
   "id": "e116bb8c-8350-4b57-b5e6-beebc3026b3e",
   "metadata": {},
   "outputs": [
    {
     "name": "stdout",
     "output_type": "stream",
     "text": [
      "shape: (13_200, 3_081)\n",
      "┌───────────┬───────────┬───────────┬───────────┬───┬───────────┬───────────┬───────────┬──────────┐\n",
      "│ Metadata_ ┆ Metadata_ ┆ Metadata_ ┆ Metadata_ ┆ … ┆ Z1020_Act ┆ Z1021_Act ┆ Z1022_Act ┆ Z1023_Ac │\n",
      "│ PlateNumb ┆ ID        ┆ TableNumb ┆ ImageNumb ┆   ┆ in        ┆ in        ┆ in        ┆ tin      │\n",
      "│ er        ┆ ---       ┆ er        ┆ er        ┆   ┆ ---       ┆ ---       ┆ ---       ┆ ---      │\n",
      "│ ---       ┆ str       ┆ ---       ┆ ---       ┆   ┆ f64       ┆ f64       ┆ f64       ┆ f64      │\n",
      "│ i64       ┆           ┆ i64       ┆ i64       ┆   ┆           ┆           ┆           ┆          │\n",
      "╞═══════════╪═══════════╪═══════════╪═══════════╪═══╪═══════════╪═══════════╪═══════════╪══════════╡\n",
      "│ 27481     ┆ 4_233     ┆ 4         ┆ 233       ┆ … ┆ -0.321486 ┆ 1.2154524 ┆ -0.089709 ┆ -0.41329 │\n",
      "│           ┆           ┆           ┆           ┆   ┆           ┆           ┆           ┆ 8        │\n",
      "│ 27481     ┆ 4_234     ┆ 4         ┆ 234       ┆ … ┆ -0.629341 ┆ 2.0029707 ┆ 0.4161029 ┆ -0.49176 │\n",
      "│           ┆           ┆           ┆           ┆   ┆           ┆           ┆           ┆ 4        │\n",
      "│ 27481     ┆ 4_235     ┆ 4         ┆ 235       ┆ … ┆ -0.28802  ┆ 0.750829  ┆ -0.016331 ┆ -0.53998 │\n",
      "│           ┆           ┆           ┆           ┆   ┆           ┆           ┆           ┆ 9        │\n",
      "│ 27481     ┆ 4_236     ┆ 4         ┆ 236       ┆ … ┆ -0.315154 ┆ 1.5105941 ┆ 0.013336  ┆ -0.46093 │\n",
      "│           ┆           ┆           ┆           ┆   ┆           ┆           ┆           ┆ 6        │\n",
      "│ 27521     ┆ 4_473     ┆ 4         ┆ 473       ┆ … ┆ -0.425821 ┆ 0.9314116 ┆ 0.423981  ┆ -0.50266 │\n",
      "│           ┆           ┆           ┆           ┆   ┆           ┆           ┆           ┆ 4        │\n",
      "│ …         ┆ …         ┆ …         ┆ …         ┆ … ┆ …         ┆ …         ┆ …         ┆ …        │\n",
      "│ 39301     ┆ 9_3560    ┆ 9         ┆ 3560      ┆ … ┆ -0.749387 ┆ 2.3965626 ┆ 0.603147  ┆ 0.377651 │\n",
      "│ 39301     ┆ 9_3597    ┆ 9         ┆ 3597      ┆ … ┆ -0.249621 ┆ 0.132188  ┆ -0.179003 ┆ -0.47688 │\n",
      "│           ┆           ┆           ┆           ┆   ┆           ┆           ┆           ┆ 1        │\n",
      "│ 39301     ┆ 9_3598    ┆ 9         ┆ 3598      ┆ … ┆ -0.451511 ┆ 2.6246767 ┆ 1.2822963 ┆ -0.21431 │\n",
      "│           ┆           ┆           ┆           ┆   ┆           ┆           ┆           ┆ 6        │\n",
      "│ 39301     ┆ 9_3599    ┆ 9         ┆ 3599      ┆ … ┆ -0.206442 ┆ -0.031611 ┆ -0.164196 ┆ -0.43155 │\n",
      "│           ┆           ┆           ┆           ┆   ┆           ┆           ┆           ┆ 5        │\n",
      "│ 39301     ┆ 9_3600    ┆ 9         ┆ 3600      ┆ … ┆ -0.434025 ┆ 1.0868089 ┆ -0.054789 ┆ -0.43497 │\n",
      "└───────────┴───────────┴───────────┴───────────┴───┴───────────┴───────────┴───────────┴──────────┘\n"
     ]
    }
   ],
   "source": [
    "out = df_pl_img_embed.select(\n",
    "    pl.col(\"*\").exclude(\"Image_FileName_DAPI\",\n",
    "                        \"Image_PathName_DAPI\",\n",
    "                        \"Image_FileName_Tubulin\",\n",
    "                        \"Image_PathName_Tubulin\",\n",
    "                        \"Image_FileName_Actin\",\n",
    "                        \"Image_PathName_Actin\",\n",
    "                        \"Metadata_Plate_DAPI\",\n",
    "                        \"Metadata_Well_DAPI\",\n",
    "                        )\n",
    "                        \n",
    ")\n",
    "print(out)"
   ]
  },
  {
   "cell_type": "code",
   "execution_count": 21,
   "id": "86628331-a75d-4172-8ea7-99d99c79705a",
   "metadata": {},
   "outputs": [],
   "source": [
    "out.write_csv(os.path.join(data_dir, \"bbbc021_image_embed_compact.csv\"))"
   ]
  },
  {
   "cell_type": "code",
   "execution_count": null,
   "id": "bebb4fbb-eecf-4785-ac2c-b8eaacd3dfd9",
   "metadata": {},
   "outputs": [],
   "source": []
  }
 ],
 "metadata": {
  "kernelspec": {
   "display_name": "ms2",
   "language": "python",
   "name": "ms2"
  },
  "language_info": {
   "codemirror_mode": {
    "name": "ipython",
    "version": 3
   },
   "file_extension": ".py",
   "mimetype": "text/x-python",
   "name": "python",
   "nbconvert_exporter": "python",
   "pygments_lexer": "ipython3",
   "version": "3.12.2"
  }
 },
 "nbformat": 4,
 "nbformat_minor": 5
}

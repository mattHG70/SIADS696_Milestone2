{
 "cells": [
  {
   "cell_type": "markdown",
   "metadata": {
    "id": "DV-dsh4KPGE8"
   },
   "source": [
    "# SIADS 696 Milstone 2 - Dataset Exploration  \n",
    "\n",
    "The following section should be used in case this notebook is executed in a Google Colab environment. It can be skipped or altered when a different environment is used.  \n",
    "\n",
    "## Google Colab Sepcific Section"
   ]
  },
  {
   "cell_type": "markdown",
   "metadata": {
    "id": "ZhX9JV76ngm6"
   },
   "source": [
    "**Google Colab specific setup**  \n",
    "Create data folders in Google Collab."
   ]
  },
  {
   "cell_type": "code",
   "execution_count": 1,
   "metadata": {
    "colab": {
     "base_uri": "https://localhost:8080/"
    },
    "id": "f647Tj5Amk53",
    "outputId": "65a25a81-0afc-4e94-c79f-e3494a18c673"
   },
   "outputs": [
    {
     "name": "stdout",
     "output_type": "stream",
     "text": [
      "mkdir: cannot create directory ‘/content/siads696’: File exists\n",
      "mkdir: cannot create directory ‘/content/siads696/data’: File exists\n"
     ]
    }
   ],
   "source": [
    "!mkdir /content/siads696\n",
    "!mkdir /content/siads696/data"
   ]
  },
  {
   "cell_type": "markdown",
   "metadata": {
    "id": "lRNkn3LankaQ"
   },
   "source": [
    "### Download Datasets from Broad Institute  \n",
    "Download the CSV files from the Broad Institute. The CSV files contain the following content:\n",
    "* Image names with compounds\n",
    "* Compounds with SMILES\n",
    "* Compounds with concetration and MoA  \n",
    "\n",
    "**Google Colab specific setup**  \n",
    "Need to be change in different environments."
   ]
  },
  {
   "cell_type": "code",
   "execution_count": 2,
   "metadata": {
    "colab": {
     "base_uri": "https://localhost:8080/"
    },
    "id": "pFZOfaMtnDam",
    "outputId": "1c3fa66e-2142-4db1-841a-7229efdc61c0"
   },
   "outputs": [
    {
     "name": "stdout",
     "output_type": "stream",
     "text": [
      "  % Total    % Received % Xferd  Average Speed   Time    Time     Time  Current\n",
      "                                 Dload  Upload   Total   Spent    Left  Speed\n",
      "100 3872k  100 3872k    0     0  4290k      0 --:--:-- --:--:-- --:--:-- 4293k\n"
     ]
    }
   ],
   "source": [
    "!curl --output /content/siads696/data/BBBC021_v1_image.csv https://data.broadinstitute.org/bbbc/BBBC021/BBBC021_v1_image.csv"
   ]
  },
  {
   "cell_type": "code",
   "execution_count": 3,
   "metadata": {
    "colab": {
     "base_uri": "https://localhost:8080/"
    },
    "id": "-zlbIlyUoRoR",
    "outputId": "8de9913d-1bc6-4cab-9b9a-4a1725b3aebc"
   },
   "outputs": [
    {
     "name": "stdout",
     "output_type": "stream",
     "text": [
      "  % Total    % Received % Xferd  Average Speed   Time    Time     Time  Current\n",
      "                                 Dload  Upload   Total   Spent    Left  Speed\n",
      "100  8179  100  8179    0     0  19726      0 --:--:-- --:--:-- --:--:-- 19756\n"
     ]
    }
   ],
   "source": [
    "!curl --output /content/siads696/data/BBBC021_v1_compound.csv https://data.broadinstitute.org/bbbc/BBBC021/BBBC021_v1_compound.csv"
   ]
  },
  {
   "cell_type": "code",
   "execution_count": 4,
   "metadata": {
    "colab": {
     "base_uri": "https://localhost:8080/"
    },
    "id": "Mpho7lNKoTjm",
    "outputId": "ca4e9ada-4d0e-4b87-8068-f7e88e1c9b9f"
   },
   "outputs": [
    {
     "name": "stdout",
     "output_type": "stream",
     "text": [
      "  % Total    % Received % Xferd  Average Speed   Time    Time     Time  Current\n",
      "                                 Dload  Upload   Total   Spent    Left  Speed\n",
      "100  4404  100  4404    0     0  12517      0 --:--:-- --:--:-- --:--:-- 12547\n"
     ]
    }
   ],
   "source": [
    "!curl --output /content/siads696/data/BBBC021_v1_moa.csv https://data.broadinstitute.org/bbbc/BBBC021/BBBC021_v1_moa.csv"
   ]
  },
  {
   "cell_type": "markdown",
   "metadata": {
    "id": "-QJeKr4tTMM_"
   },
   "source": [
    "Install RDKit via pip for structure depction.  \n",
    "**Google Colab specific setup**"
   ]
  },
  {
   "cell_type": "code",
   "execution_count": 5,
   "metadata": {
    "colab": {
     "base_uri": "https://localhost:8080/"
    },
    "id": "yM3YAhX4TVbh",
    "outputId": "31deac6b-85a7-427d-c08a-dc0e34dfc5b3"
   },
   "outputs": [
    {
     "name": "stdout",
     "output_type": "stream",
     "text": [
      "Requirement already satisfied: rdkit in /usr/local/lib/python3.10/dist-packages (2023.9.6)\n",
      "Requirement already satisfied: numpy in /usr/local/lib/python3.10/dist-packages (from rdkit) (1.25.2)\n",
      "Requirement already satisfied: Pillow in /usr/local/lib/python3.10/dist-packages (from rdkit) (9.4.0)\n"
     ]
    }
   ],
   "source": [
    "!pip install rdkit"
   ]
  },
  {
   "cell_type": "markdown",
   "metadata": {
    "id": "MyEqSwJGQJxJ"
   },
   "source": [
    "Import libraries used in this notebook."
   ]
  },
  {
   "cell_type": "markdown",
   "metadata": {},
   "source": [
    "## BBBC021 Data Exploration  \n",
    "\n",
    "In addition to the usual imports like *Pandas* and *matplotlib* we also import RDKit, a widely used cheminformatics toolkit, for viusalization of chemical structures in the dataset."
   ]
  },
  {
   "cell_type": "code",
   "execution_count": 1,
   "metadata": {
    "id": "dPKUG7etmUnl"
   },
   "outputs": [],
   "source": [
    "import os\n",
    "\n",
    "import pandas as pd\n",
    "import numpy as np\n",
    "import matplotlib.pyplot as plt\n",
    "import seaborn as sns\n",
    "\n",
    "from rdkit import Chem\n",
    "from rdkit.Chem import Draw"
   ]
  },
  {
   "cell_type": "markdown",
   "metadata": {
    "id": "oJ0gGNg0Ovrc"
   },
   "source": [
    "### Load Datasets  \n",
    "Load each dataset into a Pandas dataframe for further analysis."
   ]
  },
  {
   "cell_type": "code",
   "execution_count": 2,
   "metadata": {
    "id": "E5833JhXogiP"
   },
   "outputs": [],
   "source": [
    "# Google Colab specific data location\n",
    "# data_dir = '/content/siads696/data'\n",
    "\n",
    "# Data location used in Great Lakes environment\n",
    "data_dir = '~/siads696/data'"
   ]
  },
  {
   "cell_type": "code",
   "execution_count": 3,
   "metadata": {
    "colab": {
     "base_uri": "https://localhost:8080/",
     "height": 400
    },
    "id": "XwxRVE8imfgI",
    "outputId": "883bd631-93a6-41bb-e0d9-3065e61af67f"
   },
   "outputs": [
    {
     "data": {
      "text/html": [
       "<div>\n",
       "<style scoped>\n",
       "    .dataframe tbody tr th:only-of-type {\n",
       "        vertical-align: middle;\n",
       "    }\n",
       "\n",
       "    .dataframe tbody tr th {\n",
       "        vertical-align: top;\n",
       "    }\n",
       "\n",
       "    .dataframe thead th {\n",
       "        text-align: right;\n",
       "    }\n",
       "</style>\n",
       "<table border=\"1\" class=\"dataframe\">\n",
       "  <thead>\n",
       "    <tr style=\"text-align: right;\">\n",
       "      <th></th>\n",
       "      <th>TableNumber</th>\n",
       "      <th>ImageNumber</th>\n",
       "      <th>Image_FileName_DAPI</th>\n",
       "      <th>Image_PathName_DAPI</th>\n",
       "      <th>Image_FileName_Tubulin</th>\n",
       "      <th>Image_PathName_Tubulin</th>\n",
       "      <th>Image_FileName_Actin</th>\n",
       "      <th>Image_PathName_Actin</th>\n",
       "      <th>Image_Metadata_Plate_DAPI</th>\n",
       "      <th>Image_Metadata_Well_DAPI</th>\n",
       "      <th>Replicate</th>\n",
       "      <th>Image_Metadata_Compound</th>\n",
       "      <th>Image_Metadata_Concentration</th>\n",
       "    </tr>\n",
       "  </thead>\n",
       "  <tbody>\n",
       "    <tr>\n",
       "      <th>0</th>\n",
       "      <td>4</td>\n",
       "      <td>233</td>\n",
       "      <td>G10_s1_w1BEDC2073-A983-4B98-95E9-84466707A25D.tif</td>\n",
       "      <td>/scratch/siads696s24_class_root/siads696s24_cl...</td>\n",
       "      <td>G10_s1_w2DCEC82F3-05F7-4F2F-B779-C5DF9698141E.tif</td>\n",
       "      <td>/scratch/siads696s24_class_root/siads696s24_cl...</td>\n",
       "      <td>G10_s1_w43CD51CBC-2370-471F-BA01-EE250B14B3C8.tif</td>\n",
       "      <td>/scratch/siads696s24_class_root/siads696s24_cl...</td>\n",
       "      <td>Week4_27481</td>\n",
       "      <td>G10</td>\n",
       "      <td>1</td>\n",
       "      <td>5-fluorouracil</td>\n",
       "      <td>0.003</td>\n",
       "    </tr>\n",
       "    <tr>\n",
       "      <th>1</th>\n",
       "      <td>4</td>\n",
       "      <td>234</td>\n",
       "      <td>G10_s2_w11C3B9BCC-E48F-4C2F-9D31-8F46D8B5B972.tif</td>\n",
       "      <td>/scratch/siads696s24_class_root/siads696s24_cl...</td>\n",
       "      <td>G10_s2_w2570437EF-C8DC-4074-8D63-7FA3A7271FEE.tif</td>\n",
       "      <td>/scratch/siads696s24_class_root/siads696s24_cl...</td>\n",
       "      <td>G10_s2_w400B21F33-BDAB-4363-92C2-F4FB7545F08C.tif</td>\n",
       "      <td>/scratch/siads696s24_class_root/siads696s24_cl...</td>\n",
       "      <td>Week4_27481</td>\n",
       "      <td>G10</td>\n",
       "      <td>1</td>\n",
       "      <td>5-fluorouracil</td>\n",
       "      <td>0.003</td>\n",
       "    </tr>\n",
       "    <tr>\n",
       "      <th>2</th>\n",
       "      <td>4</td>\n",
       "      <td>235</td>\n",
       "      <td>G10_s3_w1F4FCE330-C71C-4CA3-9815-EAF9B9876EB5.tif</td>\n",
       "      <td>/scratch/siads696s24_class_root/siads696s24_cl...</td>\n",
       "      <td>G10_s3_w2194A9AC7-369B-4D84-99C0-DA809B0042B8.tif</td>\n",
       "      <td>/scratch/siads696s24_class_root/siads696s24_cl...</td>\n",
       "      <td>G10_s3_w4E0452054-9FC1-41AB-8C5B-D0ACD058991F.tif</td>\n",
       "      <td>/scratch/siads696s24_class_root/siads696s24_cl...</td>\n",
       "      <td>Week4_27481</td>\n",
       "      <td>G10</td>\n",
       "      <td>1</td>\n",
       "      <td>5-fluorouracil</td>\n",
       "      <td>0.003</td>\n",
       "    </tr>\n",
       "    <tr>\n",
       "      <th>3</th>\n",
       "      <td>4</td>\n",
       "      <td>236</td>\n",
       "      <td>G10_s4_w1747818B4-FFA7-40EE-B0A0-6A5974AF2644.tif</td>\n",
       "      <td>/scratch/siads696s24_class_root/siads696s24_cl...</td>\n",
       "      <td>G10_s4_w298D4652F-B5BF-49F2-BE51-8149DF83EAFD.tif</td>\n",
       "      <td>/scratch/siads696s24_class_root/siads696s24_cl...</td>\n",
       "      <td>G10_s4_w42648D36D-6B77-41CD-B520-6E4C533D9ABC.tif</td>\n",
       "      <td>/scratch/siads696s24_class_root/siads696s24_cl...</td>\n",
       "      <td>Week4_27481</td>\n",
       "      <td>G10</td>\n",
       "      <td>1</td>\n",
       "      <td>5-fluorouracil</td>\n",
       "      <td>0.003</td>\n",
       "    </tr>\n",
       "    <tr>\n",
       "      <th>4</th>\n",
       "      <td>4</td>\n",
       "      <td>473</td>\n",
       "      <td>G10_s1_w10034568D-CC12-43C3-93A9-DC3782099DD3.tif</td>\n",
       "      <td>/scratch/siads696s24_class_root/siads696s24_cl...</td>\n",
       "      <td>G10_s1_w2A29ED14B-952C-4BA1-89B9-4F92B6DADEB4.tif</td>\n",
       "      <td>/scratch/siads696s24_class_root/siads696s24_cl...</td>\n",
       "      <td>G10_s1_w4DAA2E9D1-F6E9-45FA-ADC0-D341B647A680.tif</td>\n",
       "      <td>/scratch/siads696s24_class_root/siads696s24_cl...</td>\n",
       "      <td>Week4_27521</td>\n",
       "      <td>G10</td>\n",
       "      <td>2</td>\n",
       "      <td>5-fluorouracil</td>\n",
       "      <td>0.003</td>\n",
       "    </tr>\n",
       "  </tbody>\n",
       "</table>\n",
       "</div>"
      ],
      "text/plain": [
       "   TableNumber  ImageNumber  \\\n",
       "0            4          233   \n",
       "1            4          234   \n",
       "2            4          235   \n",
       "3            4          236   \n",
       "4            4          473   \n",
       "\n",
       "                                 Image_FileName_DAPI  \\\n",
       "0  G10_s1_w1BEDC2073-A983-4B98-95E9-84466707A25D.tif   \n",
       "1  G10_s2_w11C3B9BCC-E48F-4C2F-9D31-8F46D8B5B972.tif   \n",
       "2  G10_s3_w1F4FCE330-C71C-4CA3-9815-EAF9B9876EB5.tif   \n",
       "3  G10_s4_w1747818B4-FFA7-40EE-B0A0-6A5974AF2644.tif   \n",
       "4  G10_s1_w10034568D-CC12-43C3-93A9-DC3782099DD3.tif   \n",
       "\n",
       "                                 Image_PathName_DAPI  \\\n",
       "0  /scratch/siads696s24_class_root/siads696s24_cl...   \n",
       "1  /scratch/siads696s24_class_root/siads696s24_cl...   \n",
       "2  /scratch/siads696s24_class_root/siads696s24_cl...   \n",
       "3  /scratch/siads696s24_class_root/siads696s24_cl...   \n",
       "4  /scratch/siads696s24_class_root/siads696s24_cl...   \n",
       "\n",
       "                              Image_FileName_Tubulin  \\\n",
       "0  G10_s1_w2DCEC82F3-05F7-4F2F-B779-C5DF9698141E.tif   \n",
       "1  G10_s2_w2570437EF-C8DC-4074-8D63-7FA3A7271FEE.tif   \n",
       "2  G10_s3_w2194A9AC7-369B-4D84-99C0-DA809B0042B8.tif   \n",
       "3  G10_s4_w298D4652F-B5BF-49F2-BE51-8149DF83EAFD.tif   \n",
       "4  G10_s1_w2A29ED14B-952C-4BA1-89B9-4F92B6DADEB4.tif   \n",
       "\n",
       "                              Image_PathName_Tubulin  \\\n",
       "0  /scratch/siads696s24_class_root/siads696s24_cl...   \n",
       "1  /scratch/siads696s24_class_root/siads696s24_cl...   \n",
       "2  /scratch/siads696s24_class_root/siads696s24_cl...   \n",
       "3  /scratch/siads696s24_class_root/siads696s24_cl...   \n",
       "4  /scratch/siads696s24_class_root/siads696s24_cl...   \n",
       "\n",
       "                                Image_FileName_Actin  \\\n",
       "0  G10_s1_w43CD51CBC-2370-471F-BA01-EE250B14B3C8.tif   \n",
       "1  G10_s2_w400B21F33-BDAB-4363-92C2-F4FB7545F08C.tif   \n",
       "2  G10_s3_w4E0452054-9FC1-41AB-8C5B-D0ACD058991F.tif   \n",
       "3  G10_s4_w42648D36D-6B77-41CD-B520-6E4C533D9ABC.tif   \n",
       "4  G10_s1_w4DAA2E9D1-F6E9-45FA-ADC0-D341B647A680.tif   \n",
       "\n",
       "                                Image_PathName_Actin  \\\n",
       "0  /scratch/siads696s24_class_root/siads696s24_cl...   \n",
       "1  /scratch/siads696s24_class_root/siads696s24_cl...   \n",
       "2  /scratch/siads696s24_class_root/siads696s24_cl...   \n",
       "3  /scratch/siads696s24_class_root/siads696s24_cl...   \n",
       "4  /scratch/siads696s24_class_root/siads696s24_cl...   \n",
       "\n",
       "  Image_Metadata_Plate_DAPI Image_Metadata_Well_DAPI  Replicate  \\\n",
       "0               Week4_27481                      G10          1   \n",
       "1               Week4_27481                      G10          1   \n",
       "2               Week4_27481                      G10          1   \n",
       "3               Week4_27481                      G10          1   \n",
       "4               Week4_27521                      G10          2   \n",
       "\n",
       "  Image_Metadata_Compound  Image_Metadata_Concentration  \n",
       "0          5-fluorouracil                         0.003  \n",
       "1          5-fluorouracil                         0.003  \n",
       "2          5-fluorouracil                         0.003  \n",
       "3          5-fluorouracil                         0.003  \n",
       "4          5-fluorouracil                         0.003  "
      ]
     },
     "execution_count": 3,
     "metadata": {},
     "output_type": "execute_result"
    }
   ],
   "source": [
    "df_image = pd.read_csv(os.path.join(data_dir, 'BBBC021_v1_image.csv'))\n",
    "df_image.head()"
   ]
  },
  {
   "cell_type": "code",
   "execution_count": 4,
   "metadata": {
    "colab": {
     "base_uri": "https://localhost:8080/",
     "height": 206
    },
    "id": "FGTUBS4koz4S",
    "outputId": "7eff9fe1-2a58-4f60-c599-10f212f7d4d5"
   },
   "outputs": [
    {
     "data": {
      "text/html": [
       "<div>\n",
       "<style scoped>\n",
       "    .dataframe tbody tr th:only-of-type {\n",
       "        vertical-align: middle;\n",
       "    }\n",
       "\n",
       "    .dataframe tbody tr th {\n",
       "        vertical-align: top;\n",
       "    }\n",
       "\n",
       "    .dataframe thead th {\n",
       "        text-align: right;\n",
       "    }\n",
       "</style>\n",
       "<table border=\"1\" class=\"dataframe\">\n",
       "  <thead>\n",
       "    <tr style=\"text-align: right;\">\n",
       "      <th></th>\n",
       "      <th>compound</th>\n",
       "      <th>smiles</th>\n",
       "    </tr>\n",
       "  </thead>\n",
       "  <tbody>\n",
       "    <tr>\n",
       "      <th>0</th>\n",
       "      <td>DMSO</td>\n",
       "      <td>NaN</td>\n",
       "    </tr>\n",
       "    <tr>\n",
       "      <th>1</th>\n",
       "      <td>leupeptin</td>\n",
       "      <td>CC(C)C[C@H](NC(=O)C)C(=O)N[C@@H](CC(C)C)C(=O)N...</td>\n",
       "    </tr>\n",
       "    <tr>\n",
       "      <th>2</th>\n",
       "      <td>taxol</td>\n",
       "      <td>CC(=O)O[C@H]1C(=O)[C@]2(C)[C@@H](O)C[C@H]3OC[C...</td>\n",
       "    </tr>\n",
       "    <tr>\n",
       "      <th>3</th>\n",
       "      <td>camptothecin</td>\n",
       "      <td>CC[C@@]1(O)C(=O)OCC2=C1C=C3N(Cc4cc5ccccc5nc34)...</td>\n",
       "    </tr>\n",
       "    <tr>\n",
       "      <th>4</th>\n",
       "      <td>Cdk1 inhibitor III</td>\n",
       "      <td>CCOC(=O)c1cnc2oc3ccc(O)cc3c2c1c4ccccc4</td>\n",
       "    </tr>\n",
       "  </tbody>\n",
       "</table>\n",
       "</div>"
      ],
      "text/plain": [
       "             compound                                             smiles\n",
       "0                DMSO                                                NaN\n",
       "1           leupeptin  CC(C)C[C@H](NC(=O)C)C(=O)N[C@@H](CC(C)C)C(=O)N...\n",
       "2               taxol  CC(=O)O[C@H]1C(=O)[C@]2(C)[C@@H](O)C[C@H]3OC[C...\n",
       "3        camptothecin  CC[C@@]1(O)C(=O)OCC2=C1C=C3N(Cc4cc5ccccc5nc34)...\n",
       "4  Cdk1 inhibitor III             CCOC(=O)c1cnc2oc3ccc(O)cc3c2c1c4ccccc4"
      ]
     },
     "execution_count": 4,
     "metadata": {},
     "output_type": "execute_result"
    }
   ],
   "source": [
    "df_compound = pd.read_csv(os.path.join(data_dir, 'BBBC021_v1_compound.csv'))\n",
    "df_compound.head()"
   ]
  },
  {
   "cell_type": "code",
   "execution_count": 5,
   "metadata": {
    "colab": {
     "base_uri": "https://localhost:8080/",
     "height": 206
    },
    "id": "e0X2LswOpGi0",
    "outputId": "90066e69-a96f-4cbc-883d-b8ebbb1ebba2"
   },
   "outputs": [
    {
     "data": {
      "text/html": [
       "<div>\n",
       "<style scoped>\n",
       "    .dataframe tbody tr th:only-of-type {\n",
       "        vertical-align: middle;\n",
       "    }\n",
       "\n",
       "    .dataframe tbody tr th {\n",
       "        vertical-align: top;\n",
       "    }\n",
       "\n",
       "    .dataframe thead th {\n",
       "        text-align: right;\n",
       "    }\n",
       "</style>\n",
       "<table border=\"1\" class=\"dataframe\">\n",
       "  <thead>\n",
       "    <tr style=\"text-align: right;\">\n",
       "      <th></th>\n",
       "      <th>compound</th>\n",
       "      <th>concentration</th>\n",
       "      <th>moa</th>\n",
       "    </tr>\n",
       "  </thead>\n",
       "  <tbody>\n",
       "    <tr>\n",
       "      <th>0</th>\n",
       "      <td>PP-2</td>\n",
       "      <td>3.0</td>\n",
       "      <td>Epithelial</td>\n",
       "    </tr>\n",
       "    <tr>\n",
       "      <th>1</th>\n",
       "      <td>emetine</td>\n",
       "      <td>0.3</td>\n",
       "      <td>Protein synthesis</td>\n",
       "    </tr>\n",
       "    <tr>\n",
       "      <th>2</th>\n",
       "      <td>AZ258</td>\n",
       "      <td>1.0</td>\n",
       "      <td>Aurora kinase inhibitors</td>\n",
       "    </tr>\n",
       "    <tr>\n",
       "      <th>3</th>\n",
       "      <td>cytochalasin B</td>\n",
       "      <td>10.0</td>\n",
       "      <td>Actin disruptors</td>\n",
       "    </tr>\n",
       "    <tr>\n",
       "      <th>4</th>\n",
       "      <td>ALLN</td>\n",
       "      <td>3.0</td>\n",
       "      <td>Protein degradation</td>\n",
       "    </tr>\n",
       "  </tbody>\n",
       "</table>\n",
       "</div>"
      ],
      "text/plain": [
       "         compound  concentration                       moa\n",
       "0            PP-2            3.0                Epithelial\n",
       "1         emetine            0.3         Protein synthesis\n",
       "2           AZ258            1.0  Aurora kinase inhibitors\n",
       "3  cytochalasin B           10.0          Actin disruptors\n",
       "4            ALLN            3.0       Protein degradation"
      ]
     },
     "execution_count": 5,
     "metadata": {},
     "output_type": "execute_result"
    }
   ],
   "source": [
    "df_moa = pd.read_csv(os.path.join(data_dir, 'BBBC021_v1_moa.csv'))\n",
    "df_moa.head()"
   ]
  },
  {
   "cell_type": "markdown",
   "metadata": {
    "id": "Vwv7EcSSGpeP"
   },
   "source": [
    "### Explore Image Dataset"
   ]
  },
  {
   "cell_type": "code",
   "execution_count": 6,
   "metadata": {
    "colab": {
     "base_uri": "https://localhost:8080/"
    },
    "id": "_3_TdQeNpVFa",
    "outputId": "149d2506-f962-4c48-91e5-cf01e1f9709f"
   },
   "outputs": [
    {
     "name": "stdout",
     "output_type": "stream",
     "text": [
      "<class 'pandas.core.frame.DataFrame'>\n",
      "RangeIndex: 13200 entries, 0 to 13199\n",
      "Data columns (total 13 columns):\n",
      " #   Column                        Non-Null Count  Dtype  \n",
      "---  ------                        --------------  -----  \n",
      " 0   TableNumber                   13200 non-null  int64  \n",
      " 1   ImageNumber                   13200 non-null  int64  \n",
      " 2   Image_FileName_DAPI           13200 non-null  object \n",
      " 3   Image_PathName_DAPI           13200 non-null  object \n",
      " 4   Image_FileName_Tubulin        13200 non-null  object \n",
      " 5   Image_PathName_Tubulin        13200 non-null  object \n",
      " 6   Image_FileName_Actin          13200 non-null  object \n",
      " 7   Image_PathName_Actin          13200 non-null  object \n",
      " 8   Image_Metadata_Plate_DAPI     13200 non-null  object \n",
      " 9   Image_Metadata_Well_DAPI      13200 non-null  object \n",
      " 10  Replicate                     13200 non-null  int64  \n",
      " 11  Image_Metadata_Compound       13200 non-null  object \n",
      " 12  Image_Metadata_Concentration  13200 non-null  float64\n",
      "dtypes: float64(1), int64(3), object(9)\n",
      "memory usage: 1.3+ MB\n"
     ]
    }
   ],
   "source": [
    "df_image.info()"
   ]
  },
  {
   "cell_type": "code",
   "execution_count": 7,
   "metadata": {
    "colab": {
     "base_uri": "https://localhost:8080/"
    },
    "id": "VeSX2OkSNZo2",
    "outputId": "e58c7a95-53a9-46b3-c6a5-69b89e20f4d1"
   },
   "outputs": [
    {
     "name": "stdout",
     "output_type": "stream",
     "text": [
      "No. of unique compounds:113\n",
      "List of unique compounds:\n",
      "3,3'-diaminobenzidine\n",
      "5-fluorouracil\n",
      "AG-1478\n",
      "ALLN\n",
      "AZ-A\n",
      "AZ-B\n",
      "AZ-C\n",
      "AZ-H\n",
      "AZ-I\n",
      "AZ-J\n",
      "AZ-K\n",
      "AZ-L\n",
      "AZ-M\n",
      "AZ-N\n",
      "AZ-O\n",
      "AZ-U\n",
      "AZ138\n",
      "AZ235\n",
      "AZ258\n",
      "AZ701\n",
      "AZ841\n",
      "Cdk1 inhibitor III\n",
      "Cdk1/2 inhibitor (NU6102)\n",
      "DMSO\n",
      "H-7\n",
      "ICI-182,780\n",
      "LY-294002\n",
      "MG-132\n",
      "PD-150606\n",
      "PD-169316\n",
      "PD-98059\n",
      "PP-2\n",
      "SB-202190\n",
      "SB-203580\n",
      "SP-600125\n",
      "TKK\n",
      "UNKNOWN\n",
      "UO-126\n",
      "Y-27632\n",
      "acyclovir\n",
      "aloisine A\n",
      "alsterpaullone\n",
      "anisomycin\n",
      "aphidicolin\n",
      "arabinofuranosylcytosine\n",
      "atropine\n",
      "bleomycin\n",
      "bohemine\n",
      "brefeldin A\n",
      "bryostatin\n",
      "calpain inhibitor 2 (ALLM)\n",
      "calpeptin\n",
      "camptothecin\n",
      "carboplatin\n",
      "caspase inhibitor 1 (ZVAD)\n",
      "cathepsin inhibitor I\n",
      "chlorambucil\n",
      "chloramphenicol\n",
      "cisplatin\n",
      "colchicine\n",
      "cyclohexamide\n",
      "cyclophosphamide\n",
      "cytochalasin B\n",
      "cytochalasin D\n",
      "demecolcine\n",
      "deoxymannojirimycin\n",
      "deoxynojirimycin\n",
      "docetaxel\n",
      "doxorubicin\n",
      "emetine\n",
      "epothilone B\n",
      "etoposide\n",
      "filipin\n",
      "floxuridine\n",
      "forskolin\n",
      "genistein\n",
      "herbimycin A\n",
      "hydroxyurea\n",
      "indirubin monoxime\n",
      "jasplakinolide\n",
      "lactacystin\n",
      "latrunculin B\n",
      "leupeptin\n",
      "methotrexate\n",
      "methoxylamine\n",
      "mevinolin/lovastatin\n",
      "mitomycin C\n",
      "mitoxantrone\n",
      "monastrol\n",
      "neomycin\n",
      "nocodazole\n",
      "nystatin\n",
      "okadaic acid\n",
      "olomoucine\n",
      "podophyllotoxin\n",
      "proteasome inhibitor I\n",
      "puromycin\n",
      "quercetin\n",
      "raloxifene\n",
      "rapamycin\n",
      "roscovitine\n",
      "simvastatin\n",
      "sodium butyrate\n",
      "sodium fluoride\n",
      "staurosporine\n",
      "taurocholate\n",
      "taxol\n",
      "temozolomide\n",
      "trichostatin\n",
      "tunicamycin\n",
      "valproic acid\n",
      "vinblastine\n",
      "vincristine\n"
     ]
    }
   ],
   "source": [
    "unique_img_compounds =  df_image['Image_Metadata_Compound'].unique()\n",
    "print(f\"No. of unique compounds:{unique_img_compounds.size}\")\n",
    "print(\"List of unique compounds:\")\n",
    "print('\\n'.join(sorted(unique_img_compounds.tolist())))"
   ]
  },
  {
   "cell_type": "markdown",
   "metadata": {
    "id": "Nhfmpt3HGlcA"
   },
   "source": [
    "### Explore Compound Dataset"
   ]
  },
  {
   "cell_type": "code",
   "execution_count": 8,
   "metadata": {
    "colab": {
     "base_uri": "https://localhost:8080/"
    },
    "id": "-IlV8DNspfXl",
    "outputId": "e6154fd9-4f86-4e36-e5a3-227577d0e16a"
   },
   "outputs": [
    {
     "name": "stdout",
     "output_type": "stream",
     "text": [
      "<class 'pandas.core.frame.DataFrame'>\n",
      "RangeIndex: 113 entries, 0 to 112\n",
      "Data columns (total 2 columns):\n",
      " #   Column    Non-Null Count  Dtype \n",
      "---  ------    --------------  ----- \n",
      " 0   compound  113 non-null    object\n",
      " 1   smiles    98 non-null     object\n",
      "dtypes: object(2)\n",
      "memory usage: 1.9+ KB\n"
     ]
    }
   ],
   "source": [
    "df_compound.info()"
   ]
  },
  {
   "cell_type": "code",
   "execution_count": 9,
   "metadata": {
    "colab": {
     "base_uri": "https://localhost:8080/"
    },
    "id": "eaiAGVIDKHTE",
    "outputId": "e7ec9e3b-3491-4ad5-bb37-77bd45b8903f"
   },
   "outputs": [
    {
     "name": "stdout",
     "output_type": "stream",
     "text": [
      "No. of compunds w/o SMILES: 15\n",
      "Compounds w/o SMILES:\n",
      "DMSO\n",
      "AZ-O\n",
      "AZ-U\n",
      "TKK\n",
      "AZ-H\n",
      "AZ-A\n",
      "UNKNOWN\n",
      "AZ-B\n",
      "AZ-I\n",
      "AZ-N\n",
      "AZ-L\n",
      "AZ-M\n",
      "AZ-C\n",
      "AZ-J\n",
      "AZ-K\n"
     ]
    }
   ],
   "source": [
    "compounds_wo_smiles = df_compound[df_compound['smiles'].isnull()]\n",
    "print(f\"No. of compunds w/o SMILES: {compounds_wo_smiles.shape[0]}\")\n",
    "print('Compounds w/o SMILES:')\n",
    "print('\\n'.join(compounds_wo_smiles['compound'].to_list()))"
   ]
  },
  {
   "cell_type": "code",
   "execution_count": 10,
   "metadata": {
    "colab": {
     "base_uri": "https://localhost:8080/"
    },
    "id": "MhLUT78VR3FY",
    "outputId": "c8ad6796-ee1f-4484-dcbd-60434034dc53"
   },
   "outputs": [
    {
     "name": "stdout",
     "output_type": "stream",
     "text": [
      "No. of compunds w SMILES: 98\n",
      "Compounds w SMILES:\n",
      "3,3'-diaminobenzidine\n",
      "5-fluorouracil\n",
      "AG-1478\n",
      "ALLN\n",
      "AZ138\n",
      "AZ235\n",
      "AZ258\n",
      "AZ701\n",
      "AZ841\n",
      "Cdk1 inhibitor III\n",
      "Cdk1/2 inhibitor (NU6102)\n",
      "H-7\n",
      "ICI-182,780\n",
      "LY-294002\n",
      "MG-132\n",
      "PD-150606\n",
      "PD-169316\n",
      "PD-98059\n",
      "PP-2\n",
      "SB-202190\n",
      "SB-203580\n",
      "SP-600125\n",
      "UO-126\n",
      "Y-27632\n",
      "acyclovir\n",
      "aloisine A\n",
      "alsterpaullone\n",
      "anisomycin\n",
      "aphidicolin\n",
      "arabinofuranosylcytosine\n",
      "atropine\n",
      "bleomycin\n",
      "bohemine\n",
      "brefeldin A\n",
      "bryostatin\n",
      "calpain inhibitor 2 (ALLM)\n",
      "calpeptin\n",
      "camptothecin\n",
      "carboplatin\n",
      "caspase inhibitor 1 (ZVAD)\n",
      "cathepsin inhibitor I\n",
      "chlorambucil\n",
      "chloramphenicol\n",
      "cisplatin\n",
      "colchicine\n",
      "cyclohexamide\n",
      "cyclophosphamide\n",
      "cytochalasin B\n",
      "cytochalasin D\n",
      "demecolcine\n",
      "deoxymannojirimycin\n",
      "deoxynojirimycin\n",
      "docetaxel\n",
      "doxorubicin\n",
      "emetine\n",
      "epothilone B\n",
      "etoposide\n",
      "filipin\n",
      "floxuridine\n",
      "forskolin\n",
      "genistein\n",
      "herbimycin A\n",
      "hydroxyurea\n",
      "indirubin monoxime\n",
      "jasplakinolide\n",
      "lactacystin\n",
      "latrunculin B\n",
      "leupeptin\n",
      "methotrexate\n",
      "methoxylamine\n",
      "mevinolin/lovastatin\n",
      "mitomycin C\n",
      "mitoxantrone\n",
      "monastrol\n",
      "neomycin\n",
      "nocodazole\n",
      "nystatin\n",
      "okadaic acid\n",
      "olomoucine\n",
      "podophyllotoxin\n",
      "proteasome inhibitor I\n",
      "puromycin\n",
      "quercetin\n",
      "raloxifene\n",
      "rapamycin\n",
      "roscovitine\n",
      "simvastatin\n",
      "sodium butyrate\n",
      "sodium fluoride\n",
      "staurosporine\n",
      "taurocholate\n",
      "taxol\n",
      "temozolomide\n",
      "trichostatin\n",
      "tunicamycin\n",
      "valproic acid\n",
      "vinblastine\n",
      "vincristine\n"
     ]
    }
   ],
   "source": [
    "compounds_w_smiles = df_compound[~df_compound['smiles'].isnull()].copy()\n",
    "print(f\"No. of compunds w SMILES: {compounds_w_smiles.shape[0]}\")\n",
    "print('Compounds w SMILES:')\n",
    "print('\\n'.join(sorted(compounds_w_smiles['compound'].to_list())))"
   ]
  },
  {
   "cell_type": "markdown",
   "metadata": {
    "id": "og38pcKGYMsU"
   },
   "source": [
    "#### Depict Compounds  \n",
    "Depict a subset of 8 random comounds having a valid SMILES."
   ]
  },
  {
   "cell_type": "code",
   "execution_count": 11,
   "metadata": {
    "colab": {
     "base_uri": "https://localhost:8080/",
     "height": 517
    },
    "id": "ovLUru73Tu2u",
    "outputId": "2c6d498f-93a5-436e-ca42-da854033ae23"
   },
   "outputs": [
    {
     "data": {
      "image/png": "[encoded data removed]",
      "text/plain": [
       "<IPython.core.display.Image object>"
      ]
     },
     "execution_count": 11,
     "metadata": {},
     "output_type": "execute_result"
    }
   ],
   "source": [
    "# add an RDKit molecule column to a dataframe\n",
    "def add_molecule(smi):\n",
    "  if smi is None:\n",
    "    return None\n",
    "  return Chem.MolFromSmiles(smi)\n",
    "\n",
    "# add the name from another column in the dataframe\n",
    "# to the RDKit molecule\n",
    "def add_name_to_mol(row):\n",
    "  if row['molecule'] is None:\n",
    "    return None\n",
    "  row['molecule'].SetProp('_Name', row['compound'])\n",
    "  return row['molecule']\n",
    "\n",
    "compounds_w_smiles['molecule'] = compounds_w_smiles['smiles'].apply(add_molecule)\n",
    "compounds_w_smiles['molecule'] = compounds_w_smiles.apply(add_name_to_mol, axis=1)\n",
    "\n",
    "random_compounds = compounds_w_smiles.sample(8)['molecule'].to_list()\n",
    "Draw.MolsToGridImage(random_compounds,molsPerRow=4,subImgSize=(250,250),legends=[x.GetProp(\"_Name\") for x in random_compounds])"
   ]
  },
  {
   "cell_type": "markdown",
   "metadata": {
    "id": "byYg7WjfGco5"
   },
   "source": [
    "### Explore MoA Dataset"
   ]
  },
  {
   "cell_type": "code",
   "execution_count": 12,
   "metadata": {
    "colab": {
     "base_uri": "https://localhost:8080/"
    },
    "id": "zAd1sjCqpkJ4",
    "outputId": "4a30f493-02f1-4feb-cf6d-9e6fce08d99a"
   },
   "outputs": [
    {
     "name": "stdout",
     "output_type": "stream",
     "text": [
      "<class 'pandas.core.frame.DataFrame'>\n",
      "RangeIndex: 104 entries, 0 to 103\n",
      "Data columns (total 3 columns):\n",
      " #   Column         Non-Null Count  Dtype  \n",
      "---  ------         --------------  -----  \n",
      " 0   compound       104 non-null    object \n",
      " 1   concentration  104 non-null    float64\n",
      " 2   moa            104 non-null    object \n",
      "dtypes: float64(1), object(2)\n",
      "memory usage: 2.6+ KB\n"
     ]
    }
   ],
   "source": [
    "df_moa.info()"
   ]
  },
  {
   "cell_type": "code",
   "execution_count": 13,
   "metadata": {
    "colab": {
     "base_uri": "https://localhost:8080/"
    },
    "id": "tQOGRRuPqVGw",
    "outputId": "c4ad15f0-46ca-4801-ecd5-ec196f2c1a4b"
   },
   "outputs": [
    {
     "name": "stdout",
     "output_type": "stream",
     "text": [
      "No. of unique compounds having MoA: 39\n",
      "List of unique compounds having MoA:\n",
      "ALLN\n",
      "AZ-A\n",
      "AZ-C\n",
      "AZ-J\n",
      "AZ-U\n",
      "AZ138\n",
      "AZ258\n",
      "AZ841\n",
      "DMSO\n",
      "MG-132\n",
      "PD-169316\n",
      "PP-2\n",
      "alsterpaullone\n",
      "anisomycin\n",
      "bryostatin\n",
      "camptothecin\n",
      "chlorambucil\n",
      "cisplatin\n",
      "colchicine\n",
      "cyclohexamide\n",
      "cytochalasin B\n",
      "cytochalasin D\n",
      "demecolcine\n",
      "docetaxel\n",
      "emetine\n",
      "epothilone B\n",
      "etoposide\n",
      "floxuridine\n",
      "lactacystin\n",
      "latrunculin B\n",
      "methotrexate\n",
      "mevinolin/lovastatin\n",
      "mitomycin C\n",
      "mitoxantrone\n",
      "nocodazole\n",
      "proteasome inhibitor I\n",
      "simvastatin\n",
      "taxol\n",
      "vincristine\n"
     ]
    }
   ],
   "source": [
    "unique_moa_compounds = df_moa['compound'].unique()\n",
    "print(f\"No. of unique compounds having MoA: {unique_moa_compounds.size}\")\n",
    "print(\"List of unique compounds having MoA:\")\n",
    "print('\\n'.join(sorted(unique_moa_compounds.tolist())))"
   ]
  },
  {
   "cell_type": "code",
   "execution_count": 14,
   "metadata": {
    "colab": {
     "base_uri": "https://localhost:8080/"
    },
    "id": "SAfXGPNcqat4",
    "outputId": "746cb53f-80a3-4465-d8bc-8a7e1abf0322"
   },
   "outputs": [
    {
     "name": "stdout",
     "output_type": "stream",
     "text": [
      "No. of unique MoA: 13\n",
      "List of unique MoA:\n",
      "Epithelial\n",
      "Protein synthesis\n",
      "Aurora kinase inhibitors\n",
      "Actin disruptors\n",
      "Protein degradation\n",
      "DNA replication\n",
      "Eg5 inhibitors\n",
      "Microtubule stabilizers\n",
      "DNA damage\n",
      "Kinase inhibitors\n",
      "Microtubule destabilizers\n",
      "Cholesterol-lowering\n",
      "DMSO\n"
     ]
    }
   ],
   "source": [
    "unique_moa = df_moa['moa'].unique()\n",
    "print(f\"No. of unique MoA: {unique_moa.size}\")\n",
    "print(f\"List of unique MoA:\")\n",
    "print('\\n'.join(unique_moa))"
   ]
  },
  {
   "cell_type": "code",
   "execution_count": 15,
   "metadata": {
    "colab": {
     "base_uri": "https://localhost:8080/",
     "height": 1000
    },
    "id": "9vddWFVEpn5s",
    "outputId": "34bc8fd7-07ce-4a18-9b2a-b94133be2582"
   },
   "outputs": [
    {
     "data": {
      "text/html": [
       "<div>\n",
       "<style scoped>\n",
       "    .dataframe tbody tr th:only-of-type {\n",
       "        vertical-align: middle;\n",
       "    }\n",
       "\n",
       "    .dataframe tbody tr th {\n",
       "        vertical-align: top;\n",
       "    }\n",
       "\n",
       "    .dataframe thead th {\n",
       "        text-align: right;\n",
       "    }\n",
       "</style>\n",
       "<table border=\"1\" class=\"dataframe\">\n",
       "  <thead>\n",
       "    <tr style=\"text-align: right;\">\n",
       "      <th></th>\n",
       "      <th>compound</th>\n",
       "      <th>no. of concentrations</th>\n",
       "    </tr>\n",
       "  </thead>\n",
       "  <tbody>\n",
       "    <tr>\n",
       "      <th>0</th>\n",
       "      <td>ALLN</td>\n",
       "      <td>2</td>\n",
       "    </tr>\n",
       "    <tr>\n",
       "      <th>1</th>\n",
       "      <td>AZ-A</td>\n",
       "      <td>6</td>\n",
       "    </tr>\n",
       "    <tr>\n",
       "      <th>2</th>\n",
       "      <td>AZ-C</td>\n",
       "      <td>7</td>\n",
       "    </tr>\n",
       "    <tr>\n",
       "      <th>3</th>\n",
       "      <td>AZ-J</td>\n",
       "      <td>3</td>\n",
       "    </tr>\n",
       "    <tr>\n",
       "      <th>4</th>\n",
       "      <td>AZ-U</td>\n",
       "      <td>3</td>\n",
       "    </tr>\n",
       "    <tr>\n",
       "      <th>5</th>\n",
       "      <td>AZ138</td>\n",
       "      <td>5</td>\n",
       "    </tr>\n",
       "    <tr>\n",
       "      <th>6</th>\n",
       "      <td>AZ258</td>\n",
       "      <td>3</td>\n",
       "    </tr>\n",
       "    <tr>\n",
       "      <th>7</th>\n",
       "      <td>AZ841</td>\n",
       "      <td>3</td>\n",
       "    </tr>\n",
       "    <tr>\n",
       "      <th>8</th>\n",
       "      <td>DMSO</td>\n",
       "      <td>1</td>\n",
       "    </tr>\n",
       "    <tr>\n",
       "      <th>9</th>\n",
       "      <td>MG-132</td>\n",
       "      <td>2</td>\n",
       "    </tr>\n",
       "    <tr>\n",
       "      <th>10</th>\n",
       "      <td>PD-169316</td>\n",
       "      <td>2</td>\n",
       "    </tr>\n",
       "    <tr>\n",
       "      <th>11</th>\n",
       "      <td>PP-2</td>\n",
       "      <td>2</td>\n",
       "    </tr>\n",
       "    <tr>\n",
       "      <th>12</th>\n",
       "      <td>alsterpaullone</td>\n",
       "      <td>2</td>\n",
       "    </tr>\n",
       "    <tr>\n",
       "      <th>13</th>\n",
       "      <td>anisomycin</td>\n",
       "      <td>2</td>\n",
       "    </tr>\n",
       "    <tr>\n",
       "      <th>14</th>\n",
       "      <td>bryostatin</td>\n",
       "      <td>1</td>\n",
       "    </tr>\n",
       "    <tr>\n",
       "      <th>15</th>\n",
       "      <td>camptothecin</td>\n",
       "      <td>3</td>\n",
       "    </tr>\n",
       "    <tr>\n",
       "      <th>16</th>\n",
       "      <td>chlorambucil</td>\n",
       "      <td>1</td>\n",
       "    </tr>\n",
       "    <tr>\n",
       "      <th>17</th>\n",
       "      <td>cisplatin</td>\n",
       "      <td>1</td>\n",
       "    </tr>\n",
       "    <tr>\n",
       "      <th>18</th>\n",
       "      <td>colchicine</td>\n",
       "      <td>1</td>\n",
       "    </tr>\n",
       "    <tr>\n",
       "      <th>19</th>\n",
       "      <td>cyclohexamide</td>\n",
       "      <td>3</td>\n",
       "    </tr>\n",
       "    <tr>\n",
       "      <th>20</th>\n",
       "      <td>cytochalasin B</td>\n",
       "      <td>2</td>\n",
       "    </tr>\n",
       "    <tr>\n",
       "      <th>21</th>\n",
       "      <td>cytochalasin D</td>\n",
       "      <td>1</td>\n",
       "    </tr>\n",
       "    <tr>\n",
       "      <th>22</th>\n",
       "      <td>demecolcine</td>\n",
       "      <td>4</td>\n",
       "    </tr>\n",
       "    <tr>\n",
       "      <th>23</th>\n",
       "      <td>docetaxel</td>\n",
       "      <td>3</td>\n",
       "    </tr>\n",
       "    <tr>\n",
       "      <th>24</th>\n",
       "      <td>emetine</td>\n",
       "      <td>3</td>\n",
       "    </tr>\n",
       "    <tr>\n",
       "      <th>25</th>\n",
       "      <td>epothilone B</td>\n",
       "      <td>3</td>\n",
       "    </tr>\n",
       "    <tr>\n",
       "      <th>26</th>\n",
       "      <td>etoposide</td>\n",
       "      <td>3</td>\n",
       "    </tr>\n",
       "    <tr>\n",
       "      <th>27</th>\n",
       "      <td>floxuridine</td>\n",
       "      <td>2</td>\n",
       "    </tr>\n",
       "    <tr>\n",
       "      <th>28</th>\n",
       "      <td>lactacystin</td>\n",
       "      <td>1</td>\n",
       "    </tr>\n",
       "    <tr>\n",
       "      <th>29</th>\n",
       "      <td>latrunculin B</td>\n",
       "      <td>2</td>\n",
       "    </tr>\n",
       "    <tr>\n",
       "      <th>30</th>\n",
       "      <td>methotrexate</td>\n",
       "      <td>1</td>\n",
       "    </tr>\n",
       "    <tr>\n",
       "      <th>31</th>\n",
       "      <td>mevinolin/lovastatin</td>\n",
       "      <td>3</td>\n",
       "    </tr>\n",
       "    <tr>\n",
       "      <th>32</th>\n",
       "      <td>mitomycin C</td>\n",
       "      <td>4</td>\n",
       "    </tr>\n",
       "    <tr>\n",
       "      <th>33</th>\n",
       "      <td>mitoxantrone</td>\n",
       "      <td>2</td>\n",
       "    </tr>\n",
       "    <tr>\n",
       "      <th>34</th>\n",
       "      <td>nocodazole</td>\n",
       "      <td>2</td>\n",
       "    </tr>\n",
       "    <tr>\n",
       "      <th>35</th>\n",
       "      <td>proteasome inhibitor I</td>\n",
       "      <td>2</td>\n",
       "    </tr>\n",
       "    <tr>\n",
       "      <th>36</th>\n",
       "      <td>simvastatin</td>\n",
       "      <td>3</td>\n",
       "    </tr>\n",
       "    <tr>\n",
       "      <th>37</th>\n",
       "      <td>taxol</td>\n",
       "      <td>3</td>\n",
       "    </tr>\n",
       "    <tr>\n",
       "      <th>38</th>\n",
       "      <td>vincristine</td>\n",
       "      <td>7</td>\n",
       "    </tr>\n",
       "  </tbody>\n",
       "</table>\n",
       "</div>"
      ],
      "text/plain": [
       "                  compound  no. of concentrations\n",
       "0                     ALLN                      2\n",
       "1                     AZ-A                      6\n",
       "2                     AZ-C                      7\n",
       "3                     AZ-J                      3\n",
       "4                     AZ-U                      3\n",
       "5                    AZ138                      5\n",
       "6                    AZ258                      3\n",
       "7                    AZ841                      3\n",
       "8                     DMSO                      1\n",
       "9                   MG-132                      2\n",
       "10               PD-169316                      2\n",
       "11                    PP-2                      2\n",
       "12          alsterpaullone                      2\n",
       "13              anisomycin                      2\n",
       "14              bryostatin                      1\n",
       "15            camptothecin                      3\n",
       "16            chlorambucil                      1\n",
       "17               cisplatin                      1\n",
       "18              colchicine                      1\n",
       "19           cyclohexamide                      3\n",
       "20          cytochalasin B                      2\n",
       "21          cytochalasin D                      1\n",
       "22             demecolcine                      4\n",
       "23               docetaxel                      3\n",
       "24                 emetine                      3\n",
       "25            epothilone B                      3\n",
       "26               etoposide                      3\n",
       "27             floxuridine                      2\n",
       "28             lactacystin                      1\n",
       "29           latrunculin B                      2\n",
       "30            methotrexate                      1\n",
       "31    mevinolin/lovastatin                      3\n",
       "32             mitomycin C                      4\n",
       "33            mitoxantrone                      2\n",
       "34              nocodazole                      2\n",
       "35  proteasome inhibitor I                      2\n",
       "36             simvastatin                      3\n",
       "37                   taxol                      3\n",
       "38             vincristine                      7"
      ]
     },
     "execution_count": 15,
     "metadata": {},
     "output_type": "execute_result"
    }
   ],
   "source": [
    "(df_moa.groupby(['compound'])['concentration'].count()\n",
    "  .to_frame()\n",
    "  .reset_index()\n",
    "  .rename(columns={'concentration': 'no. of concentrations'}))"
   ]
  },
  {
   "cell_type": "code",
   "execution_count": 16,
   "metadata": {
    "colab": {
     "base_uri": "https://localhost:8080/",
     "height": 1000
    },
    "id": "YG60fhyhqJZ_",
    "outputId": "b9ad111a-45f9-48a4-f0ca-538a24ce22b9"
   },
   "outputs": [
    {
     "name": "stdout",
     "output_type": "stream",
     "text": [
      "df_moa shape: (39, 2)\n"
     ]
    },
    {
     "data": {
      "text/html": [
       "<div>\n",
       "<style scoped>\n",
       "    .dataframe tbody tr th:only-of-type {\n",
       "        vertical-align: middle;\n",
       "    }\n",
       "\n",
       "    .dataframe tbody tr th {\n",
       "        vertical-align: top;\n",
       "    }\n",
       "\n",
       "    .dataframe thead th {\n",
       "        text-align: right;\n",
       "    }\n",
       "</style>\n",
       "<table border=\"1\" class=\"dataframe\">\n",
       "  <thead>\n",
       "    <tr style=\"text-align: right;\">\n",
       "      <th></th>\n",
       "      <th>compound</th>\n",
       "      <th>moa</th>\n",
       "    </tr>\n",
       "  </thead>\n",
       "  <tbody>\n",
       "    <tr>\n",
       "      <th>0</th>\n",
       "      <td>ALLN</td>\n",
       "      <td>Protein degradation</td>\n",
       "    </tr>\n",
       "    <tr>\n",
       "      <th>1</th>\n",
       "      <td>AZ-A</td>\n",
       "      <td>Aurora kinase inhibitors</td>\n",
       "    </tr>\n",
       "    <tr>\n",
       "      <th>2</th>\n",
       "      <td>AZ-C</td>\n",
       "      <td>Eg5 inhibitors</td>\n",
       "    </tr>\n",
       "    <tr>\n",
       "      <th>3</th>\n",
       "      <td>AZ-J</td>\n",
       "      <td>Epithelial</td>\n",
       "    </tr>\n",
       "    <tr>\n",
       "      <th>4</th>\n",
       "      <td>AZ-U</td>\n",
       "      <td>Epithelial</td>\n",
       "    </tr>\n",
       "    <tr>\n",
       "      <th>5</th>\n",
       "      <td>AZ138</td>\n",
       "      <td>Eg5 inhibitors</td>\n",
       "    </tr>\n",
       "    <tr>\n",
       "      <th>6</th>\n",
       "      <td>AZ258</td>\n",
       "      <td>Aurora kinase inhibitors</td>\n",
       "    </tr>\n",
       "    <tr>\n",
       "      <th>7</th>\n",
       "      <td>AZ841</td>\n",
       "      <td>Aurora kinase inhibitors</td>\n",
       "    </tr>\n",
       "    <tr>\n",
       "      <th>8</th>\n",
       "      <td>DMSO</td>\n",
       "      <td>DMSO</td>\n",
       "    </tr>\n",
       "    <tr>\n",
       "      <th>9</th>\n",
       "      <td>MG-132</td>\n",
       "      <td>Protein degradation</td>\n",
       "    </tr>\n",
       "    <tr>\n",
       "      <th>10</th>\n",
       "      <td>PD-169316</td>\n",
       "      <td>Kinase inhibitors</td>\n",
       "    </tr>\n",
       "    <tr>\n",
       "      <th>11</th>\n",
       "      <td>PP-2</td>\n",
       "      <td>Epithelial</td>\n",
       "    </tr>\n",
       "    <tr>\n",
       "      <th>12</th>\n",
       "      <td>alsterpaullone</td>\n",
       "      <td>Kinase inhibitors</td>\n",
       "    </tr>\n",
       "    <tr>\n",
       "      <th>13</th>\n",
       "      <td>anisomycin</td>\n",
       "      <td>Protein synthesis</td>\n",
       "    </tr>\n",
       "    <tr>\n",
       "      <th>14</th>\n",
       "      <td>bryostatin</td>\n",
       "      <td>Kinase inhibitors</td>\n",
       "    </tr>\n",
       "    <tr>\n",
       "      <th>15</th>\n",
       "      <td>camptothecin</td>\n",
       "      <td>DNA replication</td>\n",
       "    </tr>\n",
       "    <tr>\n",
       "      <th>16</th>\n",
       "      <td>chlorambucil</td>\n",
       "      <td>DNA damage</td>\n",
       "    </tr>\n",
       "    <tr>\n",
       "      <th>17</th>\n",
       "      <td>cisplatin</td>\n",
       "      <td>DNA damage</td>\n",
       "    </tr>\n",
       "    <tr>\n",
       "      <th>18</th>\n",
       "      <td>colchicine</td>\n",
       "      <td>Microtubule destabilizers</td>\n",
       "    </tr>\n",
       "    <tr>\n",
       "      <th>19</th>\n",
       "      <td>cyclohexamide</td>\n",
       "      <td>Protein synthesis</td>\n",
       "    </tr>\n",
       "    <tr>\n",
       "      <th>20</th>\n",
       "      <td>cytochalasin B</td>\n",
       "      <td>Actin disruptors</td>\n",
       "    </tr>\n",
       "    <tr>\n",
       "      <th>21</th>\n",
       "      <td>cytochalasin D</td>\n",
       "      <td>Actin disruptors</td>\n",
       "    </tr>\n",
       "    <tr>\n",
       "      <th>22</th>\n",
       "      <td>demecolcine</td>\n",
       "      <td>Microtubule destabilizers</td>\n",
       "    </tr>\n",
       "    <tr>\n",
       "      <th>23</th>\n",
       "      <td>docetaxel</td>\n",
       "      <td>Microtubule stabilizers</td>\n",
       "    </tr>\n",
       "    <tr>\n",
       "      <th>24</th>\n",
       "      <td>emetine</td>\n",
       "      <td>Protein synthesis</td>\n",
       "    </tr>\n",
       "    <tr>\n",
       "      <th>25</th>\n",
       "      <td>epothilone B</td>\n",
       "      <td>Microtubule stabilizers</td>\n",
       "    </tr>\n",
       "    <tr>\n",
       "      <th>26</th>\n",
       "      <td>etoposide</td>\n",
       "      <td>DNA damage</td>\n",
       "    </tr>\n",
       "    <tr>\n",
       "      <th>27</th>\n",
       "      <td>floxuridine</td>\n",
       "      <td>DNA replication</td>\n",
       "    </tr>\n",
       "    <tr>\n",
       "      <th>28</th>\n",
       "      <td>lactacystin</td>\n",
       "      <td>Protein degradation</td>\n",
       "    </tr>\n",
       "    <tr>\n",
       "      <th>29</th>\n",
       "      <td>latrunculin B</td>\n",
       "      <td>Actin disruptors</td>\n",
       "    </tr>\n",
       "    <tr>\n",
       "      <th>30</th>\n",
       "      <td>methotrexate</td>\n",
       "      <td>DNA replication</td>\n",
       "    </tr>\n",
       "    <tr>\n",
       "      <th>31</th>\n",
       "      <td>mevinolin/lovastatin</td>\n",
       "      <td>Cholesterol-lowering</td>\n",
       "    </tr>\n",
       "    <tr>\n",
       "      <th>32</th>\n",
       "      <td>mitomycin C</td>\n",
       "      <td>DNA damage</td>\n",
       "    </tr>\n",
       "    <tr>\n",
       "      <th>33</th>\n",
       "      <td>mitoxantrone</td>\n",
       "      <td>DNA replication</td>\n",
       "    </tr>\n",
       "    <tr>\n",
       "      <th>34</th>\n",
       "      <td>nocodazole</td>\n",
       "      <td>Microtubule destabilizers</td>\n",
       "    </tr>\n",
       "    <tr>\n",
       "      <th>35</th>\n",
       "      <td>proteasome inhibitor I</td>\n",
       "      <td>Protein degradation</td>\n",
       "    </tr>\n",
       "    <tr>\n",
       "      <th>36</th>\n",
       "      <td>simvastatin</td>\n",
       "      <td>Cholesterol-lowering</td>\n",
       "    </tr>\n",
       "    <tr>\n",
       "      <th>37</th>\n",
       "      <td>taxol</td>\n",
       "      <td>Microtubule stabilizers</td>\n",
       "    </tr>\n",
       "    <tr>\n",
       "      <th>38</th>\n",
       "      <td>vincristine</td>\n",
       "      <td>Microtubule destabilizers</td>\n",
       "    </tr>\n",
       "  </tbody>\n",
       "</table>\n",
       "</div>"
      ],
      "text/plain": [
       "                  compound                        moa\n",
       "0                     ALLN        Protein degradation\n",
       "1                     AZ-A   Aurora kinase inhibitors\n",
       "2                     AZ-C             Eg5 inhibitors\n",
       "3                     AZ-J                 Epithelial\n",
       "4                     AZ-U                 Epithelial\n",
       "5                    AZ138             Eg5 inhibitors\n",
       "6                    AZ258   Aurora kinase inhibitors\n",
       "7                    AZ841   Aurora kinase inhibitors\n",
       "8                     DMSO                       DMSO\n",
       "9                   MG-132        Protein degradation\n",
       "10               PD-169316          Kinase inhibitors\n",
       "11                    PP-2                 Epithelial\n",
       "12          alsterpaullone          Kinase inhibitors\n",
       "13              anisomycin          Protein synthesis\n",
       "14              bryostatin          Kinase inhibitors\n",
       "15            camptothecin            DNA replication\n",
       "16            chlorambucil                 DNA damage\n",
       "17               cisplatin                 DNA damage\n",
       "18              colchicine  Microtubule destabilizers\n",
       "19           cyclohexamide          Protein synthesis\n",
       "20          cytochalasin B           Actin disruptors\n",
       "21          cytochalasin D           Actin disruptors\n",
       "22             demecolcine  Microtubule destabilizers\n",
       "23               docetaxel    Microtubule stabilizers\n",
       "24                 emetine          Protein synthesis\n",
       "25            epothilone B    Microtubule stabilizers\n",
       "26               etoposide                 DNA damage\n",
       "27             floxuridine            DNA replication\n",
       "28             lactacystin        Protein degradation\n",
       "29           latrunculin B           Actin disruptors\n",
       "30            methotrexate            DNA replication\n",
       "31    mevinolin/lovastatin       Cholesterol-lowering\n",
       "32             mitomycin C                 DNA damage\n",
       "33            mitoxantrone            DNA replication\n",
       "34              nocodazole  Microtubule destabilizers\n",
       "35  proteasome inhibitor I        Protein degradation\n",
       "36             simvastatin       Cholesterol-lowering\n",
       "37                   taxol    Microtubule stabilizers\n",
       "38             vincristine  Microtubule destabilizers"
      ]
     },
     "execution_count": 16,
     "metadata": {},
     "output_type": "execute_result"
    }
   ],
   "source": [
    "df_moa = (df_moa.drop(columns=['concentration'])\n",
    "          .drop_duplicates(ignore_index=True)\n",
    "          .sort_values(by='compound')\n",
    "          .reset_index(drop=True))\n",
    "print(f\"df_moa shape: {df_moa.shape}\")\n",
    "df_moa"
   ]
  },
  {
   "cell_type": "code",
   "execution_count": 17,
   "metadata": {
    "colab": {
     "base_uri": "https://localhost:8080/",
     "height": 499
    },
    "id": "xrnESiw8HeVh",
    "outputId": "90828a10-cb61-4333-eeb1-5020fbe25813"
   },
   "outputs": [
    {
     "data": {
      "image/png": "[encoded data removed]",
      "text/plain": [
       "<Figure size 800x400 with 1 Axes>"
      ]
     },
     "metadata": {},
     "output_type": "display_data"
    }
   ],
   "source": [
    "df_moa_compound_count = (df_moa.groupby(['moa'])['compound'].count()\n",
    "                        .to_frame()\n",
    "                        .reset_index())\n",
    "\n",
    "y_ticks = range(0, df_moa_compound_count['compound'].max()+1, 1)\n",
    "\n",
    "fig, ax = plt.subplots(figsize=(8,4))\n",
    "ax.bar(df_moa_compound_count['moa'], df_moa_compound_count['compound'])\n",
    "ax.set_ylabel('Compound count')\n",
    "ax.set_title('Compound count by MoA')\n",
    "ax.set_yticks(ticks=y_ticks)\n",
    "plt.setp(ax.get_xticklabels(), rotation=40, ha='right', rotation_mode='anchor')\n",
    "plt.show()"
   ]
  },
  {
   "cell_type": "markdown",
   "metadata": {
    "id": "N4XVypdUgIba"
   },
   "source": [
    "### Merge Image and MoA Datasets"
   ]
  },
  {
   "cell_type": "code",
   "execution_count": 18,
   "metadata": {
    "colab": {
     "base_uri": "https://localhost:8080/"
    },
    "id": "nTEJWbbsFcWs",
    "outputId": "1c67b6a3-d62e-4819-d52c-97e42e233c4a"
   },
   "outputs": [
    {
     "name": "stdout",
     "output_type": "stream",
     "text": [
      "Merged dataframe shape: (13200, 14)\n"
     ]
    }
   ],
   "source": [
    "df_image_moa = df_image.merge(df_moa, left_on='Image_Metadata_Compound', right_on='compound', how='left')\n",
    "df_image_moa = df_image_moa.drop(columns=['compound'])\n",
    "print(f\"Merged dataframe shape: {df_image_moa.shape}\")"
   ]
  },
  {
   "cell_type": "code",
   "execution_count": 19,
   "metadata": {
    "colab": {
     "base_uri": "https://localhost:8080/"
    },
    "id": "xk__-Tgjg9MJ",
    "outputId": "2055f24b-1d95-4ba8-a301-cab9b29509fd"
   },
   "outputs": [
    {
     "name": "stdout",
     "output_type": "stream",
     "text": [
      "<class 'pandas.core.frame.DataFrame'>\n",
      "RangeIndex: 13200 entries, 0 to 13199\n",
      "Data columns (total 14 columns):\n",
      " #   Column                        Non-Null Count  Dtype  \n",
      "---  ------                        --------------  -----  \n",
      " 0   TableNumber                   13200 non-null  int64  \n",
      " 1   ImageNumber                   13200 non-null  int64  \n",
      " 2   Image_FileName_DAPI           13200 non-null  object \n",
      " 3   Image_PathName_DAPI           13200 non-null  object \n",
      " 4   Image_FileName_Tubulin        13200 non-null  object \n",
      " 5   Image_PathName_Tubulin        13200 non-null  object \n",
      " 6   Image_FileName_Actin          13200 non-null  object \n",
      " 7   Image_PathName_Actin          13200 non-null  object \n",
      " 8   Image_Metadata_Plate_DAPI     13200 non-null  object \n",
      " 9   Image_Metadata_Well_DAPI      13200 non-null  object \n",
      " 10  Replicate                     13200 non-null  int64  \n",
      " 11  Image_Metadata_Compound       13200 non-null  object \n",
      " 12  Image_Metadata_Concentration  13200 non-null  float64\n",
      " 13  moa                           6160 non-null   object \n",
      "dtypes: float64(1), int64(3), object(10)\n",
      "memory usage: 1.4+ MB\n"
     ]
    }
   ],
   "source": [
    "df_image_moa.info()"
   ]
  },
  {
   "cell_type": "code",
   "execution_count": 20,
   "metadata": {
    "colab": {
     "base_uri": "https://localhost:8080/",
     "height": 426
    },
    "id": "4p9IbhZdiFZ3",
    "outputId": "be8a7f72-f467-4030-ff49-5079d885e1b4"
   },
   "outputs": [
    {
     "name": "stdout",
     "output_type": "stream",
     "text": [
      "Images w/o known MoA: 7040\n",
      "Images w known MoA 6160\n"
     ]
    },
    {
     "data": {
      "image/png": "[encoded data removed]",
      "text/plain": [
       "<Figure size 400x400 with 1 Axes>"
      ]
     },
     "metadata": {},
     "output_type": "display_data"
    }
   ],
   "source": [
    "no_moa = df_image_moa[df_image_moa['moa'].isnull()].shape[0]\n",
    "print(f\"Images w/o known MoA: {no_moa}\")\n",
    "print(f\"Images w known MoA {df_image_moa.shape[0]-no_moa}\")\n",
    "\n",
    "moa_cat = ['Known MoA', 'Unknown MoA']\n",
    "moa_count = [df_image_moa.shape[0]-no_moa, no_moa]\n",
    "bar_colors = ['tab:blue', 'tab:red']\n",
    "moa_dist = {'Known MoA': df_image_moa.shape[0]-no_moa, 'Unknown MoA': no_moa}\n",
    "\n",
    "fig, ax = plt.subplots(figsize=(4,4))\n",
    "ax.bar(moa_cat, moa_count, color=bar_colors)\n",
    "ax.set_ylabel('Image count')\n",
    "ax.set_title('Known vs. Unknown MoA Image Count')\n",
    "plt.show()"
   ]
  },
  {
   "cell_type": "code",
   "execution_count": 21,
   "metadata": {
    "colab": {
     "base_uri": "https://localhost:8080/",
     "height": 576
    },
    "id": "3AX2tBLQjJrK",
    "outputId": "b171b5dc-a4e4-4d2f-e8b3-f0e1e25ef11c"
   },
   "outputs": [
    {
     "data": {
      "image/png": "[encoded data removed]",
      "text/plain": [
       "<Figure size 1200x500 with 1 Axes>"
      ]
     },
     "metadata": {},
     "output_type": "display_data"
    }
   ],
   "source": [
    "df_known_moa = df_image_moa[~df_image_moa['moa'].isnull()]\n",
    "df_known_moa_count = (df_known_moa.groupby(['moa'])['ImageNumber'].count()\n",
    "                      .to_frame()\n",
    "                      .reset_index())\n",
    "\n",
    "fig, ax = plt.subplots(figsize=(12,5))\n",
    "ax.bar(df_known_moa_count['moa'], df_known_moa_count['ImageNumber'])\n",
    "ax.set_ylabel('Image count')\n",
    "ax.set_title('Image count by MoA')\n",
    "plt.setp(ax.get_xticklabels(), rotation=40, ha='right', rotation_mode='anchor')\n",
    "plt.show()"
   ]
  },
  {
   "cell_type": "code",
   "execution_count": 22,
   "metadata": {
    "colab": {
     "base_uri": "https://localhost:8080/",
     "height": 457
    },
    "id": "LaibOgFPCNi-",
    "outputId": "d1a0c2b9-afda-4220-9317-e60a838b2422"
   },
   "outputs": [
    {
     "data": {
      "text/html": [
       "<div>\n",
       "<style scoped>\n",
       "    .dataframe tbody tr th:only-of-type {\n",
       "        vertical-align: middle;\n",
       "    }\n",
       "\n",
       "    .dataframe tbody tr th {\n",
       "        vertical-align: top;\n",
       "    }\n",
       "\n",
       "    .dataframe thead th {\n",
       "        text-align: right;\n",
       "    }\n",
       "</style>\n",
       "<table border=\"1\" class=\"dataframe\">\n",
       "  <thead>\n",
       "    <tr style=\"text-align: right;\">\n",
       "      <th></th>\n",
       "      <th>MoA</th>\n",
       "      <th>Image Count</th>\n",
       "    </tr>\n",
       "  </thead>\n",
       "  <tbody>\n",
       "    <tr>\n",
       "      <th>0</th>\n",
       "      <td>Actin disruptors</td>\n",
       "      <td>288</td>\n",
       "    </tr>\n",
       "    <tr>\n",
       "      <th>1</th>\n",
       "      <td>Aurora kinase inhibitors</td>\n",
       "      <td>288</td>\n",
       "    </tr>\n",
       "    <tr>\n",
       "      <th>2</th>\n",
       "      <td>Cholesterol-lowering</td>\n",
       "      <td>192</td>\n",
       "    </tr>\n",
       "    <tr>\n",
       "      <th>3</th>\n",
       "      <td>DMSO</td>\n",
       "      <td>1320</td>\n",
       "    </tr>\n",
       "    <tr>\n",
       "      <th>4</th>\n",
       "      <td>DNA damage</td>\n",
       "      <td>384</td>\n",
       "    </tr>\n",
       "    <tr>\n",
       "      <th>5</th>\n",
       "      <td>DNA replication</td>\n",
       "      <td>384</td>\n",
       "    </tr>\n",
       "    <tr>\n",
       "      <th>6</th>\n",
       "      <td>Eg5 inhibitors</td>\n",
       "      <td>192</td>\n",
       "    </tr>\n",
       "    <tr>\n",
       "      <th>7</th>\n",
       "      <td>Epithelial</td>\n",
       "      <td>256</td>\n",
       "    </tr>\n",
       "    <tr>\n",
       "      <th>8</th>\n",
       "      <td>Kinase inhibitors</td>\n",
       "      <td>192</td>\n",
       "    </tr>\n",
       "    <tr>\n",
       "      <th>9</th>\n",
       "      <td>Microtubule destabilizers</td>\n",
       "      <td>384</td>\n",
       "    </tr>\n",
       "    <tr>\n",
       "      <th>10</th>\n",
       "      <td>Microtubule stabilizers</td>\n",
       "      <td>1608</td>\n",
       "    </tr>\n",
       "    <tr>\n",
       "      <th>11</th>\n",
       "      <td>Protein degradation</td>\n",
       "      <td>384</td>\n",
       "    </tr>\n",
       "    <tr>\n",
       "      <th>12</th>\n",
       "      <td>Protein synthesis</td>\n",
       "      <td>288</td>\n",
       "    </tr>\n",
       "  </tbody>\n",
       "</table>\n",
       "</div>"
      ],
      "text/plain": [
       "                          MoA  Image Count\n",
       "0            Actin disruptors          288\n",
       "1    Aurora kinase inhibitors          288\n",
       "2        Cholesterol-lowering          192\n",
       "3                        DMSO         1320\n",
       "4                  DNA damage          384\n",
       "5             DNA replication          384\n",
       "6              Eg5 inhibitors          192\n",
       "7                  Epithelial          256\n",
       "8           Kinase inhibitors          192\n",
       "9   Microtubule destabilizers          384\n",
       "10    Microtubule stabilizers         1608\n",
       "11        Protein degradation          384\n",
       "12          Protein synthesis          288"
      ]
     },
     "execution_count": 22,
     "metadata": {},
     "output_type": "execute_result"
    }
   ],
   "source": [
    "df_known_moa_count = df_known_moa_count.rename(columns={'moa': 'MoA', 'ImageNumber': 'Image Count'})\n",
    "df_known_moa_count"
   ]
  },
  {
   "cell_type": "code",
   "execution_count": 26,
   "metadata": {
    "id": "5aGWDRUFGA7V"
   },
   "outputs": [],
   "source": []
  }
 ],
 "metadata": {
  "colab": {
   "provenance": [],
   "toc_visible": true
  },
  "kernelspec": {
   "display_name": "ms2",
   "language": "python",
   "name": "ms2"
  },
  "language_info": {
   "codemirror_mode": {
    "name": "ipython",
    "version": 3
   },
   "file_extension": ".py",
   "mimetype": "text/x-python",
   "name": "python",
   "nbconvert_exporter": "python",
   "pygments_lexer": "ipython3",
   "version": "3.12.2"
  }
 },
 "nbformat": 4,
 "nbformat_minor": 4
}

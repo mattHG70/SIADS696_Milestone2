{
 "cells": [
  {
   "cell_type": "code",
   "execution_count": 2,
   "id": "1eafca60",
   "metadata": {},
   "outputs": [],
   "source": [
    "import pandas as pd\n",
    "import numpy as np\n",
    "from sklearn.cluster import KMeans\n",
    "import warnings\n",
    "warnings.filterwarnings('ignore')"
   ]
  },
  {
   "cell_type": "code",
   "execution_count": 3,
   "id": "06e29901",
   "metadata": {},
   "outputs": [],
   "source": [
    "file_name = 'embeddings.csv'\n",
    "df_embedding = pd.read_csv(file_name)\n",
    "df_moa = pd.read_csv('moa.csv')\n",
    "df_moa = df_moa[['moa','Image_FileName_DAPI']]\n",
    "df = pd.merge(df_embedding, df_moa, how = 'left', on = 'Image_FileName_DAPI')"
   ]
  },
  {
   "cell_type": "code",
   "execution_count": 4,
   "id": "927089d9",
   "metadata": {},
   "outputs": [
    {
     "data": {
      "text/plain": [
       "array(['DMSO', 'Actin disruptors', 'Microtubule stabilizers', nan],\n",
       "      dtype=object)"
      ]
     },
     "execution_count": 4,
     "metadata": {},
     "output_type": "execute_result"
    }
   ],
   "source": [
    "df.moa.unique()\n",
    "\n"
   ]
  },
  {
   "cell_type": "markdown",
   "id": "19960d63",
   "metadata": {},
   "source": [
    "Let's change the nan values in MoA by \"unknown\""
   ]
  },
  {
   "cell_type": "code",
   "execution_count": 5,
   "id": "a1750f2a",
   "metadata": {},
   "outputs": [
    {
     "data": {
      "text/plain": [
       "array(['DMSO', 'Actin disruptors', 'Microtubule stabilizers', 'unknown'],\n",
       "      dtype=object)"
      ]
     },
     "execution_count": 5,
     "metadata": {},
     "output_type": "execute_result"
    }
   ],
   "source": [
    "df.moa = df.moa.fillna('unknown')\n",
    "df.moa.unique()"
   ]
  },
  {
   "cell_type": "code",
   "execution_count": 36,
   "id": "b4114558",
   "metadata": {},
   "outputs": [
    {
     "name": "stdout",
     "output_type": "stream",
     "text": [
      "testing 4 clusters, k-means++ inits, 300 max_iter\n",
      "testing 4 clusters, random inits, 300 max_iter\n",
      "testing 5 clusters, k-means++ inits, 300 max_iter\n",
      "testing 5 clusters, random inits, 300 max_iter\n",
      "testing 6 clusters, k-means++ inits, 300 max_iter\n",
      "testing 6 clusters, random inits, 300 max_iter\n",
      "testing 7 clusters, k-means++ inits, 300 max_iter\n",
      "testing 7 clusters, random inits, 300 max_iter\n",
      "testing 8 clusters, k-means++ inits, 300 max_iter\n",
      "testing 8 clusters, random inits, 300 max_iter\n",
      "testing 9 clusters, k-means++ inits, 300 max_iter\n",
      "testing 9 clusters, random inits, 300 max_iter\n",
      "testing 10 clusters, k-means++ inits, 300 max_iter\n",
      "testing 10 clusters, random inits, 300 max_iter\n"
     ]
    }
   ],
   "source": [
    "def scout_kmeans(df, n_cluster = [4, 5, 6, 7, 8], init = ['k-means++', 'random'], max_iter = [300, 500, 1000], random_state = 0):\n",
    "    \"\"\"Scouts Kmeans and stores the results of each trial in a dataframe that is returned by the function.\n",
    "    The dataframe contains the Kmeans paramters as well as the percentage of overlap between mode of action and \n",
    "    cluster found\n",
    "    Arguments:\n",
    "        - df: the dataframe that contains the embedding data\n",
    "        - n_cluster: list. The values to be tested for hyperparameter n_cluster\n",
    "        - init: list. The values to be tested for hyperparameter init\n",
    "        - max_iter: list. The values to be tested for hyperparameter max_iter\n",
    "    Returns:\n",
    "        - summary_df: pd.DataFrame object. Contains the combinations of kmeans hyperparameters tested and \n",
    "          the resulting overlap between clusters and MoA\"\"\"\n",
    "    \n",
    "    #get the values of interest from the df\n",
    "    matrix = df.iloc[:, 4:-1].values\n",
    "    \n",
    "    #create a dictionary to store the overlaps between clusters and MoA\n",
    "    overlap_dict = {}\n",
    "    for moa in df.moa.unique():\n",
    "        overlap_dict[moa] = []\n",
    "    \n",
    "    #create 3 lists to store the combination of hyperparameters\n",
    "    cluster_list = []\n",
    "    init_list = []\n",
    "    max_iter_list = []\n",
    "    \n",
    "    for cluster in n_cluster:\n",
    "        for i in init:\n",
    "            for iter_ in max_iter:\n",
    "                print('testing {} clusters, {} inits, {} max_iter'.format(cluster, i, iter_))\n",
    "                \n",
    "                #update the lists\n",
    "                cluster_list.append(cluster)\n",
    "                init_list.append(i)\n",
    "                max_iter_list.append(iter_)\n",
    "                \n",
    "                #create the kmeans object\n",
    "                km = KMeans(n_clusters = cluster, init = i, max_iter = iter_, random_state = random_state)\n",
    "                km.fit(matrix)\n",
    "                labels = km.labels_\n",
    "                \n",
    "                #update df with labels\n",
    "                df_copy = df.copy()\n",
    "                df_copy['cluster'] = labels\n",
    "                \n",
    "                #calculate percent overlap between clusters and known MoAs\n",
    "                overlap = df_copy.groupby('moa')['cluster'].apply(lambda x: x.value_counts().iloc[0])/df_copy.groupby('moa').count().TableNumber\n",
    "                \n",
    "                #store each overlap in the overlap lists\n",
    "                for n in range(len(overlap)):\n",
    "                    overlap_dict[overlap.index[n]].append(overlap[n])\n",
    "                    \n",
    "    #create a DataFrame to store kmeans hyperparameters               \n",
    "    summary_df = pd.DataFrame({**{'n_cluster': cluster_list,\n",
    "                               'init' : init_list,\n",
    "                               'max_iter': max_iter_list}, **overlap_dict})\n",
    "    \n",
    "\n",
    "\n",
    "                   \n",
    "    return summary_df\n",
    "                \n",
    "\n",
    "summary_df = scout_kmeans(df, [4,5,6,7,8,9,10], ['k-means++', 'random'], [300], random_state = 0)"
   ]
  },
  {
   "cell_type": "code",
   "execution_count": 39,
   "id": "43bc8d9c",
   "metadata": {},
   "outputs": [
    {
     "data": {
      "text/html": [
       "<div>\n",
       "<style scoped>\n",
       "    .dataframe tbody tr th:only-of-type {\n",
       "        vertical-align: middle;\n",
       "    }\n",
       "\n",
       "    .dataframe tbody tr th {\n",
       "        vertical-align: top;\n",
       "    }\n",
       "\n",
       "    .dataframe thead th {\n",
       "        text-align: right;\n",
       "    }\n",
       "</style>\n",
       "<table border=\"1\" class=\"dataframe\">\n",
       "  <thead>\n",
       "    <tr style=\"text-align: right;\">\n",
       "      <th></th>\n",
       "      <th>n_cluster</th>\n",
       "      <th>init</th>\n",
       "      <th>max_iter</th>\n",
       "      <th>DMSO</th>\n",
       "      <th>Actin disruptors</th>\n",
       "      <th>Microtubule stabilizers</th>\n",
       "      <th>unknown</th>\n",
       "    </tr>\n",
       "  </thead>\n",
       "  <tbody>\n",
       "    <tr>\n",
       "      <th>0</th>\n",
       "      <td>4</td>\n",
       "      <td>k-means++</td>\n",
       "      <td>300</td>\n",
       "      <td>0.750000</td>\n",
       "      <td>0.34375</td>\n",
       "      <td>1.000000</td>\n",
       "      <td>0.78125</td>\n",
       "    </tr>\n",
       "    <tr>\n",
       "      <th>1</th>\n",
       "      <td>4</td>\n",
       "      <td>random</td>\n",
       "      <td>300</td>\n",
       "      <td>0.666667</td>\n",
       "      <td>0.37500</td>\n",
       "      <td>1.000000</td>\n",
       "      <td>0.68750</td>\n",
       "    </tr>\n",
       "    <tr>\n",
       "      <th>2</th>\n",
       "      <td>5</td>\n",
       "      <td>k-means++</td>\n",
       "      <td>300</td>\n",
       "      <td>0.750000</td>\n",
       "      <td>0.37500</td>\n",
       "      <td>1.000000</td>\n",
       "      <td>0.40625</td>\n",
       "    </tr>\n",
       "    <tr>\n",
       "      <th>3</th>\n",
       "      <td>5</td>\n",
       "      <td>random</td>\n",
       "      <td>300</td>\n",
       "      <td>0.916667</td>\n",
       "      <td>0.31250</td>\n",
       "      <td>1.000000</td>\n",
       "      <td>0.50000</td>\n",
       "    </tr>\n",
       "    <tr>\n",
       "      <th>4</th>\n",
       "      <td>6</td>\n",
       "      <td>k-means++</td>\n",
       "      <td>300</td>\n",
       "      <td>0.750000</td>\n",
       "      <td>0.37500</td>\n",
       "      <td>0.739130</td>\n",
       "      <td>0.40625</td>\n",
       "    </tr>\n",
       "    <tr>\n",
       "      <th>5</th>\n",
       "      <td>6</td>\n",
       "      <td>random</td>\n",
       "      <td>300</td>\n",
       "      <td>0.833333</td>\n",
       "      <td>0.40625</td>\n",
       "      <td>0.956522</td>\n",
       "      <td>0.65625</td>\n",
       "    </tr>\n",
       "    <tr>\n",
       "      <th>6</th>\n",
       "      <td>7</td>\n",
       "      <td>k-means++</td>\n",
       "      <td>300</td>\n",
       "      <td>0.666667</td>\n",
       "      <td>0.31250</td>\n",
       "      <td>0.956522</td>\n",
       "      <td>0.34375</td>\n",
       "    </tr>\n",
       "    <tr>\n",
       "      <th>7</th>\n",
       "      <td>7</td>\n",
       "      <td>random</td>\n",
       "      <td>300</td>\n",
       "      <td>0.500000</td>\n",
       "      <td>0.31250</td>\n",
       "      <td>0.521739</td>\n",
       "      <td>0.81250</td>\n",
       "    </tr>\n",
       "    <tr>\n",
       "      <th>8</th>\n",
       "      <td>8</td>\n",
       "      <td>k-means++</td>\n",
       "      <td>300</td>\n",
       "      <td>0.500000</td>\n",
       "      <td>0.31250</td>\n",
       "      <td>0.608696</td>\n",
       "      <td>0.53125</td>\n",
       "    </tr>\n",
       "    <tr>\n",
       "      <th>9</th>\n",
       "      <td>8</td>\n",
       "      <td>random</td>\n",
       "      <td>300</td>\n",
       "      <td>0.583333</td>\n",
       "      <td>0.31250</td>\n",
       "      <td>1.000000</td>\n",
       "      <td>0.34375</td>\n",
       "    </tr>\n",
       "    <tr>\n",
       "      <th>10</th>\n",
       "      <td>9</td>\n",
       "      <td>k-means++</td>\n",
       "      <td>300</td>\n",
       "      <td>0.666667</td>\n",
       "      <td>0.25000</td>\n",
       "      <td>0.826087</td>\n",
       "      <td>0.31250</td>\n",
       "    </tr>\n",
       "    <tr>\n",
       "      <th>11</th>\n",
       "      <td>9</td>\n",
       "      <td>random</td>\n",
       "      <td>300</td>\n",
       "      <td>0.666667</td>\n",
       "      <td>0.18750</td>\n",
       "      <td>1.000000</td>\n",
       "      <td>0.34375</td>\n",
       "    </tr>\n",
       "    <tr>\n",
       "      <th>12</th>\n",
       "      <td>10</td>\n",
       "      <td>k-means++</td>\n",
       "      <td>300</td>\n",
       "      <td>0.583333</td>\n",
       "      <td>0.21875</td>\n",
       "      <td>0.608696</td>\n",
       "      <td>0.50000</td>\n",
       "    </tr>\n",
       "    <tr>\n",
       "      <th>13</th>\n",
       "      <td>10</td>\n",
       "      <td>random</td>\n",
       "      <td>300</td>\n",
       "      <td>0.416667</td>\n",
       "      <td>0.18750</td>\n",
       "      <td>1.000000</td>\n",
       "      <td>0.31250</td>\n",
       "    </tr>\n",
       "  </tbody>\n",
       "</table>\n",
       "</div>"
      ],
      "text/plain": [
       "    n_cluster       init  max_iter      DMSO  Actin disruptors  \\\n",
       "0           4  k-means++       300  0.750000           0.34375   \n",
       "1           4     random       300  0.666667           0.37500   \n",
       "2           5  k-means++       300  0.750000           0.37500   \n",
       "3           5     random       300  0.916667           0.31250   \n",
       "4           6  k-means++       300  0.750000           0.37500   \n",
       "5           6     random       300  0.833333           0.40625   \n",
       "6           7  k-means++       300  0.666667           0.31250   \n",
       "7           7     random       300  0.500000           0.31250   \n",
       "8           8  k-means++       300  0.500000           0.31250   \n",
       "9           8     random       300  0.583333           0.31250   \n",
       "10          9  k-means++       300  0.666667           0.25000   \n",
       "11          9     random       300  0.666667           0.18750   \n",
       "12         10  k-means++       300  0.583333           0.21875   \n",
       "13         10     random       300  0.416667           0.18750   \n",
       "\n",
       "    Microtubule stabilizers  unknown  \n",
       "0                  1.000000  0.78125  \n",
       "1                  1.000000  0.68750  \n",
       "2                  1.000000  0.40625  \n",
       "3                  1.000000  0.50000  \n",
       "4                  0.739130  0.40625  \n",
       "5                  0.956522  0.65625  \n",
       "6                  0.956522  0.34375  \n",
       "7                  0.521739  0.81250  \n",
       "8                  0.608696  0.53125  \n",
       "9                  1.000000  0.34375  \n",
       "10                 0.826087  0.31250  \n",
       "11                 1.000000  0.34375  \n",
       "12                 0.608696  0.50000  \n",
       "13                 1.000000  0.31250  "
      ]
     },
     "execution_count": 39,
     "metadata": {},
     "output_type": "execute_result"
    }
   ],
   "source": [
    "summary_df"
   ]
  },
  {
   "cell_type": "code",
   "execution_count": 40,
   "id": "0be0792b",
   "metadata": {},
   "outputs": [
    {
     "data": {
      "text/plain": [
       "moa                      cluster\n",
       "Actin disruptors         0          10\n",
       "                         2          10\n",
       "                         4          10\n",
       "                         3           2\n",
       "DMSO                     2          11\n",
       "                         0           1\n",
       "Microtubule stabilizers  3          23\n",
       "unknown                  1          16\n",
       "                         2          15\n",
       "                         0           1\n",
       "Name: cluster, dtype: int64"
      ]
     },
     "execution_count": 40,
     "metadata": {},
     "output_type": "execute_result"
    }
   ],
   "source": [
    "matrix = df.iloc[:, 4:-1].values\n",
    "km = KMeans(n_clusters = 5, init = 'random', max_iter = 300, random_state = 0)\n",
    "km.fit(matrix)\n",
    "labels = km.labels_\n",
    "\n",
    "df_copy = df.copy()\n",
    "df_copy['cluster'] = labels\n",
    "df_copy.groupby('moa').cluster.value_counts()"
   ]
  },
  {
   "cell_type": "code",
   "execution_count": 41,
   "id": "fdbbbb88",
   "metadata": {},
   "outputs": [
    {
     "data": {
      "text/plain": [
       "moa\n",
       "Actin disruptors           0.312500\n",
       "DMSO                       0.916667\n",
       "Microtubule stabilizers    1.000000\n",
       "unknown                    0.500000\n",
       "dtype: float64"
      ]
     },
     "execution_count": 41,
     "metadata": {},
     "output_type": "execute_result"
    }
   ],
   "source": [
    "df_copy.groupby('moa')['cluster'].apply(lambda x: x.value_counts().iloc[0])/df_copy.groupby('moa').count().TableNumber"
   ]
  },
  {
   "cell_type": "code",
   "execution_count": null,
   "id": "79f56caa",
   "metadata": {},
   "outputs": [],
   "source": []
  },
  {
   "cell_type": "code",
   "execution_count": null,
   "id": "fd6cf4f7",
   "metadata": {},
   "outputs": [],
   "source": []
  }
 ],
 "metadata": {
  "kernelspec": {
   "display_name": "Python 3 (ipykernel)",
   "language": "python",
   "name": "python3"
  },
  "language_info": {
   "codemirror_mode": {
    "name": "ipython",
    "version": 3
   },
   "file_extension": ".py",
   "mimetype": "text/x-python",
   "name": "python",
   "nbconvert_exporter": "python",
   "pygments_lexer": "ipython3",
   "version": "3.10.11"
  }
 },
 "nbformat": 4,
 "nbformat_minor": 5
}

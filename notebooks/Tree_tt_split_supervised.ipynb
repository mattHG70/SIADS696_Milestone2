{
 "cells": [
  {
   "cell_type": "code",
   "execution_count": 45,
   "id": "b2a94cbe",
   "metadata": {},
   "outputs": [],
   "source": [
    "import zipfile\n",
    "import pickle\n",
    "import pandas as pd\n",
    "from sklearn.model_selection import train_test_split"
   ]
  },
  {
   "cell_type": "code",
   "execution_count": 17,
   "id": "3a05a1b7",
   "metadata": {},
   "outputs": [],
   "source": [
    "# Open the zip file\n",
    "def load_feature_dataset_pca(filepath='../data/df_256pc_pickle.zip'):\n",
    "    with zipfile.ZipFile(filepath, 'r') as zip_ref:\n",
    "        # Open the pickle file within the zip\n",
    "        with zip_ref.open('df_256pc') as file:\n",
    "            # Load the data using pickle\n",
    "            df = pickle.load(file)\n",
    "    return df"
   ]
  },
  {
   "cell_type": "code",
   "execution_count": 122,
   "id": "3b17a65e",
   "metadata": {},
   "outputs": [],
   "source": [
    "def sup_train_test_split(df):\n",
    "    #get rid of unknown moa\n",
    "    df = df[df['Metadata_MoA'] != 'unknown']\n",
    "    \n",
    "    #get stratified random sample of compounds (by MoA) as test group\n",
    "    compound_moas = list(df.groupby(['Metadata_MoA', 'Metadata_Compound']).count().index)\n",
    "    compound_moas = pd.DataFrame(compound_moas, columns=['MoA', 'Compound'])\n",
    "    test_compounds = compound_moas.groupby('MoA', group_keys=False).apply(lambda x: x.sample(frac=.25, random_state=224))['Compound']\n",
    "    compound_moas['in_testset'] = compound_moas['Compound'].isin(test_compounds)\n",
    "    \n",
    "    df_test = df[df['Metadata_Compound'].isin(test_compounds)]\n",
    "    df_train = df[~df['Metadata_Compound'].isin(test_compounds)]\n",
    "    \n",
    "    train_y = df_train['Metadata_MoA']\n",
    "    test_y = df_test['Metadata_MoA']\n",
    "    train_X = df_train.iloc[:,:256]\n",
    "    test_X = df_test.iloc[:,:256]\n",
    "    return(train_X, train_y, test_X, test_y)"
   ]
  },
  {
   "cell_type": "code",
   "execution_count": 123,
   "id": "53a34277",
   "metadata": {},
   "outputs": [],
   "source": [
    "train_X, train_y, test_X, test_y = sup_train_test_split(load_feature_dataset_pca())"
   ]
  }
 ],
 "metadata": {
  "kernelspec": {
   "display_name": "Python 3 (ipykernel)",
   "language": "python",
   "name": "python3"
  },
  "language_info": {
   "codemirror_mode": {
    "name": "ipython",
    "version": 3
   },
   "file_extension": ".py",
   "mimetype": "text/x-python",
   "name": "python",
   "nbconvert_exporter": "python",
   "pygments_lexer": "ipython3",
   "version": "3.9.12"
  }
 },
 "nbformat": 4,
 "nbformat_minor": 5
}

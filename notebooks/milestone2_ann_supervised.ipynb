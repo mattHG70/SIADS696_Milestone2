{
 "cells": [
  {
   "cell_type": "code",
   "execution_count": 169,
   "id": "9b8db711-1e28-4c8c-825d-594f03395d44",
   "metadata": {},
   "outputs": [
    {
     "name": "stdout",
     "output_type": "stream",
     "text": [
      "The autoreload extension is already loaded. To reload it, use:\n",
      "  %reload_ext autoreload\n"
     ]
    }
   ],
   "source": [
    "%load_ext autoreload\n",
    "%autoreload 2"
   ]
  },
  {
   "cell_type": "code",
   "execution_count": 170,
   "id": "05428d56-c073-4267-8190-b57703c7c092",
   "metadata": {
    "executionInfo": {
     "elapsed": 624,
     "status": "ok",
     "timestamp": 1717533895277,
     "user": {
      "displayName": "Matthias Huebscher",
      "userId": "17596753721121631212"
     },
     "user_tz": -120
    },
    "id": "05428d56-c073-4267-8190-b57703c7c092"
   },
   "outputs": [],
   "source": [
    "import os\n",
    "import pandas as pd\n",
    "import numpy as np\n",
    "\n",
    "import torch\n",
    "import torch.nn as nn\n",
    "import torch.nn.functional as F\n",
    "\n",
    "from torch.utils.data import DataLoader, Dataset, SubsetRandomSampler\n",
    "\n",
    "from sklearn.metrics import accuracy_score, f1_score, confusion_matrix, precision_score, recall_score, roc_auc_score, confusion_matrix\n",
    "from sklearn.metrics import RocCurveDisplay\n",
    "from sklearn.preprocessing import StandardScaler\n",
    "from sklearn.model_selection import KFold\n",
    "\n",
    "import ms2_model\n",
    "from ms2_model import Net256\n",
    "from ms2_dataset import EmbedVec256Dataset\n",
    "\n",
    "import matplotlib.pyplot as plt\n",
    "import seaborn"
   ]
  },
  {
   "cell_type": "code",
   "execution_count": 171,
   "id": "b242b71b-7d21-46b2-a66d-c67f96560e89",
   "metadata": {
    "colab": {
     "base_uri": "https://localhost:8080/"
    },
    "executionInfo": {
     "elapsed": 9,
     "status": "ok",
     "timestamp": 1717533895278,
     "user": {
      "displayName": "Matthias Huebscher",
      "userId": "17596753721121631212"
     },
     "user_tz": -120
    },
    "id": "b242b71b-7d21-46b2-a66d-c67f96560e89",
    "outputId": "bead82cc-42c8-4c6c-f60d-9f156ec59f92"
   },
   "outputs": [
    {
     "data": {
      "text/plain": [
       "<torch._C.Generator at 0x152b452bb750>"
      ]
     },
     "execution_count": 171,
     "metadata": {},
     "output_type": "execute_result"
    }
   ],
   "source": [
    "torch.manual_seed(764)"
   ]
  },
  {
   "cell_type": "code",
   "execution_count": 172,
   "id": "LkpeVfVuM4-B",
   "metadata": {
    "executionInfo": {
     "elapsed": 7,
     "status": "ok",
     "timestamp": 1717533895278,
     "user": {
      "displayName": "Matthias Huebscher",
      "userId": "17596753721121631212"
     },
     "user_tz": -120
    },
    "id": "LkpeVfVuM4-B"
   },
   "outputs": [],
   "source": [
    "def balance_train_data(df, random_state):\n",
    "  df_grp = df.groupby([\"Metadata_MoA\"])[\"Metadata_Compound\"].count().reset_index(name=\"count\")\n",
    "  mean_count = int(df_grp.drop(df_grp[df_grp[\"Metadata_MoA\"] == \"DMSO\"].index)[\"count\"].mean().round())\n",
    "\n",
    "  df_dmso = df[df[\"Metadata_MoA\"] == \"DMSO\"].sample(n=mean_count, random_state=random_state)\n",
    "  df_other = df.drop(df[df[\"Metadata_MoA\"] == \"DMSO\"].index)\n",
    "\n",
    "  df_all = pd.concat([df_other, df_dmso], axis=0)\n",
    "  return df_all.reset_index(drop=True)"
   ]
  },
  {
   "cell_type": "code",
   "execution_count": 173,
   "id": "5fbc8210-c3c2-437b-9807-dbe7873b524d",
   "metadata": {
    "colab": {
     "base_uri": "https://localhost:8080/"
    },
    "executionInfo": {
     "elapsed": 7,
     "status": "ok",
     "timestamp": 1717533895809,
     "user": {
      "displayName": "Matthias Huebscher",
      "userId": "17596753721121631212"
     },
     "user_tz": -120
    },
    "id": "5fbc8210-c3c2-437b-9807-dbe7873b524d",
    "outputId": "5de211ab-2387-4cff-99a4-d2b7ddf24724"
   },
   "outputs": [
    {
     "name": "stdout",
     "output_type": "stream",
     "text": [
      "Using device: cuda:0\n"
     ]
    }
   ],
   "source": [
    "data_dir = \"~/siads696/data\"\n",
    "\n",
    "random_state = 764\n",
    "cv_splits = 5\n",
    "\n",
    "learning_rate = 0.02\n",
    "n_epochs = 14\n",
    "batch_size = 64\n",
    "chunk_print = 10\n",
    "\n",
    "device = torch.device(\"cuda:0\" if torch.cuda.is_available() else \"cpu\")\n",
    "# device = \"cpu\"\n",
    "print(f\"Using device: {device}\")\n",
    "# if device == \"cuda:0\":\n",
    "#     torch.backends.cudnn.deterministic = True"
   ]
  },
  {
   "cell_type": "code",
   "execution_count": 174,
   "id": "72799052-bf62-4538-ad3f-e4cbbcc6745b",
   "metadata": {
    "colab": {
     "base_uri": "https://localhost:8080/"
    },
    "executionInfo": {
     "elapsed": 2348,
     "status": "ok",
     "timestamp": 1717533898151,
     "user": {
      "displayName": "Matthias Huebscher",
      "userId": "17596753721121631212"
     },
     "user_tz": -120
    },
    "id": "72799052-bf62-4538-ad3f-e4cbbcc6745b",
    "outputId": "3b0f6f89-1eba-4099-cf7c-cd6261fc3db2"
   },
   "outputs": [
    {
     "name": "stdout",
     "output_type": "stream",
     "text": [
      "Embedding vector dataset shape: (13200, 265)\n",
      "Embedding vectors MoA assigned: 6160\n"
     ]
    }
   ],
   "source": [
    "df_data = pd.read_parquet(os.path.join(data_dir, \"bbbc021_image_embed_batchcorr_256.parquet\"))\n",
    "# df_data = pd.read_parquet(os.path.join(data_dir, \"well_grouped_256.parquet\"))\n",
    "\n",
    "print(f\"Embedding vector dataset shape: {df_data.shape}\")\n",
    "print(f\"Embedding vectors MoA assigned: {df_data[~df_data['Metadata_MoA'].isnull()].shape[0]}\")"
   ]
  },
  {
   "cell_type": "code",
   "execution_count": 175,
   "id": "04e96f35-802d-41cc-bab9-7e3c9e94f6e6",
   "metadata": {
    "colab": {
     "base_uri": "https://localhost:8080/"
    },
    "executionInfo": {
     "elapsed": 18,
     "status": "ok",
     "timestamp": 1717533898152,
     "user": {
      "displayName": "Matthias Huebscher",
      "userId": "17596753721121631212"
     },
     "user_tz": -120
    },
    "id": "13139647-a46e-446b-88f3-30d0df401def",
    "outputId": "fbb8fd21-98a1-4334-dfd9-015072402859"
   },
   "outputs": [],
   "source": [
    "df_train_test = pd.read_csv(os.path.join(data_dir, \"compound_moas_trainVtest.csv\"))\n",
    "df_train = df_train_test[~df_train_test[\"in_testset\"]]\n",
    "df_test = df_train_test[df_train_test[\"in_testset\"]]"
   ]
  },
  {
   "cell_type": "code",
   "execution_count": 176,
   "id": "cecbf00f-a427-4458-a5c5-31855b5d7092",
   "metadata": {
    "colab": {
     "base_uri": "https://localhost:8080/"
    },
    "executionInfo": {
     "elapsed": 18,
     "status": "ok",
     "timestamp": 1717533898152,
     "user": {
      "displayName": "Matthias Huebscher",
      "userId": "17596753721121631212"
     },
     "user_tz": -120
    },
    "id": "13139647-a46e-446b-88f3-30d0df401def",
    "outputId": "fbb8fd21-98a1-4334-dfd9-015072402859"
   },
   "outputs": [
    {
     "name": "stdout",
     "output_type": "stream",
     "text": [
      "Train/test set shape: (39, 4)\n",
      "Training set shape: (29, 4)\n",
      "Test set shape: (10, 4)\n",
      "MoA in training set:\n",
      " ['Actin disruptors', 'Aurora kinase inhibitors', 'Cholesterol-lowering', 'DMSO', 'DNA damage', 'DNA replication', 'Eg5 inhibitors', 'Epithelial', 'Kinase inhibitors', 'Microtubule destabilizers', 'Microtubule stabilizers', 'Protein degradation', 'Protein synthesis']\n",
      "MoA in test set:\n",
      " ['Actin disruptors', 'Aurora kinase inhibitors', 'DNA damage', 'DNA replication', 'Epithelial', 'Kinase inhibitors', 'Microtubule destabilizers', 'Microtubule stabilizers', 'Protein degradation', 'Protein synthesis']\n",
      "Compounds in training set:\n",
      " ['cytochalasin B', 'cytochalasin D', 'AZ-A', 'AZ258', 'mevinolin/lovastatin', 'simvastatin', 'DMSO', 'chlorambucil', 'cisplatin', 'etoposide', 'camptothecin', 'floxuridine', 'methotrexate', 'AZ-C', 'AZ138', 'AZ-J', 'AZ-U', 'PD-169316', 'alsterpaullone', 'colchicine', 'demecolcine', 'nocodazole', 'docetaxel', 'epothilone B', 'ALLN', 'MG-132', 'lactacystin', 'anisomycin', 'cyclohexamide']\n",
      "Compounds in test set:\n",
      " ['latrunculin B', 'AZ841', 'mitomycin C', 'mitoxantrone', 'PP-2', 'bryostatin', 'vincristine', 'taxol', 'proteasome inhibitor I', 'emetine']\n"
     ]
    }
   ],
   "source": [
    "print(f\"Train/test set shape: {df_train_test.shape}\")\n",
    "print(f\"Training set shape: {df_train.shape}\")\n",
    "print(f\"Test set shape: {df_test.shape}\")\n",
    "print(f\"MoA in training set:\\n {df_train['MoA'].unique().tolist()}\")\n",
    "print(f\"MoA in test set:\\n {df_test['MoA'].unique().tolist()}\")\n",
    "print(f\"Compounds in training set:\\n {df_train['Compound'].unique().tolist()}\")\n",
    "print(f\"Compounds in test set:\\n {df_test['Compound'].unique().tolist()}\")"
   ]
  },
  {
   "cell_type": "code",
   "execution_count": 177,
   "id": "bc042686-cf10-4c7a-b191-00879043781f",
   "metadata": {
    "colab": {
     "base_uri": "https://localhost:8080/"
    },
    "executionInfo": {
     "elapsed": 17,
     "status": "ok",
     "timestamp": 1717533898152,
     "user": {
      "displayName": "Matthias Huebscher",
      "userId": "17596753721121631212"
     },
     "user_tz": -120
    },
    "id": "94b71196-8df5-482a-aca2-0eaa9a549fe2",
    "outputId": "eaeed301-7dcb-4ed5-895b-8483d7d81930"
   },
   "outputs": [],
   "source": [
    "data_cols = [c for c in df_data.columns if c.startswith(\"Z\")]\n",
    "\n",
    "df_data_train = df_data.merge(df_train, left_on=\"Metadata_Compound\", right_on=\"Compound\", how=\"inner\")\n",
    "\n",
    "df_data_train = balance_train_data(df_data_train, random_state)\n",
    "data_matrix = df_data_train[data_cols]\n",
    "\n",
    "df_data_test = df_data.merge(df_test, left_on=\"Metadata_Compound\", right_on=\"Compound\", how=\"inner\")\n",
    "data_matrix = df_data_test[data_cols]"
   ]
  },
  {
   "cell_type": "code",
   "execution_count": 178,
   "id": "0b2376bf-5472-47f5-987a-81dcf85a7efb",
   "metadata": {
    "colab": {
     "base_uri": "https://localhost:8080/"
    },
    "executionInfo": {
     "elapsed": 17,
     "status": "ok",
     "timestamp": 1717533898152,
     "user": {
      "displayName": "Matthias Huebscher",
      "userId": "17596753721121631212"
     },
     "user_tz": -120
    },
    "id": "94b71196-8df5-482a-aca2-0eaa9a549fe2",
    "outputId": "eaeed301-7dcb-4ed5-895b-8483d7d81930"
   },
   "outputs": [
    {
     "name": "stdout",
     "output_type": "stream",
     "text": [
      "Training data shape: (2843, 269)\n",
      "Training data balanced shape: (2843, 269)\n",
      "Test data shape: (2216, 269)\n",
      "Total embedding vectors in training/test set: 5059\n"
     ]
    }
   ],
   "source": [
    "print(f\"Training data shape: {df_data_train.shape}\")\n",
    "print(f\"Training data balanced shape: {df_data_train.shape}\")\n",
    "print(f\"Test data shape: {df_data_test.shape}\")\n",
    "print(f\"Total embedding vectors in training/test set: {df_data_train.shape[0]+df_data_test.shape[0]}\")"
   ]
  },
  {
   "cell_type": "code",
   "execution_count": 179,
   "id": "6ee8b2c4-1e21-482d-85eb-5f9e2169444e",
   "metadata": {
    "colab": {
     "base_uri": "https://localhost:8080/"
    },
    "executionInfo": {
     "elapsed": 12,
     "status": "ok",
     "timestamp": 1717533898152,
     "user": {
      "displayName": "Matthias Huebscher",
      "userId": "17596753721121631212"
     },
     "user_tz": -120
    },
    "id": "2e0f6851-a047-4999-8398-a1911b4b39c4",
    "outputId": "f177a88c-c9c9-4a9a-a0d5-fa2706751a26"
   },
   "outputs": [],
   "source": [
    "moa_list = df_data[~df_data[\"Metadata_MoA\"].isnull()].loc[:, \"Metadata_MoA\"].unique().tolist()\n",
    "moa_dict = {moa: idx for moa, idx in zip(moa_list, range(len(moa_list)))}\n",
    "n_classes = len(moa_dict.keys())"
   ]
  },
  {
   "cell_type": "code",
   "execution_count": 180,
   "id": "4e498bfe-172c-4e6e-bf33-1e3ef3640934",
   "metadata": {
    "colab": {
     "base_uri": "https://localhost:8080/"
    },
    "executionInfo": {
     "elapsed": 12,
     "status": "ok",
     "timestamp": 1717533898152,
     "user": {
      "displayName": "Matthias Huebscher",
      "userId": "17596753721121631212"
     },
     "user_tz": -120
    },
    "id": "2e0f6851-a047-4999-8398-a1911b4b39c4",
    "outputId": "f177a88c-c9c9-4a9a-a0d5-fa2706751a26"
   },
   "outputs": [
    {
     "name": "stdout",
     "output_type": "stream",
     "text": [
      "MoA label dictionary:\n",
      "{'Protein degradation': 0, 'Kinase inhibitors': 1, 'Protein synthesis': 2, 'DNA replication': 3, 'DNA damage': 4, 'Microtubule destabilizers': 5, 'Actin disruptors': 6, 'Microtubule stabilizers': 7, 'Cholesterol-lowering': 8, 'Epithelial': 9, 'Eg5 inhibitors': 10, 'Aurora kinase inhibitors': 11, 'DMSO': 12}\n",
      "Number of classes: 13\n"
     ]
    }
   ],
   "source": [
    "print(f\"MoA label dictionary:\\n{moa_dict}\")\n",
    "print(f\"Number of classes: {n_classes}\")"
   ]
  },
  {
   "cell_type": "code",
   "execution_count": 181,
   "id": "842b796e-25e0-4004-90fb-1a14caa21dc3",
   "metadata": {
    "executionInfo": {
     "elapsed": 9,
     "status": "ok",
     "timestamp": 1717533898152,
     "user": {
      "displayName": "Matthias Huebscher",
      "userId": "17596753721121631212"
     },
     "user_tz": -120
    },
    "id": "842b796e-25e0-4004-90fb-1a14caa21dc3"
   },
   "outputs": [],
   "source": [
    "train_dataset = EmbedVec256Dataset(df_data_train, \"Metadata_MoA\", \"PC\", moa_dict)\n",
    "train_dataloader = DataLoader(train_dataset, batch_size=batch_size, shuffle=True)\n",
    "\n",
    "test_dataset = EmbedVec256Dataset(df_data_test, \"Metadata_MoA\", \"PC\", moa_dict)\n",
    "test_dataloader = DataLoader(test_dataset, batch_size=batch_size, shuffle=False)"
   ]
  },
  {
   "cell_type": "code",
   "execution_count": 182,
   "id": "31faebe4-57e1-426c-be2b-8c0e39b0b43e",
   "metadata": {
    "executionInfo": {
     "elapsed": 9,
     "status": "ok",
     "timestamp": 1717533898152,
     "user": {
      "displayName": "Matthias Huebscher",
      "userId": "17596753721121631212"
     },
     "user_tz": -120
    },
    "id": "31faebe4-57e1-426c-be2b-8c0e39b0b43e"
   },
   "outputs": [],
   "source": [
    "model = Net256(n_classes)"
   ]
  },
  {
   "cell_type": "code",
   "execution_count": 183,
   "id": "01a46a65-000d-4bb6-97a2-fa54584b7af0",
   "metadata": {
    "executionInfo": {
     "elapsed": 9,
     "status": "ok",
     "timestamp": 1717533898153,
     "user": {
      "displayName": "Matthias Huebscher",
      "userId": "17596753721121631212"
     },
     "user_tz": -120
    },
    "id": "01a46a65-000d-4bb6-97a2-fa54584b7af0"
   },
   "outputs": [],
   "source": [
    "# using cross entropy loss for multiclass classification\n",
    "loss_func = nn.CrossEntropyLoss()\n",
    "\n",
    "# use Adam as optimizer for this NN\n",
    "optimizer = torch.optim.Adam(model.parameters(), foreach=True, lr=learning_rate)"
   ]
  },
  {
   "cell_type": "code",
   "execution_count": 184,
   "id": "94e537c9-3a2a-4d2d-b282-63eebd2fa4c7",
   "metadata": {
    "colab": {
     "base_uri": "https://localhost:8080/"
    },
    "executionInfo": {
     "elapsed": 10136,
     "status": "ok",
     "timestamp": 1717533908280,
     "user": {
      "displayName": "Matthias Huebscher",
      "userId": "17596753721121631212"
     },
     "user_tz": -120
    },
    "id": "94e537c9-3a2a-4d2d-b282-63eebd2fa4c7",
    "outputId": "9c512739-a197-4d7c-cace-7344d79e9331"
   },
   "outputs": [],
   "source": [
    "# print(\"Begin Training\")\n",
    "\n",
    "# for epoch in range(n_epochs):\n",
    "#     running_loss = 0.0\n",
    "#     loss, accuracy = ms2_model.train_model(model, optimizer, loss_func, train_dataloader)\n",
    "#     print(f\"Epoch {epoch+1}  Loss: {loss:>5f}  Accuracy: {accuracy:>5f}\")\n",
    "# print(\"Stop Training\")"
   ]
  },
  {
   "cell_type": "code",
   "execution_count": 185,
   "id": "8ea465dc-688d-43ab-9cc2-51b96b9f2aca",
   "metadata": {
    "colab": {
     "base_uri": "https://localhost:8080/"
    },
    "executionInfo": {
     "elapsed": 588,
     "status": "ok",
     "timestamp": 1717533908847,
     "user": {
      "displayName": "Matthias Huebscher",
      "userId": "17596753721121631212"
     },
     "user_tz": -120
    },
    "id": "8ea465dc-688d-43ab-9cc2-51b96b9f2aca",
    "outputId": "3854051e-e1b9-4634-ab1e-03a7f7f15263"
   },
   "outputs": [],
   "source": [
    "# y_label = df_data_test[\"Metadata_MoA\"].map(moa_dict).tolist()\n",
    "\n",
    "# avg_loss, yhat_label = ms2_model.test_model(model, loss_func, test_dataloader)\n",
    "\n",
    "# print(avg_loss)\n",
    "# print(accuracy_score(y_label, yhat_label))\n",
    "# print(f1_score(y_label, yhat_label, average=\"weighted\"))\n",
    "# print(precision_score(y_label, yhat_label, average=None))\n",
    "# print(recall_score(y_label, yhat_label, zero_division=np.nan, average=None))"
   ]
  },
  {
   "cell_type": "code",
   "execution_count": 186,
   "id": "10868992-3ade-44b2-a830-fd837a317ec7",
   "metadata": {},
   "outputs": [
    {
     "name": "stdout",
     "output_type": "stream",
     "text": [
      "Fold 1\n",
      "Epoch 1: Train loss: 0.982877  Train accuracy: 0.695690  Valid loss: 0.762471  Valid accuracy: 0.787346\n",
      "Epoch 2: Train loss: 0.337028  Train accuracy: 0.886544  Valid loss: 0.540558  Valid accuracy: 0.831283\n",
      "Epoch 3: Train loss: 0.217787  Train accuracy: 0.928320  Valid loss: 0.594312  Valid accuracy: 0.815466\n",
      "Epoch 4: Train loss: 0.169937  Train accuracy: 0.943712  Valid loss: 0.619682  Valid accuracy: 0.836555\n",
      "Epoch 5: Train loss: 0.107398  Train accuracy: 0.967018  Valid loss: 0.590191  Valid accuracy: 0.841828\n",
      "Epoch 6: Train loss: 0.093686  Train accuracy: 0.968777  Valid loss: 0.653703  Valid accuracy: 0.855888\n",
      "Epoch 7: Train loss: 0.131639  Train accuracy: 0.963940  Valid loss: 0.579206  Valid accuracy: 0.852373\n",
      "Epoch 8: Train loss: 0.085720  Train accuracy: 0.969657  Valid loss: 0.753462  Valid accuracy: 0.833040\n",
      "Epoch 9: Train loss: 0.054200  Train accuracy: 0.982410  Valid loss: 0.688708  Valid accuracy: 0.848858\n",
      "Epoch 10: Train loss: 0.060707  Train accuracy: 0.983289  Valid loss: 0.701895  Valid accuracy: 0.845343\n",
      "Epoch 11: Train loss: 0.077941  Train accuracy: 0.975814  Valid loss: 0.772920  Valid accuracy: 0.836555\n",
      "Epoch 12: Train loss: 0.048525  Train accuracy: 0.981970  Valid loss: 0.801325  Valid accuracy: 0.841828\n",
      "Epoch 13: Train loss: 0.104937  Train accuracy: 0.966579  Valid loss: 0.744906  Valid accuracy: 0.818981\n",
      "Epoch 14: Train loss: 0.057498  Train accuracy: 0.981970  Valid loss: 0.699851  Valid accuracy: 0.820738\n",
      "Epoch 15: Train loss: 0.028212  Train accuracy: 0.990765  Valid loss: 0.635120  Valid accuracy: 0.848858\n",
      "Epoch 16: Train loss: 0.028297  Train accuracy: 0.990765  Valid loss: 0.690169  Valid accuracy: 0.854130\n",
      "Fold 2\n",
      "Epoch 1: Train loss: 1.016554  Train accuracy: 0.688654  Valid loss: 0.496030  Valid accuracy: 0.836555\n",
      "Epoch 2: Train loss: 0.373860  Train accuracy: 0.878188  Valid loss: 0.421356  Valid accuracy: 0.862917\n",
      "Epoch 3: Train loss: 0.253859  Train accuracy: 0.913369  Valid loss: 0.470052  Valid accuracy: 0.861160\n",
      "Epoch 4: Train loss: 0.170217  Train accuracy: 0.942832  Valid loss: 0.393049  Valid accuracy: 0.878735\n",
      "Epoch 5: Train loss: 0.144616  Train accuracy: 0.948989  Valid loss: 0.364375  Valid accuracy: 0.891037\n",
      "Epoch 6: Train loss: 0.098985  Train accuracy: 0.969217  Valid loss: 0.459790  Valid accuracy: 0.873462\n",
      "Epoch 7: Train loss: 0.086351  Train accuracy: 0.971416  Valid loss: 0.469188  Valid accuracy: 0.868190\n",
      "Epoch 8: Train loss: 0.067974  Train accuracy: 0.981530  Valid loss: 0.526526  Valid accuracy: 0.868190\n",
      "Epoch 9: Train loss: 0.096703  Train accuracy: 0.970536  Valid loss: 0.478151  Valid accuracy: 0.884007\n",
      "Epoch 10: Train loss: 0.096867  Train accuracy: 0.968777  Valid loss: 0.542024  Valid accuracy: 0.884007\n",
      "Epoch 11: Train loss: 0.090151  Train accuracy: 0.972735  Valid loss: 0.624159  Valid accuracy: 0.868190\n",
      "Epoch 12: Train loss: 0.067442  Train accuracy: 0.979771  Valid loss: 0.536931  Valid accuracy: 0.885764\n",
      "Epoch 13: Train loss: 0.041411  Train accuracy: 0.986807  Valid loss: 0.487150  Valid accuracy: 0.884007\n",
      "Epoch 14: Train loss: 0.039617  Train accuracy: 0.986807  Valid loss: 0.503226  Valid accuracy: 0.880492\n",
      "Epoch 15: Train loss: 0.048368  Train accuracy: 0.985488  Valid loss: 0.521292  Valid accuracy: 0.882250\n",
      "Epoch 16: Train loss: 0.044946  Train accuracy: 0.983729  Valid loss: 0.616717  Valid accuracy: 0.875220\n",
      "Fold 3\n",
      "Epoch 1: Train loss: 0.991257  Train accuracy: 0.691293  Valid loss: 0.545392  Valid accuracy: 0.833040\n",
      "Epoch 2: Train loss: 0.356730  Train accuracy: 0.880827  Valid loss: 0.522037  Valid accuracy: 0.855888\n",
      "Epoch 3: Train loss: 0.238142  Train accuracy: 0.912929  Valid loss: 0.459098  Valid accuracy: 0.852373\n",
      "Epoch 4: Train loss: 0.161561  Train accuracy: 0.947669  Valid loss: 0.569244  Valid accuracy: 0.857645\n",
      "Epoch 5: Train loss: 0.151800  Train accuracy: 0.950748  Valid loss: 0.518601  Valid accuracy: 0.854130\n",
      "Epoch 6: Train loss: 0.121907  Train accuracy: 0.956464  Valid loss: 0.537450  Valid accuracy: 0.866432\n",
      "Epoch 7: Train loss: 0.094144  Train accuracy: 0.966579  Valid loss: 0.513882  Valid accuracy: 0.862917\n",
      "Epoch 8: Train loss: 0.084033  Train accuracy: 0.974494  Valid loss: 0.559080  Valid accuracy: 0.868190\n",
      "Epoch 9: Train loss: 0.046795  Train accuracy: 0.987247  Valid loss: 0.603313  Valid accuracy: 0.866432\n",
      "Epoch 10: Train loss: 0.044701  Train accuracy: 0.985488  Valid loss: 0.592597  Valid accuracy: 0.869947\n",
      "Epoch 11: Train loss: 0.078689  Train accuracy: 0.977133  Valid loss: 0.627241  Valid accuracy: 0.848858\n",
      "Epoch 12: Train loss: 0.090775  Train accuracy: 0.972735  Valid loss: 0.693848  Valid accuracy: 0.834798\n",
      "Epoch 13: Train loss: 0.047854  Train accuracy: 0.985488  Valid loss: 0.705944  Valid accuracy: 0.857645\n",
      "Epoch 14: Train loss: 0.045116  Train accuracy: 0.985048  Valid loss: 0.661324  Valid accuracy: 0.876977\n",
      "Epoch 15: Train loss: 0.044536  Train accuracy: 0.987247  Valid loss: 0.605464  Valid accuracy: 0.868190\n",
      "Epoch 16: Train loss: 0.026214  Train accuracy: 0.992084  Valid loss: 0.569560  Valid accuracy: 0.875220\n",
      "Fold 4\n",
      "Epoch 1: Train loss: 1.046786  Train accuracy: 0.672527  Valid loss: 0.556596  Valid accuracy: 0.823944\n",
      "Epoch 2: Train loss: 0.430665  Train accuracy: 0.859780  Valid loss: 0.475187  Valid accuracy: 0.848592\n",
      "Epoch 3: Train loss: 0.312337  Train accuracy: 0.901099  Valid loss: 0.482860  Valid accuracy: 0.853873\n",
      "Epoch 4: Train loss: 0.211753  Train accuracy: 0.931429  Valid loss: 0.513757  Valid accuracy: 0.845070\n",
      "Epoch 5: Train loss: 0.122530  Train accuracy: 0.960879  Valid loss: 0.504982  Valid accuracy: 0.846831\n",
      "Epoch 6: Train loss: 0.112563  Train accuracy: 0.958681  Valid loss: 0.724671  Valid accuracy: 0.845070\n",
      "Epoch 7: Train loss: 0.100519  Train accuracy: 0.970549  Valid loss: 0.620444  Valid accuracy: 0.838028\n",
      "Epoch 8: Train loss: 0.083215  Train accuracy: 0.972308  Valid loss: 0.607686  Valid accuracy: 0.857394\n",
      "Epoch 9: Train loss: 0.059278  Train accuracy: 0.982857  Valid loss: 0.616073  Valid accuracy: 0.859155\n",
      "Epoch 10: Train loss: 0.060405  Train accuracy: 0.979780  Valid loss: 0.603105  Valid accuracy: 0.853873\n",
      "Epoch 11: Train loss: 0.095625  Train accuracy: 0.968791  Valid loss: 0.641590  Valid accuracy: 0.862676\n",
      "Epoch 12: Train loss: 0.100620  Train accuracy: 0.969670  Valid loss: 0.614083  Valid accuracy: 0.846831\n",
      "Epoch 13: Train loss: 0.054361  Train accuracy: 0.986374  Valid loss: 0.723423  Valid accuracy: 0.838028\n",
      "Epoch 14: Train loss: 0.035487  Train accuracy: 0.986813  Valid loss: 0.676644  Valid accuracy: 0.859155\n",
      "Epoch 15: Train loss: 0.022186  Train accuracy: 0.991648  Valid loss: 0.742278  Valid accuracy: 0.846831\n",
      "Epoch 16: Train loss: 0.012164  Train accuracy: 0.996923  Valid loss: 0.713753  Valid accuracy: 0.869718\n",
      "Fold 5\n",
      "Epoch 1: Train loss: 1.049144  Train accuracy: 0.671209  Valid loss: 0.609763  Valid accuracy: 0.813380\n",
      "Epoch 2: Train loss: 0.396728  Train accuracy: 0.872527  Valid loss: 0.663098  Valid accuracy: 0.832746\n",
      "Epoch 3: Train loss: 0.280458  Train accuracy: 0.900659  Valid loss: 0.514789  Valid accuracy: 0.843310\n",
      "Epoch 4: Train loss: 0.179649  Train accuracy: 0.934505  Valid loss: 0.606664  Valid accuracy: 0.845070\n",
      "Epoch 5: Train loss: 0.162262  Train accuracy: 0.948571  Valid loss: 0.612216  Valid accuracy: 0.836268\n",
      "Epoch 6: Train loss: 0.129947  Train accuracy: 0.956484  Valid loss: 0.604239  Valid accuracy: 0.855634\n",
      "Epoch 7: Train loss: 0.066766  Train accuracy: 0.978462  Valid loss: 0.706736  Valid accuracy: 0.857394\n",
      "Epoch 8: Train loss: 0.101161  Train accuracy: 0.963956  Valid loss: 0.653781  Valid accuracy: 0.848592\n",
      "Epoch 9: Train loss: 0.075475  Train accuracy: 0.976264  Valid loss: 0.575184  Valid accuracy: 0.867958\n",
      "Epoch 10: Train loss: 0.066223  Train accuracy: 0.982857  Valid loss: 0.634513  Valid accuracy: 0.869718\n",
      "Epoch 11: Train loss: 0.051841  Train accuracy: 0.982418  Valid loss: 0.694654  Valid accuracy: 0.853873\n",
      "Epoch 12: Train loss: 0.034437  Train accuracy: 0.986813  Valid loss: 0.647225  Valid accuracy: 0.862676\n",
      "Epoch 13: Train loss: 0.056320  Train accuracy: 0.979341  Valid loss: 0.642285  Valid accuracy: 0.864437\n",
      "Epoch 14: Train loss: 0.054473  Train accuracy: 0.983736  Valid loss: 0.657033  Valid accuracy: 0.853873\n",
      "Epoch 15: Train loss: 0.043086  Train accuracy: 0.986374  Valid loss: 0.748154  Valid accuracy: 0.838028\n",
      "Epoch 16: Train loss: 0.046265  Train accuracy: 0.985495  Valid loss: 0.716580  Valid accuracy: 0.846831\n"
     ]
    }
   ],
   "source": [
    "kfold = KFold(n_splits=cv_splits, shuffle=True, random_state=random_state)\n",
    "\n",
    "for fold ,(train_idx, valid_idx) in enumerate(kfold.split(np.arange(len(train_dataset)))):\n",
    "    train_sampler = SubsetRandomSampler(train_idx)\n",
    "    valid_sampler = SubsetRandomSampler(valid_idx)\n",
    "    train_dataloader = DataLoader(train_dataset, batch_size=batch_size, sampler=train_sampler)\n",
    "    valid_dataloader = DataLoader(train_dataset, batch_size=batch_size, sampler=valid_sampler)\n",
    "\n",
    "    model = Net256(n_classes).to(device)\n",
    "    optimizer = torch.optim.Adam(model.parameters(), foreach=True, lr=learning_rate)\n",
    "    loss_func = nn.CrossEntropyLoss()\n",
    "\n",
    "    print(f\"Fold {fold+1}\")\n",
    "    for epoch in range(n_epochs):\n",
    "        train_loss, train_acc = ms2_model.train_model(model, optimizer, loss_func, train_dataloader, device)\n",
    "        valid_loss, valid_acc = ms2_model.valid_model(model, loss_func, valid_dataloader, device)\n",
    "        tl = train_loss / len(train_dataloader.sampler)\n",
    "        ta = train_acc / len(train_dataloader.sampler)\n",
    "        vl = valid_loss / len(valid_dataloader.sampler)\n",
    "        va = valid_acc / len(valid_dataloader.sampler)\n",
    "        print(f\"Epoch {epoch+1}: Train loss: {tl:>5f}  Train accuracy: {ta:>5f}  Valid loss: {vl:>5f}  Valid accuracy: {va:>5f}\")\n",
    "torch.save(model, \"../models/kc_nn_Net256.pt\")"
   ]
  },
  {
   "cell_type": "code",
   "execution_count": 187,
   "id": "e988d967-a6c6-43ad-8300-623afe147297",
   "metadata": {},
   "outputs": [
    {
     "name": "stdout",
     "output_type": "stream",
     "text": [
      "2.2941183206164664\n",
      "0.6773465703971119\n"
     ]
    }
   ],
   "source": [
    "trained_model = torch.load(\"../models/kc_nn_Net256.pt\").to(device)\n",
    "\n",
    "y_label = df_data_test[\"Metadata_MoA\"].map(moa_dict).tolist()\n",
    "test_loss, yhat_label = ms2_model.test_model(trained_model, loss_func, test_dataloader, device)\n",
    "\n",
    "print(test_loss / len(test_dataloader.dataset))\n",
    "print(accuracy_score(y_label, yhat_label))"
   ]
  },
  {
   "cell_type": "code",
   "execution_count": null,
   "id": "1005e9f4-957f-4fdf-8855-e90a7897fbd4",
   "metadata": {},
   "outputs": [],
   "source": []
  },
  {
   "cell_type": "code",
   "execution_count": null,
   "id": "f6bbb113-01e9-44c0-87f5-db2a83fe660b",
   "metadata": {},
   "outputs": [],
   "source": []
  }
 ],
 "metadata": {
  "colab": {
   "provenance": []
  },
  "kernelspec": {
   "display_name": "Python 3 (ipykernel)",
   "language": "python",
   "name": "python3"
  },
  "language_info": {
   "codemirror_mode": {
    "name": "ipython",
    "version": 3
   },
   "file_extension": ".py",
   "mimetype": "text/x-python",
   "name": "python",
   "nbconvert_exporter": "python",
   "pygments_lexer": "ipython3",
   "version": "3.9.12"
  }
 },
 "nbformat": 4,
 "nbformat_minor": 5
}

{
 "cells": [
  {
   "cell_type": "code",
   "execution_count": 1025,
   "id": "9b8db711-1e28-4c8c-825d-594f03395d44",
   "metadata": {},
   "outputs": [
    {
     "name": "stdout",
     "output_type": "stream",
     "text": [
      "The autoreload extension is already loaded. To reload it, use:\n",
      "  %reload_ext autoreload\n"
     ]
    }
   ],
   "source": [
    "%load_ext autoreload\n",
    "%autoreload 2"
   ]
  },
  {
   "cell_type": "code",
   "execution_count": 1136,
   "id": "05428d56-c073-4267-8190-b57703c7c092",
   "metadata": {
    "executionInfo": {
     "elapsed": 624,
     "status": "ok",
     "timestamp": 1717533895277,
     "user": {
      "displayName": "Matthias Huebscher",
      "userId": "17596753721121631212"
     },
     "user_tz": -120
    },
    "id": "05428d56-c073-4267-8190-b57703c7c092"
   },
   "outputs": [],
   "source": [
    "import os\n",
    "import pandas as pd\n",
    "import numpy as np\n",
    "\n",
    "import torch\n",
    "import torch.nn as nn\n",
    "import torch.nn.functional as F\n",
    "\n",
    "from torch.utils.data import DataLoader, Dataset\n",
    "\n",
    "from sklearn.metrics import accuracy_score, f1_score, confusion_matrix, precision_score, recall_score, roc_auc_score\n",
    "from sklearn.metrics import RocCurveDisplay\n",
    "from sklearn.preprocessing import StandardScaler\n",
    "from sklearn.model_selection import KFold\n",
    "\n",
    "# import util_unsupervised as util_u\n",
    "import ms2_model\n",
    "from ms2_model import Net256\n",
    "from ms2_dataset import EmbedVec256Dataset\n",
    "\n",
    "import matplotlib.pyplot as plt\n",
    "import seaborn"
   ]
  },
  {
   "cell_type": "code",
   "execution_count": 1137,
   "id": "b242b71b-7d21-46b2-a66d-c67f96560e89",
   "metadata": {
    "colab": {
     "base_uri": "https://localhost:8080/"
    },
    "executionInfo": {
     "elapsed": 9,
     "status": "ok",
     "timestamp": 1717533895278,
     "user": {
      "displayName": "Matthias Huebscher",
      "userId": "17596753721121631212"
     },
     "user_tz": -120
    },
    "id": "b242b71b-7d21-46b2-a66d-c67f96560e89",
    "outputId": "bead82cc-42c8-4c6c-f60d-9f156ec59f92"
   },
   "outputs": [
    {
     "data": {
      "text/plain": [
       "<torch._C.Generator at 0x1512ec633250>"
      ]
     },
     "execution_count": 1137,
     "metadata": {},
     "output_type": "execute_result"
    }
   ],
   "source": [
    "torch.manual_seed(764)"
   ]
  },
  {
   "cell_type": "code",
   "execution_count": 1138,
   "id": "LkpeVfVuM4-B",
   "metadata": {
    "executionInfo": {
     "elapsed": 7,
     "status": "ok",
     "timestamp": 1717533895278,
     "user": {
      "displayName": "Matthias Huebscher",
      "userId": "17596753721121631212"
     },
     "user_tz": -120
    },
    "id": "LkpeVfVuM4-B"
   },
   "outputs": [],
   "source": [
    "def balance_train_data(df, random_state):\n",
    "  df_grp = df.groupby([\"Metadata_MoA\"])[\"Metadata_Compound\"].count().reset_index(name=\"count\")\n",
    "  mean_count = int(df_grp.drop(df_grp[df_grp[\"Metadata_MoA\"] == \"DMSO\"].index)[\"count\"].mean().round())\n",
    "\n",
    "  df_dmso = df[df[\"Metadata_MoA\"] == \"DMSO\"].sample(n=mean_count, random_state=random_state)\n",
    "  df_other = df.drop(df[df[\"Metadata_MoA\"] == \"DMSO\"].index)\n",
    "\n",
    "  df_all = pd.concat([df_other, df_dmso], axis=0)\n",
    "  return df_all.reset_index(drop=True)"
   ]
  },
  {
   "cell_type": "code",
   "execution_count": 1139,
   "id": "5fbc8210-c3c2-437b-9807-dbe7873b524d",
   "metadata": {
    "colab": {
     "base_uri": "https://localhost:8080/"
    },
    "executionInfo": {
     "elapsed": 7,
     "status": "ok",
     "timestamp": 1717533895809,
     "user": {
      "displayName": "Matthias Huebscher",
      "userId": "17596753721121631212"
     },
     "user_tz": -120
    },
    "id": "5fbc8210-c3c2-437b-9807-dbe7873b524d",
    "outputId": "5de211ab-2387-4cff-99a4-d2b7ddf24724"
   },
   "outputs": [
    {
     "name": "stdout",
     "output_type": "stream",
     "text": [
      "Using device: cpu\n"
     ]
    }
   ],
   "source": [
    "data_dir = \"~/siads696/data\"\n",
    "\n",
    "random_state = 764\n",
    "n_classes = 13 # number of MoA\n",
    "\n",
    "learning_rate = 0.01\n",
    "n_epochs = 12\n",
    "batch_size = 16\n",
    "chunk_print = 10\n",
    "\n",
    "device = torch.device(\"cuda\" if torch.cuda.is_available() else \"cpu\")\n",
    "print(f\"Using device: {device}\")"
   ]
  },
  {
   "cell_type": "code",
   "execution_count": 1140,
   "id": "72799052-bf62-4538-ad3f-e4cbbcc6745b",
   "metadata": {
    "colab": {
     "base_uri": "https://localhost:8080/"
    },
    "executionInfo": {
     "elapsed": 2348,
     "status": "ok",
     "timestamp": 1717533898151,
     "user": {
      "displayName": "Matthias Huebscher",
      "userId": "17596753721121631212"
     },
     "user_tz": -120
    },
    "id": "72799052-bf62-4538-ad3f-e4cbbcc6745b",
    "outputId": "3b0f6f89-1eba-4099-cf7c-cd6261fc3db2"
   },
   "outputs": [
    {
     "name": "stdout",
     "output_type": "stream",
     "text": [
      "Embedding vector dataset shape: (3300, 261)\n",
      "Embedding vectors MoA assigned: 1540\n"
     ]
    }
   ],
   "source": [
    "# df_data = pd.read_parquet(os.path.join(data_dir, \"bbbc021_image_embed_batchcorr_256.parquet\"))\n",
    "df_data = pd.read_parquet(os.path.join(data_dir, \"well_grouped_256.parquet\"))\n",
    "print(f\"Embedding vector dataset shape: {df_data.shape}\")\n",
    "\n",
    "print(f\"Embedding vectors MoA assigned: {df_data[~df_data['Metadata_MoA'].isnull()].shape[0]}\")"
   ]
  },
  {
   "cell_type": "code",
   "execution_count": 1141,
   "id": "13139647-a46e-446b-88f3-30d0df401def",
   "metadata": {
    "colab": {
     "base_uri": "https://localhost:8080/"
    },
    "executionInfo": {
     "elapsed": 18,
     "status": "ok",
     "timestamp": 1717533898152,
     "user": {
      "displayName": "Matthias Huebscher",
      "userId": "17596753721121631212"
     },
     "user_tz": -120
    },
    "id": "13139647-a46e-446b-88f3-30d0df401def",
    "outputId": "fbb8fd21-98a1-4334-dfd9-015072402859"
   },
   "outputs": [
    {
     "name": "stdout",
     "output_type": "stream",
     "text": [
      "Train/test set shape: (39, 4)\n",
      "Training set shape: (29, 4)\n",
      "Test set shape: (10, 4)\n",
      "MoA in training set:\n",
      " ['Actin disruptors', 'Aurora kinase inhibitors', 'Cholesterol-lowering', 'DMSO', 'DNA damage', 'DNA replication', 'Eg5 inhibitors', 'Epithelial', 'Kinase inhibitors', 'Microtubule destabilizers', 'Microtubule stabilizers', 'Protein degradation', 'Protein synthesis']\n",
      "MoA in test set:\n",
      " ['Actin disruptors', 'Aurora kinase inhibitors', 'DNA damage', 'DNA replication', 'Epithelial', 'Kinase inhibitors', 'Microtubule destabilizers', 'Microtubule stabilizers', 'Protein degradation', 'Protein synthesis']\n",
      "Compounds in training set:\n",
      " ['cytochalasin B', 'cytochalasin D', 'AZ-A', 'AZ258', 'mevinolin/lovastatin', 'simvastatin', 'DMSO', 'chlorambucil', 'cisplatin', 'etoposide', 'camptothecin', 'floxuridine', 'methotrexate', 'AZ-C', 'AZ138', 'AZ-J', 'AZ-U', 'PD-169316', 'alsterpaullone', 'colchicine', 'demecolcine', 'nocodazole', 'docetaxel', 'epothilone B', 'ALLN', 'MG-132', 'lactacystin', 'anisomycin', 'cyclohexamide']\n",
      "Compounds in test set:\n",
      " ['latrunculin B', 'AZ841', 'mitomycin C', 'mitoxantrone', 'PP-2', 'bryostatin', 'vincristine', 'taxol', 'proteasome inhibitor I', 'emetine']\n"
     ]
    }
   ],
   "source": [
    "df_train_test = pd.read_csv(os.path.join(data_dir, \"compound_moas_trainVtest.csv\"))\n",
    "df_train = df_train_test[~df_train_test[\"in_testset\"]]\n",
    "df_test = df_train_test[df_train_test[\"in_testset\"]]\n",
    "print(f\"Train/test set shape: {df_train_test.shape}\")\n",
    "print(f\"Training set shape: {df_train.shape}\")\n",
    "print(f\"Test set shape: {df_test.shape}\")\n",
    "print(f\"MoA in training set:\\n {df_train['MoA'].unique().tolist()}\")\n",
    "print(f\"MoA in test set:\\n {df_test['MoA'].unique().tolist()}\")\n",
    "print(f\"Compounds in training set:\\n {df_train['Compound'].unique().tolist()}\")\n",
    "print(f\"Compounds in test set:\\n {df_test['Compound'].unique().tolist()}\")"
   ]
  },
  {
   "cell_type": "code",
   "execution_count": 1142,
   "id": "94b71196-8df5-482a-aca2-0eaa9a549fe2",
   "metadata": {
    "colab": {
     "base_uri": "https://localhost:8080/"
    },
    "executionInfo": {
     "elapsed": 17,
     "status": "ok",
     "timestamp": 1717533898152,
     "user": {
      "displayName": "Matthias Huebscher",
      "userId": "17596753721121631212"
     },
     "user_tz": -120
    },
    "id": "94b71196-8df5-482a-aca2-0eaa9a549fe2",
    "outputId": "eaeed301-7dcb-4ed5-895b-8483d7d81930"
   },
   "outputs": [
    {
     "name": "stdout",
     "output_type": "stream",
     "text": [
      "Training data shape: (986, 265)\n",
      "Training data balanced shape: (711, 265)\n",
      "Test data shape: (554, 265)\n",
      "Total embedding vectors in training/test set: 1265\n"
     ]
    }
   ],
   "source": [
    "data_cols = [c for c in df_data.columns if c.startswith(\"Z\")]\n",
    "\n",
    "df_data_train = df_data.merge(df_train, left_on=\"Metadata_Compound\", right_on=\"Compound\", how=\"inner\")\n",
    "print(f\"Training data shape: {df_data_train.shape}\")\n",
    "\n",
    "df_data_train = balance_train_data(df_data_train, random_state)\n",
    "data_matrix = df_data_train[data_cols]\n",
    "print(f\"Training data balanced shape: {df_data_train.shape}\")\n",
    "\n",
    "df_data_test = df_data.merge(df_test, left_on=\"Metadata_Compound\", right_on=\"Compound\", how=\"inner\")\n",
    "data_matrix = df_data_test[data_cols]\n",
    "print(f\"Test data shape: {df_data_test.shape}\")\n",
    "\n",
    "print(f\"Total embedding vectors in training/test set: {df_data_train.shape[0]+df_data_test.shape[0]}\")"
   ]
  },
  {
   "cell_type": "code",
   "execution_count": 1143,
   "id": "2e0f6851-a047-4999-8398-a1911b4b39c4",
   "metadata": {
    "colab": {
     "base_uri": "https://localhost:8080/"
    },
    "executionInfo": {
     "elapsed": 12,
     "status": "ok",
     "timestamp": 1717533898152,
     "user": {
      "displayName": "Matthias Huebscher",
      "userId": "17596753721121631212"
     },
     "user_tz": -120
    },
    "id": "2e0f6851-a047-4999-8398-a1911b4b39c4",
    "outputId": "f177a88c-c9c9-4a9a-a0d5-fa2706751a26"
   },
   "outputs": [
    {
     "name": "stdout",
     "output_type": "stream",
     "text": [
      "MoA label dictionary:\n",
      "{'Protein degradation': 0, 'Aurora kinase inhibitors': 1, 'Eg5 inhibitors': 2, 'Epithelial': 3, 'DMSO': 4, 'Kinase inhibitors': 5, 'Protein synthesis': 6, 'DNA replication': 7, 'DNA damage': 8, 'Microtubule destabilizers': 9, 'Actin disruptors': 10, 'Microtubule stabilizers': 11, 'Cholesterol-lowering': 12}\n"
     ]
    }
   ],
   "source": [
    "moa_list = df_data[~df_data[\"Metadata_MoA\"].isnull()].loc[:, \"Metadata_MoA\"].unique().tolist()\n",
    "moa_dict = {moa: idx for moa, idx in zip(moa_list, range(len(moa_list)))}\n",
    "print(f\"MoA label dictionary:\\n{moa_dict}\")"
   ]
  },
  {
   "cell_type": "code",
   "execution_count": 1144,
   "id": "842b796e-25e0-4004-90fb-1a14caa21dc3",
   "metadata": {
    "executionInfo": {
     "elapsed": 9,
     "status": "ok",
     "timestamp": 1717533898152,
     "user": {
      "displayName": "Matthias Huebscher",
      "userId": "17596753721121631212"
     },
     "user_tz": -120
    },
    "id": "842b796e-25e0-4004-90fb-1a14caa21dc3"
   },
   "outputs": [],
   "source": [
    "train_dataset = EmbedVec256Dataset(df_data_train, \"Metadata_MoA\", \"PC\", moa_dict)\n",
    "train_dataloader = DataLoader(train_dataset, batch_size=batch_size, shuffle=True)\n",
    "\n",
    "test_dataset = EmbedVec256Dataset(df_data_test, \"Metadata_MoA\", \"PC\", moa_dict)\n",
    "test_dataloader = DataLoader(test_dataset, batch_size=batch_size, shuffle=False)"
   ]
  },
  {
   "cell_type": "code",
   "execution_count": 1145,
   "id": "31faebe4-57e1-426c-be2b-8c0e39b0b43e",
   "metadata": {
    "executionInfo": {
     "elapsed": 9,
     "status": "ok",
     "timestamp": 1717533898152,
     "user": {
      "displayName": "Matthias Huebscher",
      "userId": "17596753721121631212"
     },
     "user_tz": -120
    },
    "id": "31faebe4-57e1-426c-be2b-8c0e39b0b43e"
   },
   "outputs": [],
   "source": [
    "model = Net256(n_classes)\n",
    "# print(model)"
   ]
  },
  {
   "cell_type": "code",
   "execution_count": 1146,
   "id": "01a46a65-000d-4bb6-97a2-fa54584b7af0",
   "metadata": {
    "executionInfo": {
     "elapsed": 9,
     "status": "ok",
     "timestamp": 1717533898153,
     "user": {
      "displayName": "Matthias Huebscher",
      "userId": "17596753721121631212"
     },
     "user_tz": -120
    },
    "id": "01a46a65-000d-4bb6-97a2-fa54584b7af0"
   },
   "outputs": [],
   "source": [
    "# using cross entropy loss for multiclass classification\n",
    "loss_func = nn.CrossEntropyLoss()\n",
    "\n",
    "# use Adam as optimizer for this NN\n",
    "optimizer = torch.optim.Adam(model.parameters(), foreach=True, lr=learning_rate)"
   ]
  },
  {
   "cell_type": "code",
   "execution_count": 1147,
   "id": "94e537c9-3a2a-4d2d-b282-63eebd2fa4c7",
   "metadata": {
    "colab": {
     "base_uri": "https://localhost:8080/"
    },
    "executionInfo": {
     "elapsed": 10136,
     "status": "ok",
     "timestamp": 1717533908280,
     "user": {
      "displayName": "Matthias Huebscher",
      "userId": "17596753721121631212"
     },
     "user_tz": -120
    },
    "id": "94e537c9-3a2a-4d2d-b282-63eebd2fa4c7",
    "outputId": "9c512739-a197-4d7c-cace-7344d79e9331"
   },
   "outputs": [
    {
     "name": "stdout",
     "output_type": "stream",
     "text": [
      "Begin Training\n",
      "Epoch: 0\n",
      "Loss: 2.586987  [   16/  711]\n",
      "Loss: 1.724248  [  176/  711]\n",
      "Loss: 1.847078  [  336/  711]\n",
      "Loss: 1.067451  [  496/  711]\n",
      "Loss: 0.702649  [  656/  711]\n",
      "Epoch: 1\n",
      "Loss: 1.087100  [   16/  711]\n",
      "Loss: 1.028741  [  176/  711]\n",
      "Loss: 0.616889  [  336/  711]\n",
      "Loss: 0.643309  [  496/  711]\n",
      "Loss: 0.463142  [  656/  711]\n",
      "Epoch: 2\n",
      "Loss: 0.230883  [   16/  711]\n",
      "Loss: 0.959985  [  176/  711]\n",
      "Loss: 0.806252  [  336/  711]\n",
      "Loss: 0.471388  [  496/  711]\n",
      "Loss: 0.368740  [  656/  711]\n",
      "Epoch: 3\n",
      "Loss: 0.475975  [   16/  711]\n",
      "Loss: 0.454128  [  176/  711]\n",
      "Loss: 0.263172  [  336/  711]\n",
      "Loss: 0.303269  [  496/  711]\n",
      "Loss: 0.253100  [  656/  711]\n",
      "Epoch: 4\n",
      "Loss: 0.242493  [   16/  711]\n",
      "Loss: 0.285210  [  176/  711]\n",
      "Loss: 0.344818  [  336/  711]\n",
      "Loss: 0.089949  [  496/  711]\n",
      "Loss: 0.393543  [  656/  711]\n",
      "Epoch: 5\n",
      "Loss: 0.107519  [   16/  711]\n",
      "Loss: 0.059222  [  176/  711]\n",
      "Loss: 0.121427  [  336/  711]\n",
      "Loss: 0.138285  [  496/  711]\n",
      "Loss: 0.445281  [  656/  711]\n",
      "Epoch: 6\n",
      "Loss: 0.175777  [   16/  711]\n",
      "Loss: 0.126261  [  176/  711]\n",
      "Loss: 0.438339  [  336/  711]\n",
      "Loss: 0.260588  [  496/  711]\n",
      "Loss: 0.141029  [  656/  711]\n",
      "Epoch: 7\n",
      "Loss: 0.226787  [   16/  711]\n",
      "Loss: 0.007988  [  176/  711]\n",
      "Loss: 0.330227  [  336/  711]\n",
      "Loss: 0.319570  [  496/  711]\n",
      "Loss: 0.103324  [  656/  711]\n",
      "Epoch: 8\n",
      "Loss: 0.033030  [   16/  711]\n",
      "Loss: 0.035728  [  176/  711]\n",
      "Loss: 0.155725  [  336/  711]\n",
      "Loss: 0.035138  [  496/  711]\n",
      "Loss: 0.140965  [  656/  711]\n",
      "Epoch: 9\n",
      "Loss: 0.395225  [   16/  711]\n",
      "Loss: 0.055522  [  176/  711]\n",
      "Loss: 0.098533  [  336/  711]\n",
      "Loss: 0.078144  [  496/  711]\n",
      "Loss: 0.488307  [  656/  711]\n",
      "Epoch: 10\n",
      "Loss: 0.025119  [   16/  711]\n",
      "Loss: 0.056043  [  176/  711]\n",
      "Loss: 0.231980  [  336/  711]\n",
      "Loss: 0.030397  [  496/  711]\n",
      "Loss: 0.233742  [  656/  711]\n",
      "Epoch: 11\n",
      "Loss: 0.016097  [   16/  711]\n",
      "Loss: 0.228742  [  176/  711]\n",
      "Loss: 0.023699  [  336/  711]\n",
      "Loss: 0.424706  [  496/  711]\n",
      "Loss: 0.036078  [  656/  711]\n",
      "Stop Training\n"
     ]
    }
   ],
   "source": [
    "print(\"Begin Training\")\n",
    "\n",
    "for epoch in range(n_epochs):\n",
    "    running_loss = 0.0\n",
    "    print(f\"Epoch: {epoch}\")\n",
    "    ms2_model.train_model(model, optimizer, loss_func, train_dataloader)\n",
    "\n",
    "print(\"Stop Training\")"
   ]
  },
  {
   "cell_type": "code",
   "execution_count": 1149,
   "id": "8ea465dc-688d-43ab-9cc2-51b96b9f2aca",
   "metadata": {
    "colab": {
     "base_uri": "https://localhost:8080/"
    },
    "executionInfo": {
     "elapsed": 588,
     "status": "ok",
     "timestamp": 1717533908847,
     "user": {
      "displayName": "Matthias Huebscher",
      "userId": "17596753721121631212"
     },
     "user_tz": -120
    },
    "id": "8ea465dc-688d-43ab-9cc2-51b96b9f2aca",
    "outputId": "3854051e-e1b9-4634-ab1e-03a7f7f15263"
   },
   "outputs": [
    {
     "name": "stdout",
     "output_type": "stream",
     "text": [
      "1.0575453713384506\n",
      "0.8285198555956679\n",
      "0.8610751759323593\n",
      "[0.85       1.         0.         0.38461538 0.         0.9\n",
      " 0.76923077 0.80952381 0.88888889 0.84615385 0.34285714 0.98176292\n",
      " 0.        ]\n",
      "[0.70833333 0.75              nan 0.3125            nan 0.5625\n",
      " 0.83333333 0.70833333 0.66666667 0.91666667 0.5        0.91242938\n",
      "        nan]\n"
     ]
    }
   ],
   "source": [
    "avg_loss, yhat_label = ms2_model.test_model(model, loss_func, test_dataloader)\n",
    "print(avg_loss)\n",
    "print(accuracy_score(y_label, yhat_label))\n",
    "print(f1_score(y_label, yhat_label, average=\"weighted\"))\n",
    "print(precision_score(y_label, yhat_label, average=None))\n",
    "print(recall_score(y_label, yhat_label, zero_division=np.nan, average=None))"
   ]
  },
  {
   "cell_type": "code",
   "execution_count": null,
   "id": "59b6c30b-ada5-4acf-b691-3051f660b0ba",
   "metadata": {
    "executionInfo": {
     "elapsed": 6,
     "status": "ok",
     "timestamp": 1717533908848,
     "user": {
      "displayName": "Matthias Huebscher",
      "userId": "17596753721121631212"
     },
     "user_tz": -120
    },
    "id": "59b6c30b-ada5-4acf-b691-3051f660b0ba"
   },
   "outputs": [],
   "source": []
  }
 ],
 "metadata": {
  "colab": {
   "provenance": []
  },
  "kernelspec": {
   "display_name": "ms2",
   "language": "python",
   "name": "ms2"
  },
  "language_info": {
   "codemirror_mode": {
    "name": "ipython",
    "version": 3
   },
   "file_extension": ".py",
   "mimetype": "text/x-python",
   "name": "python",
   "nbconvert_exporter": "python",
   "pygments_lexer": "ipython3",
   "version": "3.12.2"
  }
 },
 "nbformat": 4,
 "nbformat_minor": 5
}

{
 "cells": [
  {
   "cell_type": "code",
   "execution_count": 1,
   "id": "05428d56-c073-4267-8190-b57703c7c092",
   "metadata": {},
   "outputs": [],
   "source": [
    "import os\n",
    "import pandas as pd\n",
    "\n",
    "import torch\n",
    "import torch.nn as nn\n",
    "import torch.functional as F\n",
    "\n",
    "from sklearn.metrics import accuracy_score, f1_score, confusion_matrix, precision_score, recall_score, roc_auc_score\n",
    "from sklearn.metrics import RocCurveDisplay\n",
    "\n",
    "import matplotlib.pyplot as plt\n",
    "import seaborn"
   ]
  },
  {
   "cell_type": "code",
   "execution_count": 2,
   "id": "31f674bf-c92e-4a68-84c5-e592de47fe9b",
   "metadata": {},
   "outputs": [],
   "source": [
    "class Net256(nn.Module):\n",
    "    def __init__(self, n_classes):\n",
    "        super(Net256, self).__init__()\n",
    "\n",
    "        # input layer takes the first 256 principal components \n",
    "        self.lin_in = nn.Linear(256, 256)\n",
    "        self.bn1 = nn.BatchNorm1d(256)\n",
    "        self.relu1 = nn.ReLU()\n",
    "\n",
    "        # 1. hidden layer\n",
    "        self.hidden1 = nn.Linear(256, 128)\n",
    "        self.bn2 = nn.BatchNorm1d(128)\n",
    "        self.relu2 = nn.ReLU()\n",
    "\n",
    "        # 2. hidden layer\n",
    "        self.hidden2 = nn.Linear(128, 64)\n",
    "        self.bn3 = nn.BatchNorm1d(64)\n",
    "        self.relu3 = nn.ReLU()\n",
    "\n",
    "        # output layer\n",
    "        self.lin_out = nn.Linear(64, n_classes)\n",
    "\n",
    "    def forward(self, x):\n",
    "        # input layer\n",
    "        x = self.relu1(self.bn1(self.lin_in(x)))\n",
    "\n",
    "        # first hidden layer\n",
    "        x = self.relu2(self.bn2(self.hidden1(x)))\n",
    "\n",
    "        # second hidden layer\n",
    "        x = self.relu3(self.bn3(self.hidden2(x)))\n",
    "\n",
    "        # output layer. We don't add a softmax layer because we weill use\n",
    "        # cross entropy loss as a loss funtion\n",
    "        out = self.lin_out(x)\n",
    "\n",
    "        return out"
   ]
  },
  {
   "cell_type": "code",
   "execution_count": 17,
   "id": "5fbc8210-c3c2-437b-9807-dbe7873b524d",
   "metadata": {},
   "outputs": [
    {
     "name": "stdout",
     "output_type": "stream",
     "text": [
      "Using device: cpu\n"
     ]
    }
   ],
   "source": [
    "random_state = 764\n",
    "n_classes = 12 # number of MoA\n",
    "\n",
    "learning_rate = 1e-4\n",
    "n_epochs = 10\n",
    "batch_size = 32\n",
    "chunk_print = 200\n",
    "\n",
    "device = torch.device(\"cuda\" if torch.cuda.is_available() else \"cpu\")\n",
    "print(f\"Using device: {device}\")"
   ]
  },
  {
   "cell_type": "code",
   "execution_count": 4,
   "id": "31faebe4-57e1-426c-be2b-8c0e39b0b43e",
   "metadata": {},
   "outputs": [
    {
     "name": "stdout",
     "output_type": "stream",
     "text": [
      "Net256(\n",
      "  (lin_in): Linear(in_features=256, out_features=256, bias=True)\n",
      "  (bn1): BatchNorm1d(256, eps=1e-05, momentum=0.1, affine=True, track_running_stats=True)\n",
      "  (relu1): ReLU()\n",
      "  (hidden1): Linear(in_features=256, out_features=128, bias=True)\n",
      "  (bn2): BatchNorm1d(128, eps=1e-05, momentum=0.1, affine=True, track_running_stats=True)\n",
      "  (relu2): ReLU()\n",
      "  (hidden2): Linear(in_features=128, out_features=64, bias=True)\n",
      "  (bn3): BatchNorm1d(64, eps=1e-05, momentum=0.1, affine=True, track_running_stats=True)\n",
      "  (relu3): ReLU()\n",
      "  (lin_out): Linear(in_features=64, out_features=12, bias=True)\n",
      ")\n"
     ]
    }
   ],
   "source": [
    "model = Net256(n_classes)\n",
    "print(model)"
   ]
  },
  {
   "cell_type": "code",
   "execution_count": 5,
   "id": "01a46a65-000d-4bb6-97a2-fa54584b7af0",
   "metadata": {},
   "outputs": [
    {
     "name": "stderr",
     "output_type": "stream",
     "text": [
      "/home/mhuebsch/.conda/envs/ms2/lib/python3.12/site-packages/torch/cuda/__init__.py:619: UserWarning: Can't initialize NVML\n",
      "  warnings.warn(\"Can't initialize NVML\")\n"
     ]
    }
   ],
   "source": [
    "# using cross entropy loss for multiclass classification\n",
    "loss_func = nn.CrossEntropyLoss()\n",
    "\n",
    "# use Adam as optimizer for this NN\n",
    "optimizer = torch.optim.Adam(model.parameters(), foreach=True, lr=learning_rate)"
   ]
  },
  {
   "cell_type": "code",
   "execution_count": 16,
   "id": "27ff2559-98e1-442f-9c7e-696fe95bf6c8",
   "metadata": {},
   "outputs": [],
   "source": [
    "# emb_vec = torch.rand(32, 256)\n",
    "# result = model(emb_vec)\n",
    "# print(result)"
   ]
  },
  {
   "cell_type": "code",
   "execution_count": null,
   "id": "94e537c9-3a2a-4d2d-b282-63eebd2fa4c7",
   "metadata": {},
   "outputs": [],
   "source": [
    "print(\"Begin Training\")\n",
    "\n",
    "model.train()\n",
    "for epoch in range(n_epochs):\n",
    "    running_loss = 0.0\n",
    "\n",
    "    # output = model(input)\n",
    "    optimizer.zero_grad()\n",
    "    loss = loss_func(output, labels)\n",
    "    loss.backward()\n",
    "    optimizer.step()\n",
    "\n",
    "    running_loss += loss.item()\n",
    "    \n",
    "    if (i+1) % chunk_print == 0:\n",
    "      print(f\"Epoch [{epoch+1}/{n_epochs}], Step [{i+1}/{len(ds_train)//batch_size}], Loss: {running_loss/chunk_print}\")\n",
    "      running_loss = 0.0\n",
    "\n",
    "\n",
    "print(\"Stop Training\")"
   ]
  }
 ],
 "metadata": {
  "kernelspec": {
   "display_name": "ms2",
   "language": "python",
   "name": "ms2"
  },
  "language_info": {
   "codemirror_mode": {
    "name": "ipython",
    "version": 3
   },
   "file_extension": ".py",
   "mimetype": "text/x-python",
   "name": "python",
   "nbconvert_exporter": "python",
   "pygments_lexer": "ipython3",
   "version": "3.12.2"
  }
 },
 "nbformat": 4,
 "nbformat_minor": 5
}
